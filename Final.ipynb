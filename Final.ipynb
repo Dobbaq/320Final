{
 "cells": [
  {
   "cell_type": "markdown",
   "id": "rural-gibson",
   "metadata": {},
   "source": [
    "# Baltimore Crime Data\n",
    "## Jake Belden\n",
    " \n",
    "In this project we will visualize and model crime data from the city of Baltimore using Python and some of its public packages and Baltimore Police Departments public arrest data spanning from the years 2016 to 2021. Whilst learning more about data science and how we can use data science to make more informed decisions."
   ]
  },
  {
   "cell_type": "code",
   "execution_count": 3,
   "id": "loving-timeline",
   "metadata": {},
   "outputs": [
    {
     "name": "stdout",
     "output_type": "stream",
     "text": [
      "Requirement already satisfied: folium in /opt/conda/lib/python3.8/site-packages (0.12.1)\n",
      "Requirement already satisfied: jinja2>=2.9 in /opt/conda/lib/python3.8/site-packages (from folium) (2.11.2)\n",
      "Requirement already satisfied: numpy in /opt/conda/lib/python3.8/site-packages (from folium) (1.19.5)\n",
      "Requirement already satisfied: branca>=0.3.0 in /opt/conda/lib/python3.8/site-packages (from folium) (0.4.2)\n",
      "Requirement already satisfied: requests in /opt/conda/lib/python3.8/site-packages (from folium) (2.25.1)\n",
      "Requirement already satisfied: MarkupSafe>=0.23 in /opt/conda/lib/python3.8/site-packages (from jinja2>=2.9->folium) (1.1.1)\n",
      "Requirement already satisfied: chardet<5,>=3.0.2 in /opt/conda/lib/python3.8/site-packages (from requests->folium) (4.0.0)\n",
      "Requirement already satisfied: urllib3<1.27,>=1.21.1 in /opt/conda/lib/python3.8/site-packages (from requests->folium) (1.26.2)\n",
      "Requirement already satisfied: idna<3,>=2.5 in /opt/conda/lib/python3.8/site-packages (from requests->folium) (2.10)\n",
      "Requirement already satisfied: certifi>=2017.4.17 in /opt/conda/lib/python3.8/site-packages (from requests->folium) (2020.12.5)\n",
      "Requirement already satisfied: sklearn in /opt/conda/lib/python3.8/site-packages (0.0)\n",
      "Requirement already satisfied: scikit-learn in /opt/conda/lib/python3.8/site-packages (from sklearn) (0.24.0)\n",
      "Requirement already satisfied: scipy>=0.19.1 in /opt/conda/lib/python3.8/site-packages (from scikit-learn->sklearn) (1.5.3)\n",
      "Requirement already satisfied: joblib>=0.11 in /opt/conda/lib/python3.8/site-packages (from scikit-learn->sklearn) (1.0.0)\n",
      "Requirement already satisfied: threadpoolctl>=2.0.0 in /opt/conda/lib/python3.8/site-packages (from scikit-learn->sklearn) (2.1.0)\n",
      "Requirement already satisfied: numpy>=1.13.3 in /opt/conda/lib/python3.8/site-packages (from scikit-learn->sklearn) (1.19.5)\n"
     ]
    }
   ],
   "source": [
    "# install our packages\n",
    "!pip install folium\n",
    "!pip install sklearn\n",
    "import folium\n",
    "import requests\n",
    "import pandas as pd\n",
    "import numpy as np\n",
    "from matplotlib import pyplot as plt \n",
    "from sklearn.cluster import KMeans\n",
    "from sklearn.metrics import silhouette_score\n",
    "from sklearn.preprocessing import StandardScaler"
   ]
  },
  {
   "cell_type": "code",
   "execution_count": 4,
   "id": "metropolitan-bristol",
   "metadata": {},
   "outputs": [
    {
     "data": {
      "text/html": [
       "<div>\n",
       "<style scoped>\n",
       "    .dataframe tbody tr th:only-of-type {\n",
       "        vertical-align: middle;\n",
       "    }\n",
       "\n",
       "    .dataframe tbody tr th {\n",
       "        vertical-align: top;\n",
       "    }\n",
       "\n",
       "    .dataframe thead th {\n",
       "        text-align: right;\n",
       "    }\n",
       "</style>\n",
       "<table border=\"1\" class=\"dataframe\">\n",
       "  <thead>\n",
       "    <tr style=\"text-align: right;\">\n",
       "      <th></th>\n",
       "      <th>X</th>\n",
       "      <th>Y</th>\n",
       "      <th>RowID</th>\n",
       "      <th>CrimeDateTime</th>\n",
       "      <th>CrimeCode</th>\n",
       "      <th>Location</th>\n",
       "      <th>Description</th>\n",
       "      <th>Inside_Outside</th>\n",
       "      <th>Weapon</th>\n",
       "      <th>Post</th>\n",
       "      <th>District</th>\n",
       "      <th>Neighborhood</th>\n",
       "      <th>Latitude</th>\n",
       "      <th>Longitude</th>\n",
       "      <th>GeoLocation</th>\n",
       "      <th>Premise</th>\n",
       "      <th>VRIName</th>\n",
       "      <th>Total_Incidents</th>\n",
       "      <th>Shape</th>\n",
       "    </tr>\n",
       "  </thead>\n",
       "  <tbody>\n",
       "    <tr>\n",
       "      <th>0</th>\n",
       "      <td>1.399884e+06</td>\n",
       "      <td>605849.159628</td>\n",
       "      <td>1</td>\n",
       "      <td>2021/12/11 09:56:00+00</td>\n",
       "      <td>4E</td>\n",
       "      <td>4300 LIBERTY HEIGHTS AVE</td>\n",
       "      <td>COMMON ASSAULT</td>\n",
       "      <td>NaN</td>\n",
       "      <td>NaN</td>\n",
       "      <td>621</td>\n",
       "      <td>NORTHWEST</td>\n",
       "      <td>DORCHESTER</td>\n",
       "      <td>39.3298</td>\n",
       "      <td>-76.6905</td>\n",
       "      <td>(39.3298,-76.6905)</td>\n",
       "      <td>NaN</td>\n",
       "      <td>NaN</td>\n",
       "      <td>1</td>\n",
       "      <td>NaN</td>\n",
       "    </tr>\n",
       "    <tr>\n",
       "      <th>1</th>\n",
       "      <td>1.420074e+06</td>\n",
       "      <td>594160.602355</td>\n",
       "      <td>2</td>\n",
       "      <td>2021/12/11 07:30:00+00</td>\n",
       "      <td>4E</td>\n",
       "      <td>200 W MONUMENT ST</td>\n",
       "      <td>COMMON ASSAULT</td>\n",
       "      <td>NaN</td>\n",
       "      <td>NaN</td>\n",
       "      <td>124</td>\n",
       "      <td>CENTRAL</td>\n",
       "      <td>MOUNT VERNON</td>\n",
       "      <td>39.2975</td>\n",
       "      <td>-76.6193</td>\n",
       "      <td>(39.2975,-76.6193)</td>\n",
       "      <td>NaN</td>\n",
       "      <td>NaN</td>\n",
       "      <td>1</td>\n",
       "      <td>NaN</td>\n",
       "    </tr>\n",
       "    <tr>\n",
       "      <th>2</th>\n",
       "      <td>1.432217e+06</td>\n",
       "      <td>593777.010712</td>\n",
       "      <td>3</td>\n",
       "      <td>2021/12/11 10:15:00+00</td>\n",
       "      <td>3N</td>\n",
       "      <td>400 N LINWOOD AVE</td>\n",
       "      <td>ROBBERY - STREET</td>\n",
       "      <td>NaN</td>\n",
       "      <td>OTHER</td>\n",
       "      <td>221</td>\n",
       "      <td>SOUTHEAST</td>\n",
       "      <td>ELLWOOD PARK/MONUMENT</td>\n",
       "      <td>39.2963</td>\n",
       "      <td>-76.5764</td>\n",
       "      <td>(39.2963,-76.5764)</td>\n",
       "      <td>NaN</td>\n",
       "      <td>NaN</td>\n",
       "      <td>1</td>\n",
       "      <td>NaN</td>\n",
       "    </tr>\n",
       "    <tr>\n",
       "      <th>3</th>\n",
       "      <td>1.434982e+06</td>\n",
       "      <td>601511.847421</td>\n",
       "      <td>4</td>\n",
       "      <td>2021/12/11 21:05:00+00</td>\n",
       "      <td>4E</td>\n",
       "      <td>3700 ELMLEY AVE</td>\n",
       "      <td>COMMON ASSAULT</td>\n",
       "      <td>NaN</td>\n",
       "      <td>NaN</td>\n",
       "      <td>432</td>\n",
       "      <td>NORTHEAST</td>\n",
       "      <td>BELAIR-EDISON</td>\n",
       "      <td>39.3175</td>\n",
       "      <td>-76.5665</td>\n",
       "      <td>(39.3175,-76.5665)</td>\n",
       "      <td>NaN</td>\n",
       "      <td>NaN</td>\n",
       "      <td>1</td>\n",
       "      <td>NaN</td>\n",
       "    </tr>\n",
       "    <tr>\n",
       "      <th>4</th>\n",
       "      <td>1.414038e+06</td>\n",
       "      <td>589000.414832</td>\n",
       "      <td>5</td>\n",
       "      <td>2021/12/11 22:30:00+00</td>\n",
       "      <td>4E</td>\n",
       "      <td>1500 RAMSAY ST</td>\n",
       "      <td>COMMON ASSAULT</td>\n",
       "      <td>NaN</td>\n",
       "      <td>NaN</td>\n",
       "      <td>935</td>\n",
       "      <td>SOUTHERN</td>\n",
       "      <td>NEW SOUTHWEST/MOUNT CLARE</td>\n",
       "      <td>39.2834</td>\n",
       "      <td>-76.6407</td>\n",
       "      <td>(39.2834,-76.6407)</td>\n",
       "      <td>NaN</td>\n",
       "      <td>Tri-District</td>\n",
       "      <td>1</td>\n",
       "      <td>NaN</td>\n",
       "    </tr>\n",
       "  </tbody>\n",
       "</table>\n",
       "</div>"
      ],
      "text/plain": [
       "              X              Y  RowID           CrimeDateTime CrimeCode  \\\n",
       "0  1.399884e+06  605849.159628      1  2021/12/11 09:56:00+00        4E   \n",
       "1  1.420074e+06  594160.602355      2  2021/12/11 07:30:00+00        4E   \n",
       "2  1.432217e+06  593777.010712      3  2021/12/11 10:15:00+00        3N   \n",
       "3  1.434982e+06  601511.847421      4  2021/12/11 21:05:00+00        4E   \n",
       "4  1.414038e+06  589000.414832      5  2021/12/11 22:30:00+00        4E   \n",
       "\n",
       "                   Location       Description Inside_Outside Weapon Post  \\\n",
       "0  4300 LIBERTY HEIGHTS AVE    COMMON ASSAULT            NaN    NaN  621   \n",
       "1         200 W MONUMENT ST    COMMON ASSAULT            NaN    NaN  124   \n",
       "2         400 N LINWOOD AVE  ROBBERY - STREET            NaN  OTHER  221   \n",
       "3           3700 ELMLEY AVE    COMMON ASSAULT            NaN    NaN  432   \n",
       "4            1500 RAMSAY ST    COMMON ASSAULT            NaN    NaN  935   \n",
       "\n",
       "    District               Neighborhood  Latitude  Longitude  \\\n",
       "0  NORTHWEST                 DORCHESTER   39.3298   -76.6905   \n",
       "1    CENTRAL               MOUNT VERNON   39.2975   -76.6193   \n",
       "2  SOUTHEAST      ELLWOOD PARK/MONUMENT   39.2963   -76.5764   \n",
       "3  NORTHEAST              BELAIR-EDISON   39.3175   -76.5665   \n",
       "4   SOUTHERN  NEW SOUTHWEST/MOUNT CLARE   39.2834   -76.6407   \n",
       "\n",
       "          GeoLocation Premise       VRIName  Total_Incidents  Shape  \n",
       "0  (39.3298,-76.6905)     NaN           NaN                1    NaN  \n",
       "1  (39.2975,-76.6193)     NaN           NaN                1    NaN  \n",
       "2  (39.2963,-76.5764)     NaN           NaN                1    NaN  \n",
       "3  (39.3175,-76.5665)     NaN           NaN                1    NaN  \n",
       "4  (39.2834,-76.6407)     NaN  Tri-District                1    NaN  "
      ]
     },
     "execution_count": 4,
     "metadata": {},
     "output_type": "execute_result"
    }
   ],
   "source": [
    "# create our dataframe for the Baltimore arrest data.\n",
    "arrest_table = pd.read_csv(\"Part1_Crime_data.csv\")\n",
    "\n",
    "# Lets take a look at our dataframe in its current state\n",
    "arrest_table.head()"
   ]
  },
  {
   "cell_type": "markdown",
   "id": "powered-calibration",
   "metadata": {},
   "source": [
    "As we look at our new data frame, we can see it is kinda messy and is carrying a lot of infromation we will not use, so let's clean it up a bit."
   ]
  },
  {
   "cell_type": "code",
   "execution_count": 5,
   "id": "seven-receipt",
   "metadata": {},
   "outputs": [],
   "source": [
    "# Get rid of any unwanted columns\n",
    "arrest_table.drop(columns = ['RowID','Inside_Outside','Weapon', 'Premise', 'VRIName', 'Shape', 'Total_Incidents', 'X', 'Y'], inplace = True)"
   ]
  },
  {
   "cell_type": "code",
   "execution_count": 6,
   "id": "naughty-model",
   "metadata": {},
   "outputs": [],
   "source": [
    "# Drop anything with the value 'NaN' in our table\n",
    "arrest_table.dropna(inplace=True)"
   ]
  },
  {
   "cell_type": "code",
   "execution_count": 7,
   "id": "respective-screening",
   "metadata": {},
   "outputs": [
    {
     "data": {
      "text/html": [
       "<div>\n",
       "<style scoped>\n",
       "    .dataframe tbody tr th:only-of-type {\n",
       "        vertical-align: middle;\n",
       "    }\n",
       "\n",
       "    .dataframe tbody tr th {\n",
       "        vertical-align: top;\n",
       "    }\n",
       "\n",
       "    .dataframe thead th {\n",
       "        text-align: right;\n",
       "    }\n",
       "</style>\n",
       "<table border=\"1\" class=\"dataframe\">\n",
       "  <thead>\n",
       "    <tr style=\"text-align: right;\">\n",
       "      <th></th>\n",
       "      <th>CrimeDateTime</th>\n",
       "      <th>CrimeCode</th>\n",
       "      <th>Location</th>\n",
       "      <th>Description</th>\n",
       "      <th>Post</th>\n",
       "      <th>District</th>\n",
       "      <th>Neighborhood</th>\n",
       "      <th>Latitude</th>\n",
       "      <th>Longitude</th>\n",
       "      <th>GeoLocation</th>\n",
       "    </tr>\n",
       "  </thead>\n",
       "  <tbody>\n",
       "    <tr>\n",
       "      <th>0</th>\n",
       "      <td>2021/12/11 09:56:00+00</td>\n",
       "      <td>4E</td>\n",
       "      <td>4300 LIBERTY HEIGHTS AVE</td>\n",
       "      <td>COMMON ASSAULT</td>\n",
       "      <td>621</td>\n",
       "      <td>NORTHWEST</td>\n",
       "      <td>DORCHESTER</td>\n",
       "      <td>39.3298</td>\n",
       "      <td>-76.6905</td>\n",
       "      <td>(39.3298,-76.6905)</td>\n",
       "    </tr>\n",
       "    <tr>\n",
       "      <th>1</th>\n",
       "      <td>2021/12/11 07:30:00+00</td>\n",
       "      <td>4E</td>\n",
       "      <td>200 W MONUMENT ST</td>\n",
       "      <td>COMMON ASSAULT</td>\n",
       "      <td>124</td>\n",
       "      <td>CENTRAL</td>\n",
       "      <td>MOUNT VERNON</td>\n",
       "      <td>39.2975</td>\n",
       "      <td>-76.6193</td>\n",
       "      <td>(39.2975,-76.6193)</td>\n",
       "    </tr>\n",
       "    <tr>\n",
       "      <th>2</th>\n",
       "      <td>2021/12/11 10:15:00+00</td>\n",
       "      <td>3N</td>\n",
       "      <td>400 N LINWOOD AVE</td>\n",
       "      <td>ROBBERY - STREET</td>\n",
       "      <td>221</td>\n",
       "      <td>SOUTHEAST</td>\n",
       "      <td>ELLWOOD PARK/MONUMENT</td>\n",
       "      <td>39.2963</td>\n",
       "      <td>-76.5764</td>\n",
       "      <td>(39.2963,-76.5764)</td>\n",
       "    </tr>\n",
       "    <tr>\n",
       "      <th>3</th>\n",
       "      <td>2021/12/11 21:05:00+00</td>\n",
       "      <td>4E</td>\n",
       "      <td>3700 ELMLEY AVE</td>\n",
       "      <td>COMMON ASSAULT</td>\n",
       "      <td>432</td>\n",
       "      <td>NORTHEAST</td>\n",
       "      <td>BELAIR-EDISON</td>\n",
       "      <td>39.3175</td>\n",
       "      <td>-76.5665</td>\n",
       "      <td>(39.3175,-76.5665)</td>\n",
       "    </tr>\n",
       "    <tr>\n",
       "      <th>4</th>\n",
       "      <td>2021/12/11 22:30:00+00</td>\n",
       "      <td>4E</td>\n",
       "      <td>1500 RAMSAY ST</td>\n",
       "      <td>COMMON ASSAULT</td>\n",
       "      <td>935</td>\n",
       "      <td>SOUTHERN</td>\n",
       "      <td>NEW SOUTHWEST/MOUNT CLARE</td>\n",
       "      <td>39.2834</td>\n",
       "      <td>-76.6407</td>\n",
       "      <td>(39.2834,-76.6407)</td>\n",
       "    </tr>\n",
       "    <tr>\n",
       "      <th>...</th>\n",
       "      <td>...</td>\n",
       "      <td>...</td>\n",
       "      <td>...</td>\n",
       "      <td>...</td>\n",
       "      <td>...</td>\n",
       "      <td>...</td>\n",
       "      <td>...</td>\n",
       "      <td>...</td>\n",
       "      <td>...</td>\n",
       "      <td>...</td>\n",
       "    </tr>\n",
       "    <tr>\n",
       "      <th>265921</th>\n",
       "      <td>2016/01/01 00:00:00+00</td>\n",
       "      <td>4E</td>\n",
       "      <td>200 SAINT PAUL ST</td>\n",
       "      <td>COMMON ASSAULT</td>\n",
       "      <td>111</td>\n",
       "      <td>CENTRAL</td>\n",
       "      <td>DOWNTOWN</td>\n",
       "      <td>39.2921</td>\n",
       "      <td>-76.6135</td>\n",
       "      <td>(39.2921,-76.6135)</td>\n",
       "    </tr>\n",
       "    <tr>\n",
       "      <th>265922</th>\n",
       "      <td>2016/01/01 02:00:00+00</td>\n",
       "      <td>4E</td>\n",
       "      <td>700 BROADWAY</td>\n",
       "      <td>COMMON ASSAULT</td>\n",
       "      <td>213</td>\n",
       "      <td>SOUTHEAST</td>\n",
       "      <td>FELLS POINT</td>\n",
       "      <td>39.2835</td>\n",
       "      <td>-76.5936</td>\n",
       "      <td>(39.2835,-76.5936)</td>\n",
       "    </tr>\n",
       "    <tr>\n",
       "      <th>265923</th>\n",
       "      <td>2016/01/01 15:15:00+00</td>\n",
       "      <td>4E</td>\n",
       "      <td>1500 LOCHWOOD RD</td>\n",
       "      <td>COMMON ASSAULT</td>\n",
       "      <td>412</td>\n",
       "      <td>NORTHEAST</td>\n",
       "      <td>HILLEN</td>\n",
       "      <td>39.3426</td>\n",
       "      <td>-76.5915</td>\n",
       "      <td>(39.3426,-76.5915)</td>\n",
       "    </tr>\n",
       "    <tr>\n",
       "      <th>265924</th>\n",
       "      <td>2016/01/01 22:15:00+00</td>\n",
       "      <td>7A</td>\n",
       "      <td>3800 9TH ST</td>\n",
       "      <td>AUTO THEFT</td>\n",
       "      <td>913</td>\n",
       "      <td>SOUTHERN</td>\n",
       "      <td>BROOKLYN</td>\n",
       "      <td>39.2329</td>\n",
       "      <td>-76.5988</td>\n",
       "      <td>(39.2329,-76.5988)</td>\n",
       "    </tr>\n",
       "    <tr>\n",
       "      <th>265925</th>\n",
       "      <td>2016/01/01 20:55:00+00</td>\n",
       "      <td>3B</td>\n",
       "      <td>200 W 29TH ST</td>\n",
       "      <td>ROBBERY - STREET</td>\n",
       "      <td>511</td>\n",
       "      <td>NORTHERN</td>\n",
       "      <td>REMINGTON</td>\n",
       "      <td>39.3226</td>\n",
       "      <td>-76.6214</td>\n",
       "      <td>(39.3226,-76.6214)</td>\n",
       "    </tr>\n",
       "  </tbody>\n",
       "</table>\n",
       "<p>263944 rows × 10 columns</p>\n",
       "</div>"
      ],
      "text/plain": [
       "                 CrimeDateTime CrimeCode                  Location  \\\n",
       "0       2021/12/11 09:56:00+00        4E  4300 LIBERTY HEIGHTS AVE   \n",
       "1       2021/12/11 07:30:00+00        4E         200 W MONUMENT ST   \n",
       "2       2021/12/11 10:15:00+00        3N         400 N LINWOOD AVE   \n",
       "3       2021/12/11 21:05:00+00        4E           3700 ELMLEY AVE   \n",
       "4       2021/12/11 22:30:00+00        4E            1500 RAMSAY ST   \n",
       "...                        ...       ...                       ...   \n",
       "265921  2016/01/01 00:00:00+00        4E         200 SAINT PAUL ST   \n",
       "265922  2016/01/01 02:00:00+00        4E              700 BROADWAY   \n",
       "265923  2016/01/01 15:15:00+00        4E          1500 LOCHWOOD RD   \n",
       "265924  2016/01/01 22:15:00+00        7A               3800 9TH ST   \n",
       "265925  2016/01/01 20:55:00+00        3B             200 W 29TH ST   \n",
       "\n",
       "             Description Post   District               Neighborhood  Latitude  \\\n",
       "0         COMMON ASSAULT  621  NORTHWEST                 DORCHESTER   39.3298   \n",
       "1         COMMON ASSAULT  124    CENTRAL               MOUNT VERNON   39.2975   \n",
       "2       ROBBERY - STREET  221  SOUTHEAST      ELLWOOD PARK/MONUMENT   39.2963   \n",
       "3         COMMON ASSAULT  432  NORTHEAST              BELAIR-EDISON   39.3175   \n",
       "4         COMMON ASSAULT  935   SOUTHERN  NEW SOUTHWEST/MOUNT CLARE   39.2834   \n",
       "...                  ...  ...        ...                        ...       ...   \n",
       "265921    COMMON ASSAULT  111    CENTRAL                   DOWNTOWN   39.2921   \n",
       "265922    COMMON ASSAULT  213  SOUTHEAST                FELLS POINT   39.2835   \n",
       "265923    COMMON ASSAULT  412  NORTHEAST                     HILLEN   39.3426   \n",
       "265924        AUTO THEFT  913   SOUTHERN                   BROOKLYN   39.2329   \n",
       "265925  ROBBERY - STREET  511   NORTHERN                  REMINGTON   39.3226   \n",
       "\n",
       "        Longitude         GeoLocation  \n",
       "0        -76.6905  (39.3298,-76.6905)  \n",
       "1        -76.6193  (39.2975,-76.6193)  \n",
       "2        -76.5764  (39.2963,-76.5764)  \n",
       "3        -76.5665  (39.3175,-76.5665)  \n",
       "4        -76.6407  (39.2834,-76.6407)  \n",
       "...           ...                 ...  \n",
       "265921   -76.6135  (39.2921,-76.6135)  \n",
       "265922   -76.5936  (39.2835,-76.5936)  \n",
       "265923   -76.5915  (39.3426,-76.5915)  \n",
       "265924   -76.5988  (39.2329,-76.5988)  \n",
       "265925   -76.6214  (39.3226,-76.6214)  \n",
       "\n",
       "[263944 rows x 10 columns]"
      ]
     },
     "execution_count": 7,
     "metadata": {},
     "output_type": "execute_result"
    }
   ],
   "source": [
    "# Lets take a look at our dataframe in its current state\n",
    "arrest_table"
   ]
  },
  {
   "cell_type": "markdown",
   "id": "internal-letter",
   "metadata": {},
   "source": [
    "Yep that is looking much better now!"
   ]
  },
  {
   "cell_type": "markdown",
   "id": "recorded-stranger",
   "metadata": {},
   "source": [
    "We can use folium to create a map, lets make a map of baltimore to help visulaize some of this arrest data. We will define our map as being constrained within the coordinates 39.29, -76.61 with a zoom level of 11.\n",
    "\n",
    "For further reading our folium and its features I would reccomend checking out the official site for the library and the library's documentation, https://python-visualization.github.io/folium/modules.html"
   ]
  },
  {
   "cell_type": "code",
   "execution_count": 50,
   "id": "tender-zealand",
   "metadata": {},
   "outputs": [
    {
     "data": {
      "text/html": [
       "<div style=\"width:100%;\"><div style=\"position:relative;width:100%;height:0;padding-bottom:60%;\"><span style=\"color:#565656\">Make this Notebook Trusted to load map: File -> Trust Notebook</span><iframe src=\"about:blank\" style=\"position:absolute;width:100%;height:100%;left:0;top:0;border:none !important;\" data-html=%3C%21DOCTYPE%20html%3E%0A%3Chead%3E%20%20%20%20%0A%20%20%20%20%3Cmeta%20http-equiv%3D%22content-type%22%20content%3D%22text/html%3B%20charset%3DUTF-8%22%20/%3E%0A%20%20%20%20%0A%20%20%20%20%20%20%20%20%3Cscript%3E%0A%20%20%20%20%20%20%20%20%20%20%20%20L_NO_TOUCH%20%3D%20false%3B%0A%20%20%20%20%20%20%20%20%20%20%20%20L_DISABLE_3D%20%3D%20false%3B%0A%20%20%20%20%20%20%20%20%3C/script%3E%0A%20%20%20%20%0A%20%20%20%20%3Cstyle%3Ehtml%2C%20body%20%7Bwidth%3A%20100%25%3Bheight%3A%20100%25%3Bmargin%3A%200%3Bpadding%3A%200%3B%7D%3C/style%3E%0A%20%20%20%20%3Cstyle%3E%23map%20%7Bposition%3Aabsolute%3Btop%3A0%3Bbottom%3A0%3Bright%3A0%3Bleft%3A0%3B%7D%3C/style%3E%0A%20%20%20%20%3Cscript%20src%3D%22https%3A//cdn.jsdelivr.net/npm/leaflet%401.6.0/dist/leaflet.js%22%3E%3C/script%3E%0A%20%20%20%20%3Cscript%20src%3D%22https%3A//code.jquery.com/jquery-1.12.4.min.js%22%3E%3C/script%3E%0A%20%20%20%20%3Cscript%20src%3D%22https%3A//maxcdn.bootstrapcdn.com/bootstrap/3.2.0/js/bootstrap.min.js%22%3E%3C/script%3E%0A%20%20%20%20%3Cscript%20src%3D%22https%3A//cdnjs.cloudflare.com/ajax/libs/Leaflet.awesome-markers/2.0.2/leaflet.awesome-markers.js%22%3E%3C/script%3E%0A%20%20%20%20%3Clink%20rel%3D%22stylesheet%22%20href%3D%22https%3A//cdn.jsdelivr.net/npm/leaflet%401.6.0/dist/leaflet.css%22/%3E%0A%20%20%20%20%3Clink%20rel%3D%22stylesheet%22%20href%3D%22https%3A//maxcdn.bootstrapcdn.com/bootstrap/3.2.0/css/bootstrap.min.css%22/%3E%0A%20%20%20%20%3Clink%20rel%3D%22stylesheet%22%20href%3D%22https%3A//maxcdn.bootstrapcdn.com/bootstrap/3.2.0/css/bootstrap-theme.min.css%22/%3E%0A%20%20%20%20%3Clink%20rel%3D%22stylesheet%22%20href%3D%22https%3A//maxcdn.bootstrapcdn.com/font-awesome/4.6.3/css/font-awesome.min.css%22/%3E%0A%20%20%20%20%3Clink%20rel%3D%22stylesheet%22%20href%3D%22https%3A//cdnjs.cloudflare.com/ajax/libs/Leaflet.awesome-markers/2.0.2/leaflet.awesome-markers.css%22/%3E%0A%20%20%20%20%3Clink%20rel%3D%22stylesheet%22%20href%3D%22https%3A//cdn.jsdelivr.net/gh/python-visualization/folium/folium/templates/leaflet.awesome.rotate.min.css%22/%3E%0A%20%20%20%20%0A%20%20%20%20%20%20%20%20%20%20%20%20%3Cmeta%20name%3D%22viewport%22%20content%3D%22width%3Ddevice-width%2C%0A%20%20%20%20%20%20%20%20%20%20%20%20%20%20%20%20initial-scale%3D1.0%2C%20maximum-scale%3D1.0%2C%20user-scalable%3Dno%22%20/%3E%0A%20%20%20%20%20%20%20%20%20%20%20%20%3Cstyle%3E%0A%20%20%20%20%20%20%20%20%20%20%20%20%20%20%20%20%23map_a60d7c95ed7e499fbc577e6f8039e69e%20%7B%0A%20%20%20%20%20%20%20%20%20%20%20%20%20%20%20%20%20%20%20%20position%3A%20relative%3B%0A%20%20%20%20%20%20%20%20%20%20%20%20%20%20%20%20%20%20%20%20width%3A%20100.0%25%3B%0A%20%20%20%20%20%20%20%20%20%20%20%20%20%20%20%20%20%20%20%20height%3A%20100.0%25%3B%0A%20%20%20%20%20%20%20%20%20%20%20%20%20%20%20%20%20%20%20%20left%3A%200.0%25%3B%0A%20%20%20%20%20%20%20%20%20%20%20%20%20%20%20%20%20%20%20%20top%3A%200.0%25%3B%0A%20%20%20%20%20%20%20%20%20%20%20%20%20%20%20%20%7D%0A%20%20%20%20%20%20%20%20%20%20%20%20%3C/style%3E%0A%20%20%20%20%20%20%20%20%0A%3C/head%3E%0A%3Cbody%3E%20%20%20%20%0A%20%20%20%20%0A%20%20%20%20%20%20%20%20%20%20%20%20%3Cdiv%20class%3D%22folium-map%22%20id%3D%22map_a60d7c95ed7e499fbc577e6f8039e69e%22%20%3E%3C/div%3E%0A%20%20%20%20%20%20%20%20%0A%3C/body%3E%0A%3Cscript%3E%20%20%20%20%0A%20%20%20%20%0A%20%20%20%20%20%20%20%20%20%20%20%20var%20map_a60d7c95ed7e499fbc577e6f8039e69e%20%3D%20L.map%28%0A%20%20%20%20%20%20%20%20%20%20%20%20%20%20%20%20%22map_a60d7c95ed7e499fbc577e6f8039e69e%22%2C%0A%20%20%20%20%20%20%20%20%20%20%20%20%20%20%20%20%7B%0A%20%20%20%20%20%20%20%20%20%20%20%20%20%20%20%20%20%20%20%20center%3A%20%5B39.29%2C%20-76.61%5D%2C%0A%20%20%20%20%20%20%20%20%20%20%20%20%20%20%20%20%20%20%20%20crs%3A%20L.CRS.EPSG3857%2C%0A%20%20%20%20%20%20%20%20%20%20%20%20%20%20%20%20%20%20%20%20zoom%3A%2011%2C%0A%20%20%20%20%20%20%20%20%20%20%20%20%20%20%20%20%20%20%20%20zoomControl%3A%20true%2C%0A%20%20%20%20%20%20%20%20%20%20%20%20%20%20%20%20%20%20%20%20preferCanvas%3A%20false%2C%0A%20%20%20%20%20%20%20%20%20%20%20%20%20%20%20%20%7D%0A%20%20%20%20%20%20%20%20%20%20%20%20%29%3B%0A%0A%20%20%20%20%20%20%20%20%20%20%20%20%0A%0A%20%20%20%20%20%20%20%20%0A%20%20%20%20%0A%20%20%20%20%20%20%20%20%20%20%20%20var%20tile_layer_28562cae085e434685b913ba4f4a3f90%20%3D%20L.tileLayer%28%0A%20%20%20%20%20%20%20%20%20%20%20%20%20%20%20%20%22https%3A//%7Bs%7D.tile.openstreetmap.org/%7Bz%7D/%7Bx%7D/%7By%7D.png%22%2C%0A%20%20%20%20%20%20%20%20%20%20%20%20%20%20%20%20%7B%22attribution%22%3A%20%22Data%20by%20%5Cu0026copy%3B%20%5Cu003ca%20href%3D%5C%22http%3A//openstreetmap.org%5C%22%5Cu003eOpenStreetMap%5Cu003c/a%5Cu003e%2C%20under%20%5Cu003ca%20href%3D%5C%22http%3A//www.openstreetmap.org/copyright%5C%22%5Cu003eODbL%5Cu003c/a%5Cu003e.%22%2C%20%22detectRetina%22%3A%20false%2C%20%22maxNativeZoom%22%3A%2018%2C%20%22maxZoom%22%3A%2018%2C%20%22minZoom%22%3A%200%2C%20%22noWrap%22%3A%20false%2C%20%22opacity%22%3A%201%2C%20%22subdomains%22%3A%20%22abc%22%2C%20%22tms%22%3A%20false%7D%0A%20%20%20%20%20%20%20%20%20%20%20%20%29.addTo%28map_a60d7c95ed7e499fbc577e6f8039e69e%29%3B%0A%20%20%20%20%20%20%20%20%0A%3C/script%3E onload=\"this.contentDocument.open();this.contentDocument.write(    decodeURIComponent(this.getAttribute('data-html')));this.contentDocument.close();\" allowfullscreen webkitallowfullscreen mozallowfullscreen></iframe></div></div>"
      ],
      "text/plain": [
       "<folium.folium.Map at 0x7fa436b27a30>"
      ]
     },
     "execution_count": 50,
     "metadata": {},
     "output_type": "execute_result"
    }
   ],
   "source": [
    "# Create our map\n",
    "map_osm = folium.Map(location=[39.29, -76.61], zoom_start=11)\n",
    "\n",
    "# Display our map\n",
    "map_osm"
   ]
  },
  {
   "cell_type": "markdown",
   "id": "broadband-series",
   "metadata": {},
   "source": [
    "Folium creates a python interface for leaflet.js, a javascript library for interactble maps. Which allows us to do more than just make interactble maps, for instance we can plot individual interactable markers on that map as we will do with our crime data. For more on what you can do with folium maps, check out this site: https://python-visualization.github.io/folium/quickstart.html#Markers\n",
    "\n",
    "We can use the data within the dataframe to plot points on our map where offences have occured. Lets take a look at Common Assualt through the years, we will use crime code \"4E\" for this. For brevity, lets plot 10 arrests per year. "
   ]
  },
  {
   "cell_type": "code",
   "execution_count": 51,
   "id": "judicial-hypothesis",
   "metadata": {},
   "outputs": [
    {
     "data": {
      "text/html": [
       "<div style=\"width:100%;\"><div style=\"position:relative;width:100%;height:0;padding-bottom:60%;\"><span style=\"color:#565656\">Make this Notebook Trusted to load map: File -> Trust Notebook</span><iframe src=\"about:blank\" style=\"position:absolute;width:100%;height:100%;left:0;top:0;border:none !important;\" data-html=%3C%21DOCTYPE%20html%3E%0A%3Chead%3E%20%20%20%20%0A%20%20%20%20%3Cmeta%20http-equiv%3D%22content-type%22%20content%3D%22text/html%3B%20charset%3DUTF-8%22%20/%3E%0A%20%20%20%20%0A%20%20%20%20%20%20%20%20%3Cscript%3E%0A%20%20%20%20%20%20%20%20%20%20%20%20L_NO_TOUCH%20%3D%20false%3B%0A%20%20%20%20%20%20%20%20%20%20%20%20L_DISABLE_3D%20%3D%20false%3B%0A%20%20%20%20%20%20%20%20%3C/script%3E%0A%20%20%20%20%0A%20%20%20%20%3Cstyle%3Ehtml%2C%20body%20%7Bwidth%3A%20100%25%3Bheight%3A%20100%25%3Bmargin%3A%200%3Bpadding%3A%200%3B%7D%3C/style%3E%0A%20%20%20%20%3Cstyle%3E%23map%20%7Bposition%3Aabsolute%3Btop%3A0%3Bbottom%3A0%3Bright%3A0%3Bleft%3A0%3B%7D%3C/style%3E%0A%20%20%20%20%3Cscript%20src%3D%22https%3A//cdn.jsdelivr.net/npm/leaflet%401.6.0/dist/leaflet.js%22%3E%3C/script%3E%0A%20%20%20%20%3Cscript%20src%3D%22https%3A//code.jquery.com/jquery-1.12.4.min.js%22%3E%3C/script%3E%0A%20%20%20%20%3Cscript%20src%3D%22https%3A//maxcdn.bootstrapcdn.com/bootstrap/3.2.0/js/bootstrap.min.js%22%3E%3C/script%3E%0A%20%20%20%20%3Cscript%20src%3D%22https%3A//cdnjs.cloudflare.com/ajax/libs/Leaflet.awesome-markers/2.0.2/leaflet.awesome-markers.js%22%3E%3C/script%3E%0A%20%20%20%20%3Clink%20rel%3D%22stylesheet%22%20href%3D%22https%3A//cdn.jsdelivr.net/npm/leaflet%401.6.0/dist/leaflet.css%22/%3E%0A%20%20%20%20%3Clink%20rel%3D%22stylesheet%22%20href%3D%22https%3A//maxcdn.bootstrapcdn.com/bootstrap/3.2.0/css/bootstrap.min.css%22/%3E%0A%20%20%20%20%3Clink%20rel%3D%22stylesheet%22%20href%3D%22https%3A//maxcdn.bootstrapcdn.com/bootstrap/3.2.0/css/bootstrap-theme.min.css%22/%3E%0A%20%20%20%20%3Clink%20rel%3D%22stylesheet%22%20href%3D%22https%3A//maxcdn.bootstrapcdn.com/font-awesome/4.6.3/css/font-awesome.min.css%22/%3E%0A%20%20%20%20%3Clink%20rel%3D%22stylesheet%22%20href%3D%22https%3A//cdnjs.cloudflare.com/ajax/libs/Leaflet.awesome-markers/2.0.2/leaflet.awesome-markers.css%22/%3E%0A%20%20%20%20%3Clink%20rel%3D%22stylesheet%22%20href%3D%22https%3A//cdn.jsdelivr.net/gh/python-visualization/folium/folium/templates/leaflet.awesome.rotate.min.css%22/%3E%0A%20%20%20%20%0A%20%20%20%20%20%20%20%20%20%20%20%20%3Cmeta%20name%3D%22viewport%22%20content%3D%22width%3Ddevice-width%2C%0A%20%20%20%20%20%20%20%20%20%20%20%20%20%20%20%20initial-scale%3D1.0%2C%20maximum-scale%3D1.0%2C%20user-scalable%3Dno%22%20/%3E%0A%20%20%20%20%20%20%20%20%20%20%20%20%3Cstyle%3E%0A%20%20%20%20%20%20%20%20%20%20%20%20%20%20%20%20%23map_82dfc54417214e94a1bef2b8cef3065b%20%7B%0A%20%20%20%20%20%20%20%20%20%20%20%20%20%20%20%20%20%20%20%20position%3A%20relative%3B%0A%20%20%20%20%20%20%20%20%20%20%20%20%20%20%20%20%20%20%20%20width%3A%20100.0%25%3B%0A%20%20%20%20%20%20%20%20%20%20%20%20%20%20%20%20%20%20%20%20height%3A%20100.0%25%3B%0A%20%20%20%20%20%20%20%20%20%20%20%20%20%20%20%20%20%20%20%20left%3A%200.0%25%3B%0A%20%20%20%20%20%20%20%20%20%20%20%20%20%20%20%20%20%20%20%20top%3A%200.0%25%3B%0A%20%20%20%20%20%20%20%20%20%20%20%20%20%20%20%20%7D%0A%20%20%20%20%20%20%20%20%20%20%20%20%3C/style%3E%0A%20%20%20%20%20%20%20%20%0A%3C/head%3E%0A%3Cbody%3E%20%20%20%20%0A%20%20%20%20%0A%20%20%20%20%20%20%20%20%20%20%20%20%3Cdiv%20class%3D%22folium-map%22%20id%3D%22map_82dfc54417214e94a1bef2b8cef3065b%22%20%3E%3C/div%3E%0A%20%20%20%20%20%20%20%20%0A%3C/body%3E%0A%3Cscript%3E%20%20%20%20%0A%20%20%20%20%0A%20%20%20%20%20%20%20%20%20%20%20%20var%20map_82dfc54417214e94a1bef2b8cef3065b%20%3D%20L.map%28%0A%20%20%20%20%20%20%20%20%20%20%20%20%20%20%20%20%22map_82dfc54417214e94a1bef2b8cef3065b%22%2C%0A%20%20%20%20%20%20%20%20%20%20%20%20%20%20%20%20%7B%0A%20%20%20%20%20%20%20%20%20%20%20%20%20%20%20%20%20%20%20%20center%3A%20%5B39.29%2C%20-76.61%5D%2C%0A%20%20%20%20%20%20%20%20%20%20%20%20%20%20%20%20%20%20%20%20crs%3A%20L.CRS.EPSG3857%2C%0A%20%20%20%20%20%20%20%20%20%20%20%20%20%20%20%20%20%20%20%20zoom%3A%2011%2C%0A%20%20%20%20%20%20%20%20%20%20%20%20%20%20%20%20%20%20%20%20zoomControl%3A%20true%2C%0A%20%20%20%20%20%20%20%20%20%20%20%20%20%20%20%20%20%20%20%20preferCanvas%3A%20false%2C%0A%20%20%20%20%20%20%20%20%20%20%20%20%20%20%20%20%7D%0A%20%20%20%20%20%20%20%20%20%20%20%20%29%3B%0A%0A%20%20%20%20%20%20%20%20%20%20%20%20%0A%0A%20%20%20%20%20%20%20%20%0A%20%20%20%20%0A%20%20%20%20%20%20%20%20%20%20%20%20var%20tile_layer_f113555c84cd431bb3c80d4d6a481cf0%20%3D%20L.tileLayer%28%0A%20%20%20%20%20%20%20%20%20%20%20%20%20%20%20%20%22https%3A//%7Bs%7D.tile.openstreetmap.org/%7Bz%7D/%7Bx%7D/%7By%7D.png%22%2C%0A%20%20%20%20%20%20%20%20%20%20%20%20%20%20%20%20%7B%22attribution%22%3A%20%22Data%20by%20%5Cu0026copy%3B%20%5Cu003ca%20href%3D%5C%22http%3A//openstreetmap.org%5C%22%5Cu003eOpenStreetMap%5Cu003c/a%5Cu003e%2C%20under%20%5Cu003ca%20href%3D%5C%22http%3A//www.openstreetmap.org/copyright%5C%22%5Cu003eODbL%5Cu003c/a%5Cu003e.%22%2C%20%22detectRetina%22%3A%20false%2C%20%22maxNativeZoom%22%3A%2018%2C%20%22maxZoom%22%3A%2018%2C%20%22minZoom%22%3A%200%2C%20%22noWrap%22%3A%20false%2C%20%22opacity%22%3A%201%2C%20%22subdomains%22%3A%20%22abc%22%2C%20%22tms%22%3A%20false%7D%0A%20%20%20%20%20%20%20%20%20%20%20%20%29.addTo%28map_82dfc54417214e94a1bef2b8cef3065b%29%3B%0A%20%20%20%20%20%20%20%20%0A%20%20%20%20%0A%20%20%20%20%20%20%20%20%20%20%20%20var%20marker_b231e8c952b94682ac80337a14ea8f7f%20%3D%20L.marker%28%0A%20%20%20%20%20%20%20%20%20%20%20%20%20%20%20%20%5B39.3298%2C%20-76.6905%5D%2C%0A%20%20%20%20%20%20%20%20%20%20%20%20%20%20%20%20%7B%7D%0A%20%20%20%20%20%20%20%20%20%20%20%20%29.addTo%28map_82dfc54417214e94a1bef2b8cef3065b%29%3B%0A%20%20%20%20%20%20%20%20%0A%20%20%20%20%0A%20%20%20%20%20%20%20%20%20%20%20%20var%20icon_4d73d3d2eae84316b179d5cfeac8ab4a%20%3D%20L.AwesomeMarkers.icon%28%0A%20%20%20%20%20%20%20%20%20%20%20%20%20%20%20%20%7B%22extraClasses%22%3A%20%22fa-rotate-0%22%2C%20%22icon%22%3A%20%22info-sign%22%2C%20%22iconColor%22%3A%20%22white%22%2C%20%22markerColor%22%3A%20%22lightgreen%22%2C%20%22prefix%22%3A%20%22glyphicon%22%7D%0A%20%20%20%20%20%20%20%20%20%20%20%20%29%3B%0A%20%20%20%20%20%20%20%20%20%20%20%20marker_b231e8c952b94682ac80337a14ea8f7f.setIcon%28icon_4d73d3d2eae84316b179d5cfeac8ab4a%29%3B%0A%20%20%20%20%20%20%20%20%0A%20%20%20%20%0A%20%20%20%20%20%20%20%20var%20popup_593d261952f6439ca75eb90863c946b7%20%3D%20L.popup%28%7B%22maxWidth%22%3A%20%22100%25%22%7D%29%3B%0A%0A%20%20%20%20%20%20%20%20%0A%20%20%20%20%20%20%20%20%20%20%20%20var%20html_c829d9893ed14fc3a8d19e8219fb93ed%20%3D%20%24%28%60%3Cdiv%20id%3D%22html_c829d9893ed14fc3a8d19e8219fb93ed%22%20style%3D%22width%3A%20100.0%25%3B%20height%3A%20100.0%25%3B%22%3E4300%20LIBERTY%20HEIGHTS%20AVE%2C%202021/12/1%3C/div%3E%60%29%5B0%5D%3B%0A%20%20%20%20%20%20%20%20%20%20%20%20popup_593d261952f6439ca75eb90863c946b7.setContent%28html_c829d9893ed14fc3a8d19e8219fb93ed%29%3B%0A%20%20%20%20%20%20%20%20%0A%0A%20%20%20%20%20%20%20%20marker_b231e8c952b94682ac80337a14ea8f7f.bindPopup%28popup_593d261952f6439ca75eb90863c946b7%29%0A%20%20%20%20%20%20%20%20%3B%0A%0A%20%20%20%20%20%20%20%20%0A%20%20%20%20%0A%20%20%20%20%0A%20%20%20%20%20%20%20%20%20%20%20%20var%20marker_1456baf924a44c9297c365f14b012c7a%20%3D%20L.marker%28%0A%20%20%20%20%20%20%20%20%20%20%20%20%20%20%20%20%5B39.2975%2C%20-76.6193%5D%2C%0A%20%20%20%20%20%20%20%20%20%20%20%20%20%20%20%20%7B%7D%0A%20%20%20%20%20%20%20%20%20%20%20%20%29.addTo%28map_82dfc54417214e94a1bef2b8cef3065b%29%3B%0A%20%20%20%20%20%20%20%20%0A%20%20%20%20%0A%20%20%20%20%20%20%20%20%20%20%20%20var%20icon_11848bba15dc49b58463b943f0812b53%20%3D%20L.AwesomeMarkers.icon%28%0A%20%20%20%20%20%20%20%20%20%20%20%20%20%20%20%20%7B%22extraClasses%22%3A%20%22fa-rotate-0%22%2C%20%22icon%22%3A%20%22info-sign%22%2C%20%22iconColor%22%3A%20%22white%22%2C%20%22markerColor%22%3A%20%22lightgreen%22%2C%20%22prefix%22%3A%20%22glyphicon%22%7D%0A%20%20%20%20%20%20%20%20%20%20%20%20%29%3B%0A%20%20%20%20%20%20%20%20%20%20%20%20marker_1456baf924a44c9297c365f14b012c7a.setIcon%28icon_11848bba15dc49b58463b943f0812b53%29%3B%0A%20%20%20%20%20%20%20%20%0A%20%20%20%20%0A%20%20%20%20%20%20%20%20var%20popup_9c2755e0fe674ce7b5b7d037e2bee2fd%20%3D%20L.popup%28%7B%22maxWidth%22%3A%20%22100%25%22%7D%29%3B%0A%0A%20%20%20%20%20%20%20%20%0A%20%20%20%20%20%20%20%20%20%20%20%20var%20html_dcb5302612b5435b8a49375b8f843626%20%3D%20%24%28%60%3Cdiv%20id%3D%22html_dcb5302612b5435b8a49375b8f843626%22%20style%3D%22width%3A%20100.0%25%3B%20height%3A%20100.0%25%3B%22%3E200%20W%20MONUMENT%20ST%2C%202021/12/1%3C/div%3E%60%29%5B0%5D%3B%0A%20%20%20%20%20%20%20%20%20%20%20%20popup_9c2755e0fe674ce7b5b7d037e2bee2fd.setContent%28html_dcb5302612b5435b8a49375b8f843626%29%3B%0A%20%20%20%20%20%20%20%20%0A%0A%20%20%20%20%20%20%20%20marker_1456baf924a44c9297c365f14b012c7a.bindPopup%28popup_9c2755e0fe674ce7b5b7d037e2bee2fd%29%0A%20%20%20%20%20%20%20%20%3B%0A%0A%20%20%20%20%20%20%20%20%0A%20%20%20%20%0A%20%20%20%20%0A%20%20%20%20%20%20%20%20%20%20%20%20var%20marker_24cbc4a6ed0d41619468068c106f8d1d%20%3D%20L.marker%28%0A%20%20%20%20%20%20%20%20%20%20%20%20%20%20%20%20%5B39.3175%2C%20-76.5665%5D%2C%0A%20%20%20%20%20%20%20%20%20%20%20%20%20%20%20%20%7B%7D%0A%20%20%20%20%20%20%20%20%20%20%20%20%29.addTo%28map_82dfc54417214e94a1bef2b8cef3065b%29%3B%0A%20%20%20%20%20%20%20%20%0A%20%20%20%20%0A%20%20%20%20%20%20%20%20%20%20%20%20var%20icon_558192532f87465ca1e7404a504585f6%20%3D%20L.AwesomeMarkers.icon%28%0A%20%20%20%20%20%20%20%20%20%20%20%20%20%20%20%20%7B%22extraClasses%22%3A%20%22fa-rotate-0%22%2C%20%22icon%22%3A%20%22info-sign%22%2C%20%22iconColor%22%3A%20%22white%22%2C%20%22markerColor%22%3A%20%22lightgreen%22%2C%20%22prefix%22%3A%20%22glyphicon%22%7D%0A%20%20%20%20%20%20%20%20%20%20%20%20%29%3B%0A%20%20%20%20%20%20%20%20%20%20%20%20marker_24cbc4a6ed0d41619468068c106f8d1d.setIcon%28icon_558192532f87465ca1e7404a504585f6%29%3B%0A%20%20%20%20%20%20%20%20%0A%20%20%20%20%0A%20%20%20%20%20%20%20%20var%20popup_cef70a4eb86c4770a6239dd7ea1012f7%20%3D%20L.popup%28%7B%22maxWidth%22%3A%20%22100%25%22%7D%29%3B%0A%0A%20%20%20%20%20%20%20%20%0A%20%20%20%20%20%20%20%20%20%20%20%20var%20html_8c4d94b51b89463b866b1645e8fb6e0d%20%3D%20%24%28%60%3Cdiv%20id%3D%22html_8c4d94b51b89463b866b1645e8fb6e0d%22%20style%3D%22width%3A%20100.0%25%3B%20height%3A%20100.0%25%3B%22%3E3700%20ELMLEY%20AVE%2C%202021/12/1%3C/div%3E%60%29%5B0%5D%3B%0A%20%20%20%20%20%20%20%20%20%20%20%20popup_cef70a4eb86c4770a6239dd7ea1012f7.setContent%28html_8c4d94b51b89463b866b1645e8fb6e0d%29%3B%0A%20%20%20%20%20%20%20%20%0A%0A%20%20%20%20%20%20%20%20marker_24cbc4a6ed0d41619468068c106f8d1d.bindPopup%28popup_cef70a4eb86c4770a6239dd7ea1012f7%29%0A%20%20%20%20%20%20%20%20%3B%0A%0A%20%20%20%20%20%20%20%20%0A%20%20%20%20%0A%20%20%20%20%0A%20%20%20%20%20%20%20%20%20%20%20%20var%20marker_2865b2b08c104858b68460e0927bea34%20%3D%20L.marker%28%0A%20%20%20%20%20%20%20%20%20%20%20%20%20%20%20%20%5B39.2834%2C%20-76.6407%5D%2C%0A%20%20%20%20%20%20%20%20%20%20%20%20%20%20%20%20%7B%7D%0A%20%20%20%20%20%20%20%20%20%20%20%20%29.addTo%28map_82dfc54417214e94a1bef2b8cef3065b%29%3B%0A%20%20%20%20%20%20%20%20%0A%20%20%20%20%0A%20%20%20%20%20%20%20%20%20%20%20%20var%20icon_27af3a9428aa428e822546e2fd6e11a0%20%3D%20L.AwesomeMarkers.icon%28%0A%20%20%20%20%20%20%20%20%20%20%20%20%20%20%20%20%7B%22extraClasses%22%3A%20%22fa-rotate-0%22%2C%20%22icon%22%3A%20%22info-sign%22%2C%20%22iconColor%22%3A%20%22white%22%2C%20%22markerColor%22%3A%20%22lightgreen%22%2C%20%22prefix%22%3A%20%22glyphicon%22%7D%0A%20%20%20%20%20%20%20%20%20%20%20%20%29%3B%0A%20%20%20%20%20%20%20%20%20%20%20%20marker_2865b2b08c104858b68460e0927bea34.setIcon%28icon_27af3a9428aa428e822546e2fd6e11a0%29%3B%0A%20%20%20%20%20%20%20%20%0A%20%20%20%20%0A%20%20%20%20%20%20%20%20var%20popup_9924d66b583b4fa1a4d1cc6a49b546dc%20%3D%20L.popup%28%7B%22maxWidth%22%3A%20%22100%25%22%7D%29%3B%0A%0A%20%20%20%20%20%20%20%20%0A%20%20%20%20%20%20%20%20%20%20%20%20var%20html_2618d66a5ba44740a751a9a78774a0f9%20%3D%20%24%28%60%3Cdiv%20id%3D%22html_2618d66a5ba44740a751a9a78774a0f9%22%20style%3D%22width%3A%20100.0%25%3B%20height%3A%20100.0%25%3B%22%3E1500%20RAMSAY%20ST%2C%202021/12/1%3C/div%3E%60%29%5B0%5D%3B%0A%20%20%20%20%20%20%20%20%20%20%20%20popup_9924d66b583b4fa1a4d1cc6a49b546dc.setContent%28html_2618d66a5ba44740a751a9a78774a0f9%29%3B%0A%20%20%20%20%20%20%20%20%0A%0A%20%20%20%20%20%20%20%20marker_2865b2b08c104858b68460e0927bea34.bindPopup%28popup_9924d66b583b4fa1a4d1cc6a49b546dc%29%0A%20%20%20%20%20%20%20%20%3B%0A%0A%20%20%20%20%20%20%20%20%0A%20%20%20%20%0A%20%20%20%20%0A%20%20%20%20%20%20%20%20%20%20%20%20var%20marker_1af35b3390954ab6a1ca3ab612f2478e%20%3D%20L.marker%28%0A%20%20%20%20%20%20%20%20%20%20%20%20%20%20%20%20%5B39.3193%2C%20-76.5626%5D%2C%0A%20%20%20%20%20%20%20%20%20%20%20%20%20%20%20%20%7B%7D%0A%20%20%20%20%20%20%20%20%20%20%20%20%29.addTo%28map_82dfc54417214e94a1bef2b8cef3065b%29%3B%0A%20%20%20%20%20%20%20%20%0A%20%20%20%20%0A%20%20%20%20%20%20%20%20%20%20%20%20var%20icon_7c5d66dbb8e84132835fa5451eb40a54%20%3D%20L.AwesomeMarkers.icon%28%0A%20%20%20%20%20%20%20%20%20%20%20%20%20%20%20%20%7B%22extraClasses%22%3A%20%22fa-rotate-0%22%2C%20%22icon%22%3A%20%22info-sign%22%2C%20%22iconColor%22%3A%20%22white%22%2C%20%22markerColor%22%3A%20%22lightgreen%22%2C%20%22prefix%22%3A%20%22glyphicon%22%7D%0A%20%20%20%20%20%20%20%20%20%20%20%20%29%3B%0A%20%20%20%20%20%20%20%20%20%20%20%20marker_1af35b3390954ab6a1ca3ab612f2478e.setIcon%28icon_7c5d66dbb8e84132835fa5451eb40a54%29%3B%0A%20%20%20%20%20%20%20%20%0A%20%20%20%20%0A%20%20%20%20%20%20%20%20var%20popup_3a462194f98c4c7d847169a34d89e71c%20%3D%20L.popup%28%7B%22maxWidth%22%3A%20%22100%25%22%7D%29%3B%0A%0A%20%20%20%20%20%20%20%20%0A%20%20%20%20%20%20%20%20%20%20%20%20var%20html_5978c9a196344d10ba7461278d9fd896%20%3D%20%24%28%60%3Cdiv%20id%3D%22html_5978c9a196344d10ba7461278d9fd896%22%20style%3D%22width%3A%20100.0%25%3B%20height%3A%20100.0%25%3B%22%3E3600%20KENYON%20AVE%2C%202021/12/1%3C/div%3E%60%29%5B0%5D%3B%0A%20%20%20%20%20%20%20%20%20%20%20%20popup_3a462194f98c4c7d847169a34d89e71c.setContent%28html_5978c9a196344d10ba7461278d9fd896%29%3B%0A%20%20%20%20%20%20%20%20%0A%0A%20%20%20%20%20%20%20%20marker_1af35b3390954ab6a1ca3ab612f2478e.bindPopup%28popup_3a462194f98c4c7d847169a34d89e71c%29%0A%20%20%20%20%20%20%20%20%3B%0A%0A%20%20%20%20%20%20%20%20%0A%20%20%20%20%0A%20%20%20%20%0A%20%20%20%20%20%20%20%20%20%20%20%20var%20marker_f09d915afb114a74b13ebe5e0cd4615c%20%3D%20L.marker%28%0A%20%20%20%20%20%20%20%20%20%20%20%20%20%20%20%20%5B39.2929%2C%20-76.6226%5D%2C%0A%20%20%20%20%20%20%20%20%20%20%20%20%20%20%20%20%7B%7D%0A%20%20%20%20%20%20%20%20%20%20%20%20%29.addTo%28map_82dfc54417214e94a1bef2b8cef3065b%29%3B%0A%20%20%20%20%20%20%20%20%0A%20%20%20%20%0A%20%20%20%20%20%20%20%20%20%20%20%20var%20icon_ffc02c60aa7d42ec82244aec6cf52ee2%20%3D%20L.AwesomeMarkers.icon%28%0A%20%20%20%20%20%20%20%20%20%20%20%20%20%20%20%20%7B%22extraClasses%22%3A%20%22fa-rotate-0%22%2C%20%22icon%22%3A%20%22info-sign%22%2C%20%22iconColor%22%3A%20%22white%22%2C%20%22markerColor%22%3A%20%22lightgreen%22%2C%20%22prefix%22%3A%20%22glyphicon%22%7D%0A%20%20%20%20%20%20%20%20%20%20%20%20%29%3B%0A%20%20%20%20%20%20%20%20%20%20%20%20marker_f09d915afb114a74b13ebe5e0cd4615c.setIcon%28icon_ffc02c60aa7d42ec82244aec6cf52ee2%29%3B%0A%20%20%20%20%20%20%20%20%0A%20%20%20%20%0A%20%20%20%20%20%20%20%20var%20popup_e05df4d21a544a94821055932e250da7%20%3D%20L.popup%28%7B%22maxWidth%22%3A%20%22100%25%22%7D%29%3B%0A%0A%20%20%20%20%20%20%20%20%0A%20%20%20%20%20%20%20%20%20%20%20%20var%20html_e7a24e814a224eb2a360d0472117d003%20%3D%20%24%28%60%3Cdiv%20id%3D%22html_e7a24e814a224eb2a360d0472117d003%22%20style%3D%22width%3A%20100.0%25%3B%20height%3A%20100.0%25%3B%22%3E300%20N%20PACA%20ST%2C%202021/12/1%3C/div%3E%60%29%5B0%5D%3B%0A%20%20%20%20%20%20%20%20%20%20%20%20popup_e05df4d21a544a94821055932e250da7.setContent%28html_e7a24e814a224eb2a360d0472117d003%29%3B%0A%20%20%20%20%20%20%20%20%0A%0A%20%20%20%20%20%20%20%20marker_f09d915afb114a74b13ebe5e0cd4615c.bindPopup%28popup_e05df4d21a544a94821055932e250da7%29%0A%20%20%20%20%20%20%20%20%3B%0A%0A%20%20%20%20%20%20%20%20%0A%20%20%20%20%0A%20%20%20%20%0A%20%20%20%20%20%20%20%20%20%20%20%20var%20marker_e7f9f4aeb75340308e7cd4ddfd7f9549%20%3D%20L.marker%28%0A%20%20%20%20%20%20%20%20%20%20%20%20%20%20%20%20%5B39.293%2C%20-76.6182%5D%2C%0A%20%20%20%20%20%20%20%20%20%20%20%20%20%20%20%20%7B%7D%0A%20%20%20%20%20%20%20%20%20%20%20%20%29.addTo%28map_82dfc54417214e94a1bef2b8cef3065b%29%3B%0A%20%20%20%20%20%20%20%20%0A%20%20%20%20%0A%20%20%20%20%20%20%20%20%20%20%20%20var%20icon_639958aed2914d5ab54a7f6f7c27d01c%20%3D%20L.AwesomeMarkers.icon%28%0A%20%20%20%20%20%20%20%20%20%20%20%20%20%20%20%20%7B%22extraClasses%22%3A%20%22fa-rotate-0%22%2C%20%22icon%22%3A%20%22info-sign%22%2C%20%22iconColor%22%3A%20%22white%22%2C%20%22markerColor%22%3A%20%22lightgreen%22%2C%20%22prefix%22%3A%20%22glyphicon%22%7D%0A%20%20%20%20%20%20%20%20%20%20%20%20%29%3B%0A%20%20%20%20%20%20%20%20%20%20%20%20marker_e7f9f4aeb75340308e7cd4ddfd7f9549.setIcon%28icon_639958aed2914d5ab54a7f6f7c27d01c%29%3B%0A%20%20%20%20%20%20%20%20%0A%20%20%20%20%0A%20%20%20%20%20%20%20%20var%20popup_70b385faccfa4185a9cd49dc63adc9e3%20%3D%20L.popup%28%7B%22maxWidth%22%3A%20%22100%25%22%7D%29%3B%0A%0A%20%20%20%20%20%20%20%20%0A%20%20%20%20%20%20%20%20%20%20%20%20var%20html_1dae4d773a16469893cb4fda53e218c0%20%3D%20%24%28%60%3Cdiv%20id%3D%22html_1dae4d773a16469893cb4fda53e218c0%22%20style%3D%22width%3A%20100.0%25%3B%20height%3A%20100.0%25%3B%22%3E200%20W%20SARATOGA%20ST%2C%202021/12/1%3C/div%3E%60%29%5B0%5D%3B%0A%20%20%20%20%20%20%20%20%20%20%20%20popup_70b385faccfa4185a9cd49dc63adc9e3.setContent%28html_1dae4d773a16469893cb4fda53e218c0%29%3B%0A%20%20%20%20%20%20%20%20%0A%0A%20%20%20%20%20%20%20%20marker_e7f9f4aeb75340308e7cd4ddfd7f9549.bindPopup%28popup_70b385faccfa4185a9cd49dc63adc9e3%29%0A%20%20%20%20%20%20%20%20%3B%0A%0A%20%20%20%20%20%20%20%20%0A%20%20%20%20%0A%20%20%20%20%0A%20%20%20%20%20%20%20%20%20%20%20%20var%20marker_01ec63f872d64f6698232c12dfd908c0%20%3D%20L.marker%28%0A%20%20%20%20%20%20%20%20%20%20%20%20%20%20%20%20%5B39.3111%2C%20-76.6179%5D%2C%0A%20%20%20%20%20%20%20%20%20%20%20%20%20%20%20%20%7B%7D%0A%20%20%20%20%20%20%20%20%20%20%20%20%29.addTo%28map_82dfc54417214e94a1bef2b8cef3065b%29%3B%0A%20%20%20%20%20%20%20%20%0A%20%20%20%20%0A%20%20%20%20%20%20%20%20%20%20%20%20var%20icon_5826188c1e2a47ee9d1ce107fa244237%20%3D%20L.AwesomeMarkers.icon%28%0A%20%20%20%20%20%20%20%20%20%20%20%20%20%20%20%20%7B%22extraClasses%22%3A%20%22fa-rotate-0%22%2C%20%22icon%22%3A%20%22info-sign%22%2C%20%22iconColor%22%3A%20%22white%22%2C%20%22markerColor%22%3A%20%22lightgreen%22%2C%20%22prefix%22%3A%20%22glyphicon%22%7D%0A%20%20%20%20%20%20%20%20%20%20%20%20%29%3B%0A%20%20%20%20%20%20%20%20%20%20%20%20marker_01ec63f872d64f6698232c12dfd908c0.setIcon%28icon_5826188c1e2a47ee9d1ce107fa244237%29%3B%0A%20%20%20%20%20%20%20%20%0A%20%20%20%20%0A%20%20%20%20%20%20%20%20var%20popup_d101f5aa46174bd8be1c42fcb65fbaed%20%3D%20L.popup%28%7B%22maxWidth%22%3A%20%22100%25%22%7D%29%3B%0A%0A%20%20%20%20%20%20%20%20%0A%20%20%20%20%20%20%20%20%20%20%20%20var%20html_23fffa8557604275b351231c6551af95%20%3D%20%24%28%60%3Cdiv%20id%3D%22html_23fffa8557604275b351231c6551af95%22%20style%3D%22width%3A%20100.0%25%3B%20height%3A%20100.0%25%3B%22%3ENORTH%20AV%20%26%20MARYLAND%20AV%2C%202021/12/1%3C/div%3E%60%29%5B0%5D%3B%0A%20%20%20%20%20%20%20%20%20%20%20%20popup_d101f5aa46174bd8be1c42fcb65fbaed.setContent%28html_23fffa8557604275b351231c6551af95%29%3B%0A%20%20%20%20%20%20%20%20%0A%0A%20%20%20%20%20%20%20%20marker_01ec63f872d64f6698232c12dfd908c0.bindPopup%28popup_d101f5aa46174bd8be1c42fcb65fbaed%29%0A%20%20%20%20%20%20%20%20%3B%0A%0A%20%20%20%20%20%20%20%20%0A%20%20%20%20%0A%20%20%20%20%0A%20%20%20%20%20%20%20%20%20%20%20%20var%20marker_b9aacfe1e4c042c9bdd981003e34dc5e%20%3D%20L.marker%28%0A%20%20%20%20%20%20%20%20%20%20%20%20%20%20%20%20%5B39.2867%2C%20-76.6099%5D%2C%0A%20%20%20%20%20%20%20%20%20%20%20%20%20%20%20%20%7B%7D%0A%20%20%20%20%20%20%20%20%20%20%20%20%29.addTo%28map_82dfc54417214e94a1bef2b8cef3065b%29%3B%0A%20%20%20%20%20%20%20%20%0A%20%20%20%20%0A%20%20%20%20%20%20%20%20%20%20%20%20var%20icon_053a67859ffd4718965594ca3fc8b216%20%3D%20L.AwesomeMarkers.icon%28%0A%20%20%20%20%20%20%20%20%20%20%20%20%20%20%20%20%7B%22extraClasses%22%3A%20%22fa-rotate-0%22%2C%20%22icon%22%3A%20%22info-sign%22%2C%20%22iconColor%22%3A%20%22white%22%2C%20%22markerColor%22%3A%20%22lightgreen%22%2C%20%22prefix%22%3A%20%22glyphicon%22%7D%0A%20%20%20%20%20%20%20%20%20%20%20%20%29%3B%0A%20%20%20%20%20%20%20%20%20%20%20%20marker_b9aacfe1e4c042c9bdd981003e34dc5e.setIcon%28icon_053a67859ffd4718965594ca3fc8b216%29%3B%0A%20%20%20%20%20%20%20%20%0A%20%20%20%20%0A%20%20%20%20%20%20%20%20var%20popup_b17ab6ce55a647979044cfbdd1404491%20%3D%20L.popup%28%7B%22maxWidth%22%3A%20%22100%25%22%7D%29%3B%0A%0A%20%20%20%20%20%20%20%20%0A%20%20%20%20%20%20%20%20%20%20%20%20var%20html_a3c51762a74f463f89ede02113481ec0%20%3D%20%24%28%60%3Cdiv%20id%3D%22html_a3c51762a74f463f89ede02113481ec0%22%20style%3D%22width%3A%20100.0%25%3B%20height%3A%20100.0%25%3B%22%3E400%20E%20PRATT%20ST%2C%202021/12/1%3C/div%3E%60%29%5B0%5D%3B%0A%20%20%20%20%20%20%20%20%20%20%20%20popup_b17ab6ce55a647979044cfbdd1404491.setContent%28html_a3c51762a74f463f89ede02113481ec0%29%3B%0A%20%20%20%20%20%20%20%20%0A%0A%20%20%20%20%20%20%20%20marker_b9aacfe1e4c042c9bdd981003e34dc5e.bindPopup%28popup_b17ab6ce55a647979044cfbdd1404491%29%0A%20%20%20%20%20%20%20%20%3B%0A%0A%20%20%20%20%20%20%20%20%0A%20%20%20%20%0A%20%20%20%20%0A%20%20%20%20%20%20%20%20%20%20%20%20var%20marker_d71702ddb94f4516b5b4a6799d1abbb1%20%3D%20L.marker%28%0A%20%20%20%20%20%20%20%20%20%20%20%20%20%20%20%20%5B39.3648%2C%20-76.6114%5D%2C%0A%20%20%20%20%20%20%20%20%20%20%20%20%20%20%20%20%7B%7D%0A%20%20%20%20%20%20%20%20%20%20%20%20%29.addTo%28map_82dfc54417214e94a1bef2b8cef3065b%29%3B%0A%20%20%20%20%20%20%20%20%0A%20%20%20%20%0A%20%20%20%20%20%20%20%20%20%20%20%20var%20icon_61c07ebd9e04449bb228c2afc67fec3d%20%3D%20L.AwesomeMarkers.icon%28%0A%20%20%20%20%20%20%20%20%20%20%20%20%20%20%20%20%7B%22extraClasses%22%3A%20%22fa-rotate-0%22%2C%20%22icon%22%3A%20%22info-sign%22%2C%20%22iconColor%22%3A%20%22white%22%2C%20%22markerColor%22%3A%20%22lightgreen%22%2C%20%22prefix%22%3A%20%22glyphicon%22%7D%0A%20%20%20%20%20%20%20%20%20%20%20%20%29%3B%0A%20%20%20%20%20%20%20%20%20%20%20%20marker_d71702ddb94f4516b5b4a6799d1abbb1.setIcon%28icon_61c07ebd9e04449bb228c2afc67fec3d%29%3B%0A%20%20%20%20%20%20%20%20%0A%20%20%20%20%0A%20%20%20%20%20%20%20%20var%20popup_686550055b824f448e3d8598e6ceadd2%20%3D%20L.popup%28%7B%22maxWidth%22%3A%20%22100%25%22%7D%29%3B%0A%0A%20%20%20%20%20%20%20%20%0A%20%20%20%20%20%20%20%20%20%20%20%20var%20html_932998e25bfe4414aded1a05b985346f%20%3D%20%24%28%60%3Cdiv%20id%3D%22html_932998e25bfe4414aded1a05b985346f%22%20style%3D%22width%3A%20100.0%25%3B%20height%3A%20100.0%25%3B%22%3E400%20HOWIL%20TER%2C%202021/12/1%3C/div%3E%60%29%5B0%5D%3B%0A%20%20%20%20%20%20%20%20%20%20%20%20popup_686550055b824f448e3d8598e6ceadd2.setContent%28html_932998e25bfe4414aded1a05b985346f%29%3B%0A%20%20%20%20%20%20%20%20%0A%0A%20%20%20%20%20%20%20%20marker_d71702ddb94f4516b5b4a6799d1abbb1.bindPopup%28popup_686550055b824f448e3d8598e6ceadd2%29%0A%20%20%20%20%20%20%20%20%3B%0A%0A%20%20%20%20%20%20%20%20%0A%20%20%20%20%0A%20%20%20%20%0A%20%20%20%20%20%20%20%20%20%20%20%20var%20marker_a3d8ef7ce1164179ad01196fe222629b%20%3D%20L.marker%28%0A%20%20%20%20%20%20%20%20%20%20%20%20%20%20%20%20%5B39.2671%2C%20-76.6511%5D%2C%0A%20%20%20%20%20%20%20%20%20%20%20%20%20%20%20%20%7B%7D%0A%20%20%20%20%20%20%20%20%20%20%20%20%29.addTo%28map_82dfc54417214e94a1bef2b8cef3065b%29%3B%0A%20%20%20%20%20%20%20%20%0A%20%20%20%20%0A%20%20%20%20%20%20%20%20%20%20%20%20var%20icon_3d58db4ea3a74c45a32cbb5e573d347a%20%3D%20L.AwesomeMarkers.icon%28%0A%20%20%20%20%20%20%20%20%20%20%20%20%20%20%20%20%7B%22extraClasses%22%3A%20%22fa-rotate-0%22%2C%20%22icon%22%3A%20%22info-sign%22%2C%20%22iconColor%22%3A%20%22white%22%2C%20%22markerColor%22%3A%20%22lightgreen%22%2C%20%22prefix%22%3A%20%22glyphicon%22%7D%0A%20%20%20%20%20%20%20%20%20%20%20%20%29%3B%0A%20%20%20%20%20%20%20%20%20%20%20%20marker_a3d8ef7ce1164179ad01196fe222629b.setIcon%28icon_3d58db4ea3a74c45a32cbb5e573d347a%29%3B%0A%20%20%20%20%20%20%20%20%0A%20%20%20%20%0A%20%20%20%20%20%20%20%20var%20popup_e50cde6375ec452c93efb446088ad4de%20%3D%20L.popup%28%7B%22maxWidth%22%3A%20%22100%25%22%7D%29%3B%0A%0A%20%20%20%20%20%20%20%20%0A%20%20%20%20%20%20%20%20%20%20%20%20var%20html_4342859dc6614946bde7734d970018ce%20%3D%20%24%28%60%3Cdiv%20id%3D%22html_4342859dc6614946bde7734d970018ce%22%20style%3D%22width%3A%20100.0%25%3B%20height%3A%20100.0%25%3B%22%3E1900%20GRINNALDS%20AVE%2C%202021/12/1%3C/div%3E%60%29%5B0%5D%3B%0A%20%20%20%20%20%20%20%20%20%20%20%20popup_e50cde6375ec452c93efb446088ad4de.setContent%28html_4342859dc6614946bde7734d970018ce%29%3B%0A%20%20%20%20%20%20%20%20%0A%0A%20%20%20%20%20%20%20%20marker_a3d8ef7ce1164179ad01196fe222629b.bindPopup%28popup_e50cde6375ec452c93efb446088ad4de%29%0A%20%20%20%20%20%20%20%20%3B%0A%0A%20%20%20%20%20%20%20%20%0A%20%20%20%20%0A%20%20%20%20%0A%20%20%20%20%20%20%20%20%20%20%20%20var%20marker_49a9c8d0330e4845a48bfde369793347%20%3D%20L.marker%28%0A%20%20%20%20%20%20%20%20%20%20%20%20%20%20%20%20%5B39.2285%2C%20-76.6009%5D%2C%0A%20%20%20%20%20%20%20%20%20%20%20%20%20%20%20%20%7B%7D%0A%20%20%20%20%20%20%20%20%20%20%20%20%29.addTo%28map_82dfc54417214e94a1bef2b8cef3065b%29%3B%0A%20%20%20%20%20%20%20%20%0A%20%20%20%20%0A%20%20%20%20%20%20%20%20%20%20%20%20var%20icon_a0aba96c704641cda8f3f2993f74166d%20%3D%20L.AwesomeMarkers.icon%28%0A%20%20%20%20%20%20%20%20%20%20%20%20%20%20%20%20%7B%22extraClasses%22%3A%20%22fa-rotate-0%22%2C%20%22icon%22%3A%20%22info-sign%22%2C%20%22iconColor%22%3A%20%22white%22%2C%20%22markerColor%22%3A%20%22lightgreen%22%2C%20%22prefix%22%3A%20%22glyphicon%22%7D%0A%20%20%20%20%20%20%20%20%20%20%20%20%29%3B%0A%20%20%20%20%20%20%20%20%20%20%20%20marker_49a9c8d0330e4845a48bfde369793347.setIcon%28icon_a0aba96c704641cda8f3f2993f74166d%29%3B%0A%20%20%20%20%20%20%20%20%0A%20%20%20%20%0A%20%20%20%20%20%20%20%20var%20popup_39d1d28568474eeab41d5b2a783cbe40%20%3D%20L.popup%28%7B%22maxWidth%22%3A%20%22100%25%22%7D%29%3B%0A%0A%20%20%20%20%20%20%20%20%0A%20%20%20%20%20%20%20%20%20%20%20%20var%20html_6273521338074fc2b01d6cf27809af1e%20%3D%20%24%28%60%3Cdiv%20id%3D%22html_6273521338074fc2b01d6cf27809af1e%22%20style%3D%22width%3A%20100.0%25%3B%20height%3A%20100.0%25%3B%22%3E900%20HERNDON%20CT%2C%202021/12/1%3C/div%3E%60%29%5B0%5D%3B%0A%20%20%20%20%20%20%20%20%20%20%20%20popup_39d1d28568474eeab41d5b2a783cbe40.setContent%28html_6273521338074fc2b01d6cf27809af1e%29%3B%0A%20%20%20%20%20%20%20%20%0A%0A%20%20%20%20%20%20%20%20marker_49a9c8d0330e4845a48bfde369793347.bindPopup%28popup_39d1d28568474eeab41d5b2a783cbe40%29%0A%20%20%20%20%20%20%20%20%3B%0A%0A%20%20%20%20%20%20%20%20%0A%20%20%20%20%0A%20%20%20%20%0A%20%20%20%20%20%20%20%20%20%20%20%20var%20marker_9db722b6f9214b979c658207ba4d1fad%20%3D%20L.marker%28%0A%20%20%20%20%20%20%20%20%20%20%20%20%20%20%20%20%5B39.3314%2C%20-76.6584%5D%2C%0A%20%20%20%20%20%20%20%20%20%20%20%20%20%20%20%20%7B%7D%0A%20%20%20%20%20%20%20%20%20%20%20%20%29.addTo%28map_82dfc54417214e94a1bef2b8cef3065b%29%3B%0A%20%20%20%20%20%20%20%20%0A%20%20%20%20%0A%20%20%20%20%20%20%20%20%20%20%20%20var%20icon_9e1e5b1b0e6e419d8914244af9dc3361%20%3D%20L.AwesomeMarkers.icon%28%0A%20%20%20%20%20%20%20%20%20%20%20%20%20%20%20%20%7B%22extraClasses%22%3A%20%22fa-rotate-0%22%2C%20%22icon%22%3A%20%22info-sign%22%2C%20%22iconColor%22%3A%20%22white%22%2C%20%22markerColor%22%3A%20%22lightgreen%22%2C%20%22prefix%22%3A%20%22glyphicon%22%7D%0A%20%20%20%20%20%20%20%20%20%20%20%20%29%3B%0A%20%20%20%20%20%20%20%20%20%20%20%20marker_9db722b6f9214b979c658207ba4d1fad.setIcon%28icon_9e1e5b1b0e6e419d8914244af9dc3361%29%3B%0A%20%20%20%20%20%20%20%20%0A%20%20%20%20%0A%20%20%20%20%20%20%20%20var%20popup_a1721fd0e13742d792853d282fd5083e%20%3D%20L.popup%28%7B%22maxWidth%22%3A%20%22100%25%22%7D%29%3B%0A%0A%20%20%20%20%20%20%20%20%0A%20%20%20%20%20%20%20%20%20%20%20%20var%20html_f42d3bb1c7a04b4da06b5c24961e20be%20%3D%20%24%28%60%3Cdiv%20id%3D%22html_f42d3bb1c7a04b4da06b5c24961e20be%22%20style%3D%22width%3A%20100.0%25%3B%20height%3A%20100.0%25%3B%22%3E3700%20COTTAGE%20AVE%2C%202021/12/1%3C/div%3E%60%29%5B0%5D%3B%0A%20%20%20%20%20%20%20%20%20%20%20%20popup_a1721fd0e13742d792853d282fd5083e.setContent%28html_f42d3bb1c7a04b4da06b5c24961e20be%29%3B%0A%20%20%20%20%20%20%20%20%0A%0A%20%20%20%20%20%20%20%20marker_9db722b6f9214b979c658207ba4d1fad.bindPopup%28popup_a1721fd0e13742d792853d282fd5083e%29%0A%20%20%20%20%20%20%20%20%3B%0A%0A%20%20%20%20%20%20%20%20%0A%20%20%20%20%0A%20%20%20%20%0A%20%20%20%20%20%20%20%20%20%20%20%20var%20marker_de7ae18d85c047898fea328288453f28%20%3D%20L.marker%28%0A%20%20%20%20%20%20%20%20%20%20%20%20%20%20%20%20%5B39.3314%2C%20-76.6584%5D%2C%0A%20%20%20%20%20%20%20%20%20%20%20%20%20%20%20%20%7B%7D%0A%20%20%20%20%20%20%20%20%20%20%20%20%29.addTo%28map_82dfc54417214e94a1bef2b8cef3065b%29%3B%0A%20%20%20%20%20%20%20%20%0A%20%20%20%20%0A%20%20%20%20%20%20%20%20%20%20%20%20var%20icon_bc87a133da194bf4bc68c1878e50b34c%20%3D%20L.AwesomeMarkers.icon%28%0A%20%20%20%20%20%20%20%20%20%20%20%20%20%20%20%20%7B%22extraClasses%22%3A%20%22fa-rotate-0%22%2C%20%22icon%22%3A%20%22info-sign%22%2C%20%22iconColor%22%3A%20%22white%22%2C%20%22markerColor%22%3A%20%22lightgreen%22%2C%20%22prefix%22%3A%20%22glyphicon%22%7D%0A%20%20%20%20%20%20%20%20%20%20%20%20%29%3B%0A%20%20%20%20%20%20%20%20%20%20%20%20marker_de7ae18d85c047898fea328288453f28.setIcon%28icon_bc87a133da194bf4bc68c1878e50b34c%29%3B%0A%20%20%20%20%20%20%20%20%0A%20%20%20%20%0A%20%20%20%20%20%20%20%20var%20popup_233e0a03d4c3422ab12921d92ab1ddc5%20%3D%20L.popup%28%7B%22maxWidth%22%3A%20%22100%25%22%7D%29%3B%0A%0A%20%20%20%20%20%20%20%20%0A%20%20%20%20%20%20%20%20%20%20%20%20var%20html_b5f9c11846b34fb1a459a3c2a5f20e83%20%3D%20%24%28%60%3Cdiv%20id%3D%22html_b5f9c11846b34fb1a459a3c2a5f20e83%22%20style%3D%22width%3A%20100.0%25%3B%20height%3A%20100.0%25%3B%22%3E3700%20COTTAGE%20AVE%2C%202021/12/1%3C/div%3E%60%29%5B0%5D%3B%0A%20%20%20%20%20%20%20%20%20%20%20%20popup_233e0a03d4c3422ab12921d92ab1ddc5.setContent%28html_b5f9c11846b34fb1a459a3c2a5f20e83%29%3B%0A%20%20%20%20%20%20%20%20%0A%0A%20%20%20%20%20%20%20%20marker_de7ae18d85c047898fea328288453f28.bindPopup%28popup_233e0a03d4c3422ab12921d92ab1ddc5%29%0A%20%20%20%20%20%20%20%20%3B%0A%0A%20%20%20%20%20%20%20%20%0A%20%20%20%20%0A%20%20%20%20%0A%20%20%20%20%20%20%20%20%20%20%20%20var%20marker_cf94852b15034689b804d78693f5d4ba%20%3D%20L.marker%28%0A%20%20%20%20%20%20%20%20%20%20%20%20%20%20%20%20%5B39.3438%2C%20-76.6519%5D%2C%0A%20%20%20%20%20%20%20%20%20%20%20%20%20%20%20%20%7B%7D%0A%20%20%20%20%20%20%20%20%20%20%20%20%29.addTo%28map_82dfc54417214e94a1bef2b8cef3065b%29%3B%0A%20%20%20%20%20%20%20%20%0A%20%20%20%20%0A%20%20%20%20%20%20%20%20%20%20%20%20var%20icon_e6c1ee06d2ea46f0a13af5dcbd9f386d%20%3D%20L.AwesomeMarkers.icon%28%0A%20%20%20%20%20%20%20%20%20%20%20%20%20%20%20%20%7B%22extraClasses%22%3A%20%22fa-rotate-0%22%2C%20%22icon%22%3A%20%22info-sign%22%2C%20%22iconColor%22%3A%20%22white%22%2C%20%22markerColor%22%3A%20%22lightgreen%22%2C%20%22prefix%22%3A%20%22glyphicon%22%7D%0A%20%20%20%20%20%20%20%20%20%20%20%20%29%3B%0A%20%20%20%20%20%20%20%20%20%20%20%20marker_cf94852b15034689b804d78693f5d4ba.setIcon%28icon_e6c1ee06d2ea46f0a13af5dcbd9f386d%29%3B%0A%20%20%20%20%20%20%20%20%0A%20%20%20%20%0A%20%20%20%20%20%20%20%20var%20popup_2e6c0e1f280c4786958c1b7d2261c845%20%3D%20L.popup%28%7B%22maxWidth%22%3A%20%22100%25%22%7D%29%3B%0A%0A%20%20%20%20%20%20%20%20%0A%20%20%20%20%20%20%20%20%20%20%20%20var%20html_e9882a0cf13443e99e7dea7da51d611c%20%3D%20%24%28%60%3Cdiv%20id%3D%22html_e9882a0cf13443e99e7dea7da51d611c%22%20style%3D%22width%3A%20100.0%25%3B%20height%3A%20100.0%25%3B%22%3E2200%20W%20COLD%20SPRING%20LN%2C%202021/12/1%3C/div%3E%60%29%5B0%5D%3B%0A%20%20%20%20%20%20%20%20%20%20%20%20popup_2e6c0e1f280c4786958c1b7d2261c845.setContent%28html_e9882a0cf13443e99e7dea7da51d611c%29%3B%0A%20%20%20%20%20%20%20%20%0A%0A%20%20%20%20%20%20%20%20marker_cf94852b15034689b804d78693f5d4ba.bindPopup%28popup_2e6c0e1f280c4786958c1b7d2261c845%29%0A%20%20%20%20%20%20%20%20%3B%0A%0A%20%20%20%20%20%20%20%20%0A%20%20%20%20%0A%20%20%20%20%0A%20%20%20%20%20%20%20%20%20%20%20%20var%20marker_598a938ec2194b7684e0a93dd6263aef%20%3D%20L.marker%28%0A%20%20%20%20%20%20%20%20%20%20%20%20%20%20%20%20%5B39.342%2C%20-76.6586%5D%2C%0A%20%20%20%20%20%20%20%20%20%20%20%20%20%20%20%20%7B%7D%0A%20%20%20%20%20%20%20%20%20%20%20%20%29.addTo%28map_82dfc54417214e94a1bef2b8cef3065b%29%3B%0A%20%20%20%20%20%20%20%20%0A%20%20%20%20%0A%20%20%20%20%20%20%20%20%20%20%20%20var%20icon_ddd0ceb854884bf3a6897ff4c1eeb2b7%20%3D%20L.AwesomeMarkers.icon%28%0A%20%20%20%20%20%20%20%20%20%20%20%20%20%20%20%20%7B%22extraClasses%22%3A%20%22fa-rotate-0%22%2C%20%22icon%22%3A%20%22info-sign%22%2C%20%22iconColor%22%3A%20%22white%22%2C%20%22markerColor%22%3A%20%22lightgreen%22%2C%20%22prefix%22%3A%20%22glyphicon%22%7D%0A%20%20%20%20%20%20%20%20%20%20%20%20%29%3B%0A%20%20%20%20%20%20%20%20%20%20%20%20marker_598a938ec2194b7684e0a93dd6263aef.setIcon%28icon_ddd0ceb854884bf3a6897ff4c1eeb2b7%29%3B%0A%20%20%20%20%20%20%20%20%0A%20%20%20%20%0A%20%20%20%20%20%20%20%20var%20popup_cc7c0064146c4384afbfd5e4d349d2ba%20%3D%20L.popup%28%7B%22maxWidth%22%3A%20%22100%25%22%7D%29%3B%0A%0A%20%20%20%20%20%20%20%20%0A%20%20%20%20%20%20%20%20%20%20%20%20var%20html_57957728129846639f56d631a0379fe4%20%3D%20%24%28%60%3Cdiv%20id%3D%22html_57957728129846639f56d631a0379fe4%22%20style%3D%22width%3A%20100.0%25%3B%20height%3A%20100.0%25%3B%22%3E2500%20EDGECOMBE%20CIR%20N%2C%202021/12/1%3C/div%3E%60%29%5B0%5D%3B%0A%20%20%20%20%20%20%20%20%20%20%20%20popup_cc7c0064146c4384afbfd5e4d349d2ba.setContent%28html_57957728129846639f56d631a0379fe4%29%3B%0A%20%20%20%20%20%20%20%20%0A%0A%20%20%20%20%20%20%20%20marker_598a938ec2194b7684e0a93dd6263aef.bindPopup%28popup_cc7c0064146c4384afbfd5e4d349d2ba%29%0A%20%20%20%20%20%20%20%20%3B%0A%0A%20%20%20%20%20%20%20%20%0A%20%20%20%20%0A%20%20%20%20%0A%20%20%20%20%20%20%20%20%20%20%20%20var%20marker_c6f4b00961a340a38143eae3dd603882%20%3D%20L.marker%28%0A%20%20%20%20%20%20%20%20%20%20%20%20%20%20%20%20%5B39.3418%2C%20-76.6942%5D%2C%0A%20%20%20%20%20%20%20%20%20%20%20%20%20%20%20%20%7B%7D%0A%20%20%20%20%20%20%20%20%20%20%20%20%29.addTo%28map_82dfc54417214e94a1bef2b8cef3065b%29%3B%0A%20%20%20%20%20%20%20%20%0A%20%20%20%20%0A%20%20%20%20%20%20%20%20%20%20%20%20var%20icon_aebed6832906485c9b836f9522a09028%20%3D%20L.AwesomeMarkers.icon%28%0A%20%20%20%20%20%20%20%20%20%20%20%20%20%20%20%20%7B%22extraClasses%22%3A%20%22fa-rotate-0%22%2C%20%22icon%22%3A%20%22info-sign%22%2C%20%22iconColor%22%3A%20%22white%22%2C%20%22markerColor%22%3A%20%22darkblue%22%2C%20%22prefix%22%3A%20%22glyphicon%22%7D%0A%20%20%20%20%20%20%20%20%20%20%20%20%29%3B%0A%20%20%20%20%20%20%20%20%20%20%20%20marker_c6f4b00961a340a38143eae3dd603882.setIcon%28icon_aebed6832906485c9b836f9522a09028%29%3B%0A%20%20%20%20%20%20%20%20%0A%20%20%20%20%0A%20%20%20%20%20%20%20%20var%20popup_c800ad572b55434bace7f304066b5cad%20%3D%20L.popup%28%7B%22maxWidth%22%3A%20%22100%25%22%7D%29%3B%0A%0A%20%20%20%20%20%20%20%20%0A%20%20%20%20%20%20%20%20%20%20%20%20var%20html_ce975201811340ae9053d23c272e942a%20%3D%20%24%28%60%3Cdiv%20id%3D%22html_ce975201811340ae9053d23c272e942a%22%20style%3D%22width%3A%20100.0%25%3B%20height%3A%20100.0%25%3B%22%3E4400%20ELDERON%20AVE%2C%202020/12/3%3C/div%3E%60%29%5B0%5D%3B%0A%20%20%20%20%20%20%20%20%20%20%20%20popup_c800ad572b55434bace7f304066b5cad.setContent%28html_ce975201811340ae9053d23c272e942a%29%3B%0A%20%20%20%20%20%20%20%20%0A%0A%20%20%20%20%20%20%20%20marker_c6f4b00961a340a38143eae3dd603882.bindPopup%28popup_c800ad572b55434bace7f304066b5cad%29%0A%20%20%20%20%20%20%20%20%3B%0A%0A%20%20%20%20%20%20%20%20%0A%20%20%20%20%0A%20%20%20%20%0A%20%20%20%20%20%20%20%20%20%20%20%20var%20marker_e4f0081143084ccc91ed649ad505b72b%20%3D%20L.marker%28%0A%20%20%20%20%20%20%20%20%20%20%20%20%20%20%20%20%5B39.3107%2C%20-76.6509%5D%2C%0A%20%20%20%20%20%20%20%20%20%20%20%20%20%20%20%20%7B%7D%0A%20%20%20%20%20%20%20%20%20%20%20%20%29.addTo%28map_82dfc54417214e94a1bef2b8cef3065b%29%3B%0A%20%20%20%20%20%20%20%20%0A%20%20%20%20%0A%20%20%20%20%20%20%20%20%20%20%20%20var%20icon_0bebb1ba38a84e3b8871b4aae8dd1807%20%3D%20L.AwesomeMarkers.icon%28%0A%20%20%20%20%20%20%20%20%20%20%20%20%20%20%20%20%7B%22extraClasses%22%3A%20%22fa-rotate-0%22%2C%20%22icon%22%3A%20%22info-sign%22%2C%20%22iconColor%22%3A%20%22white%22%2C%20%22markerColor%22%3A%20%22darkblue%22%2C%20%22prefix%22%3A%20%22glyphicon%22%7D%0A%20%20%20%20%20%20%20%20%20%20%20%20%29%3B%0A%20%20%20%20%20%20%20%20%20%20%20%20marker_e4f0081143084ccc91ed649ad505b72b.setIcon%28icon_0bebb1ba38a84e3b8871b4aae8dd1807%29%3B%0A%20%20%20%20%20%20%20%20%0A%20%20%20%20%0A%20%20%20%20%20%20%20%20var%20popup_55652c53e14f4a869467bdb14af2ffab%20%3D%20L.popup%28%7B%22maxWidth%22%3A%20%22100%25%22%7D%29%3B%0A%0A%20%20%20%20%20%20%20%20%0A%20%20%20%20%20%20%20%20%20%20%20%20var%20html_7c9f0f1145a74624b1a4e2d56eccf946%20%3D%20%24%28%60%3Cdiv%20id%3D%22html_7c9f0f1145a74624b1a4e2d56eccf946%22%20style%3D%22width%3A%20100.0%25%3B%20height%3A%20100.0%25%3B%22%3E2000%20WALBROOK%20AVE%2C%202020/12/3%3C/div%3E%60%29%5B0%5D%3B%0A%20%20%20%20%20%20%20%20%20%20%20%20popup_55652c53e14f4a869467bdb14af2ffab.setContent%28html_7c9f0f1145a74624b1a4e2d56eccf946%29%3B%0A%20%20%20%20%20%20%20%20%0A%0A%20%20%20%20%20%20%20%20marker_e4f0081143084ccc91ed649ad505b72b.bindPopup%28popup_55652c53e14f4a869467bdb14af2ffab%29%0A%20%20%20%20%20%20%20%20%3B%0A%0A%20%20%20%20%20%20%20%20%0A%20%20%20%20%0A%20%20%20%20%0A%20%20%20%20%20%20%20%20%20%20%20%20var%20marker_555fe39122ba4961899e9d9cd2190ae3%20%3D%20L.marker%28%0A%20%20%20%20%20%20%20%20%20%20%20%20%20%20%20%20%5B39.3629%2C%20-76.61%5D%2C%0A%20%20%20%20%20%20%20%20%20%20%20%20%20%20%20%20%7B%7D%0A%20%20%20%20%20%20%20%20%20%20%20%20%29.addTo%28map_82dfc54417214e94a1bef2b8cef3065b%29%3B%0A%20%20%20%20%20%20%20%20%0A%20%20%20%20%0A%20%20%20%20%20%20%20%20%20%20%20%20var%20icon_2be454c393aa40d286af26c35dfd92f3%20%3D%20L.AwesomeMarkers.icon%28%0A%20%20%20%20%20%20%20%20%20%20%20%20%20%20%20%20%7B%22extraClasses%22%3A%20%22fa-rotate-0%22%2C%20%22icon%22%3A%20%22info-sign%22%2C%20%22iconColor%22%3A%20%22white%22%2C%20%22markerColor%22%3A%20%22darkblue%22%2C%20%22prefix%22%3A%20%22glyphicon%22%7D%0A%20%20%20%20%20%20%20%20%20%20%20%20%29%3B%0A%20%20%20%20%20%20%20%20%20%20%20%20marker_555fe39122ba4961899e9d9cd2190ae3.setIcon%28icon_2be454c393aa40d286af26c35dfd92f3%29%3B%0A%20%20%20%20%20%20%20%20%0A%20%20%20%20%0A%20%20%20%20%20%20%20%20var%20popup_68b4f87390ed406a88330c406c1b8e66%20%3D%20L.popup%28%7B%22maxWidth%22%3A%20%22100%25%22%7D%29%3B%0A%0A%20%20%20%20%20%20%20%20%0A%20%20%20%20%20%20%20%20%20%20%20%20var%20html_f0d3dfd8869f4aa6ab44495acebc8673%20%3D%20%24%28%60%3Cdiv%20id%3D%22html_f0d3dfd8869f4aa6ab44495acebc8673%22%20style%3D%22width%3A%20100.0%25%3B%20height%3A%20100.0%25%3B%22%3E5900%20YORK%20RD%2C%202020/12/3%3C/div%3E%60%29%5B0%5D%3B%0A%20%20%20%20%20%20%20%20%20%20%20%20popup_68b4f87390ed406a88330c406c1b8e66.setContent%28html_f0d3dfd8869f4aa6ab44495acebc8673%29%3B%0A%20%20%20%20%20%20%20%20%0A%0A%20%20%20%20%20%20%20%20marker_555fe39122ba4961899e9d9cd2190ae3.bindPopup%28popup_68b4f87390ed406a88330c406c1b8e66%29%0A%20%20%20%20%20%20%20%20%3B%0A%0A%20%20%20%20%20%20%20%20%0A%20%20%20%20%0A%20%20%20%20%0A%20%20%20%20%20%20%20%20%20%20%20%20var%20marker_82da1859489b407c947a55d4e5594f56%20%3D%20L.marker%28%0A%20%20%20%20%20%20%20%20%20%20%20%20%20%20%20%20%5B39.3017%2C%20-76.6255%5D%2C%0A%20%20%20%20%20%20%20%20%20%20%20%20%20%20%20%20%7B%7D%0A%20%20%20%20%20%20%20%20%20%20%20%20%29.addTo%28map_82dfc54417214e94a1bef2b8cef3065b%29%3B%0A%20%20%20%20%20%20%20%20%0A%20%20%20%20%0A%20%20%20%20%20%20%20%20%20%20%20%20var%20icon_7df278f6fba547d187832a0a0ccddd01%20%3D%20L.AwesomeMarkers.icon%28%0A%20%20%20%20%20%20%20%20%20%20%20%20%20%20%20%20%7B%22extraClasses%22%3A%20%22fa-rotate-0%22%2C%20%22icon%22%3A%20%22info-sign%22%2C%20%22iconColor%22%3A%20%22white%22%2C%20%22markerColor%22%3A%20%22darkblue%22%2C%20%22prefix%22%3A%20%22glyphicon%22%7D%0A%20%20%20%20%20%20%20%20%20%20%20%20%29%3B%0A%20%20%20%20%20%20%20%20%20%20%20%20marker_82da1859489b407c947a55d4e5594f56.setIcon%28icon_7df278f6fba547d187832a0a0ccddd01%29%3B%0A%20%20%20%20%20%20%20%20%0A%20%20%20%20%0A%20%20%20%20%20%20%20%20var%20popup_b0fc10d0f1b040d5961cdcbc78dfd3bb%20%3D%20L.popup%28%7B%22maxWidth%22%3A%20%22100%25%22%7D%29%3B%0A%0A%20%20%20%20%20%20%20%20%0A%20%20%20%20%20%20%20%20%20%20%20%20var%20html_0931ba8055b84a2db896b29ac47a0a66%20%3D%20%24%28%60%3Cdiv%20id%3D%22html_0931ba8055b84a2db896b29ac47a0a66%22%20style%3D%22width%3A%20100.0%25%3B%20height%3A%20100.0%25%3B%22%3E1100%20TIFFANY%20CT%2C%202020/12/3%3C/div%3E%60%29%5B0%5D%3B%0A%20%20%20%20%20%20%20%20%20%20%20%20popup_b0fc10d0f1b040d5961cdcbc78dfd3bb.setContent%28html_0931ba8055b84a2db896b29ac47a0a66%29%3B%0A%20%20%20%20%20%20%20%20%0A%0A%20%20%20%20%20%20%20%20marker_82da1859489b407c947a55d4e5594f56.bindPopup%28popup_b0fc10d0f1b040d5961cdcbc78dfd3bb%29%0A%20%20%20%20%20%20%20%20%3B%0A%0A%20%20%20%20%20%20%20%20%0A%20%20%20%20%0A%20%20%20%20%0A%20%20%20%20%20%20%20%20%20%20%20%20var%20marker_4613fbe8b90f44beb404084db0d262ae%20%3D%20L.marker%28%0A%20%20%20%20%20%20%20%20%20%20%20%20%20%20%20%20%5B39.3528%2C%20-76.6668%5D%2C%0A%20%20%20%20%20%20%20%20%20%20%20%20%20%20%20%20%7B%7D%0A%20%20%20%20%20%20%20%20%20%20%20%20%29.addTo%28map_82dfc54417214e94a1bef2b8cef3065b%29%3B%0A%20%20%20%20%20%20%20%20%0A%20%20%20%20%0A%20%20%20%20%20%20%20%20%20%20%20%20var%20icon_86b490feff8b49d892f7be36b334cccb%20%3D%20L.AwesomeMarkers.icon%28%0A%20%20%20%20%20%20%20%20%20%20%20%20%20%20%20%20%7B%22extraClasses%22%3A%20%22fa-rotate-0%22%2C%20%22icon%22%3A%20%22info-sign%22%2C%20%22iconColor%22%3A%20%22white%22%2C%20%22markerColor%22%3A%20%22darkblue%22%2C%20%22prefix%22%3A%20%22glyphicon%22%7D%0A%20%20%20%20%20%20%20%20%20%20%20%20%29%3B%0A%20%20%20%20%20%20%20%20%20%20%20%20marker_4613fbe8b90f44beb404084db0d262ae.setIcon%28icon_86b490feff8b49d892f7be36b334cccb%29%3B%0A%20%20%20%20%20%20%20%20%0A%20%20%20%20%0A%20%20%20%20%20%20%20%20var%20popup_0f32efedab304026b7173e037378f5cb%20%3D%20L.popup%28%7B%22maxWidth%22%3A%20%22100%25%22%7D%29%3B%0A%0A%20%20%20%20%20%20%20%20%0A%20%20%20%20%20%20%20%20%20%20%20%20var%20html_4ae7fe5cff624efd81ed65c2607355be%20%3D%20%24%28%60%3Cdiv%20id%3D%22html_4ae7fe5cff624efd81ed65c2607355be%22%20style%3D%22width%3A%20100.0%25%3B%20height%3A%20100.0%25%3B%22%3E2500%20W%20BELVEDERE%20AVE%2C%202020/12/3%3C/div%3E%60%29%5B0%5D%3B%0A%20%20%20%20%20%20%20%20%20%20%20%20popup_0f32efedab304026b7173e037378f5cb.setContent%28html_4ae7fe5cff624efd81ed65c2607355be%29%3B%0A%20%20%20%20%20%20%20%20%0A%0A%20%20%20%20%20%20%20%20marker_4613fbe8b90f44beb404084db0d262ae.bindPopup%28popup_0f32efedab304026b7173e037378f5cb%29%0A%20%20%20%20%20%20%20%20%3B%0A%0A%20%20%20%20%20%20%20%20%0A%20%20%20%20%0A%20%20%20%20%0A%20%20%20%20%20%20%20%20%20%20%20%20var%20marker_e840a3329c8947e1a69ba6c6f6355658%20%3D%20L.marker%28%0A%20%20%20%20%20%20%20%20%20%20%20%20%20%20%20%20%5B39.3212%2C%20-76.5947%5D%2C%0A%20%20%20%20%20%20%20%20%20%20%20%20%20%20%20%20%7B%7D%0A%20%20%20%20%20%20%20%20%20%20%20%20%29.addTo%28map_82dfc54417214e94a1bef2b8cef3065b%29%3B%0A%20%20%20%20%20%20%20%20%0A%20%20%20%20%0A%20%20%20%20%20%20%20%20%20%20%20%20var%20icon_e25c27487a1444cabefa119db9a85014%20%3D%20L.AwesomeMarkers.icon%28%0A%20%20%20%20%20%20%20%20%20%20%20%20%20%20%20%20%7B%22extraClasses%22%3A%20%22fa-rotate-0%22%2C%20%22icon%22%3A%20%22info-sign%22%2C%20%22iconColor%22%3A%20%22white%22%2C%20%22markerColor%22%3A%20%22darkblue%22%2C%20%22prefix%22%3A%20%22glyphicon%22%7D%0A%20%20%20%20%20%20%20%20%20%20%20%20%29%3B%0A%20%20%20%20%20%20%20%20%20%20%20%20marker_e840a3329c8947e1a69ba6c6f6355658.setIcon%28icon_e25c27487a1444cabefa119db9a85014%29%3B%0A%20%20%20%20%20%20%20%20%0A%20%20%20%20%0A%20%20%20%20%20%20%20%20var%20popup_8e0e61cb5ed948acbdd803b8aaede5f2%20%3D%20L.popup%28%7B%22maxWidth%22%3A%20%22100%25%22%7D%29%3B%0A%0A%20%20%20%20%20%20%20%20%0A%20%20%20%20%20%20%20%20%20%20%20%20var%20html_07988b78bef14672b4f9ece96359a0c8%20%3D%20%24%28%60%3Cdiv%20id%3D%22html_07988b78bef14672b4f9ece96359a0c8%22%20style%3D%22width%3A%20100.0%25%3B%20height%3A%20100.0%25%3B%22%3E1600%20GORSUCH%20AVE%2C%202020/12/3%3C/div%3E%60%29%5B0%5D%3B%0A%20%20%20%20%20%20%20%20%20%20%20%20popup_8e0e61cb5ed948acbdd803b8aaede5f2.setContent%28html_07988b78bef14672b4f9ece96359a0c8%29%3B%0A%20%20%20%20%20%20%20%20%0A%0A%20%20%20%20%20%20%20%20marker_e840a3329c8947e1a69ba6c6f6355658.bindPopup%28popup_8e0e61cb5ed948acbdd803b8aaede5f2%29%0A%20%20%20%20%20%20%20%20%3B%0A%0A%20%20%20%20%20%20%20%20%0A%20%20%20%20%0A%20%20%20%20%0A%20%20%20%20%20%20%20%20%20%20%20%20var%20marker_5d6b52fc94c649b497b5de4b0aa554cd%20%3D%20L.marker%28%0A%20%20%20%20%20%20%20%20%20%20%20%20%20%20%20%20%5B39.2818%2C%20-76.5897%5D%2C%0A%20%20%20%20%20%20%20%20%20%20%20%20%20%20%20%20%7B%7D%0A%20%20%20%20%20%20%20%20%20%20%20%20%29.addTo%28map_82dfc54417214e94a1bef2b8cef3065b%29%3B%0A%20%20%20%20%20%20%20%20%0A%20%20%20%20%0A%20%20%20%20%20%20%20%20%20%20%20%20var%20icon_8074e287e3104f5cb358a63b6f732460%20%3D%20L.AwesomeMarkers.icon%28%0A%20%20%20%20%20%20%20%20%20%20%20%20%20%20%20%20%7B%22extraClasses%22%3A%20%22fa-rotate-0%22%2C%20%22icon%22%3A%20%22info-sign%22%2C%20%22iconColor%22%3A%20%22white%22%2C%20%22markerColor%22%3A%20%22darkblue%22%2C%20%22prefix%22%3A%20%22glyphicon%22%7D%0A%20%20%20%20%20%20%20%20%20%20%20%20%29%3B%0A%20%20%20%20%20%20%20%20%20%20%20%20marker_5d6b52fc94c649b497b5de4b0aa554cd.setIcon%28icon_8074e287e3104f5cb358a63b6f732460%29%3B%0A%20%20%20%20%20%20%20%20%0A%20%20%20%20%0A%20%20%20%20%20%20%20%20var%20popup_c3fbb738c84c441b9b2eecbc04c9c5ec%20%3D%20L.popup%28%7B%22maxWidth%22%3A%20%22100%25%22%7D%29%3B%0A%0A%20%20%20%20%20%20%20%20%0A%20%20%20%20%20%20%20%20%20%20%20%20var%20html_2d358d74de2a459392098bc0146c743a%20%3D%20%24%28%60%3Cdiv%20id%3D%22html_2d358d74de2a459392098bc0146c743a%22%20style%3D%22width%3A%20100.0%25%3B%20height%3A%20100.0%25%3B%22%3E900%20S%20WOLFE%20ST%2C%202020/12/3%3C/div%3E%60%29%5B0%5D%3B%0A%20%20%20%20%20%20%20%20%20%20%20%20popup_c3fbb738c84c441b9b2eecbc04c9c5ec.setContent%28html_2d358d74de2a459392098bc0146c743a%29%3B%0A%20%20%20%20%20%20%20%20%0A%0A%20%20%20%20%20%20%20%20marker_5d6b52fc94c649b497b5de4b0aa554cd.bindPopup%28popup_c3fbb738c84c441b9b2eecbc04c9c5ec%29%0A%20%20%20%20%20%20%20%20%3B%0A%0A%20%20%20%20%20%20%20%20%0A%20%20%20%20%0A%20%20%20%20%0A%20%20%20%20%20%20%20%20%20%20%20%20var%20marker_a85c327d02c143228c7f5313cf1b43b6%20%3D%20L.marker%28%0A%20%20%20%20%20%20%20%20%20%20%20%20%20%20%20%20%5B39.2858%2C%20-76.6763%5D%2C%0A%20%20%20%20%20%20%20%20%20%20%20%20%20%20%20%20%7B%7D%0A%20%20%20%20%20%20%20%20%20%20%20%20%29.addTo%28map_82dfc54417214e94a1bef2b8cef3065b%29%3B%0A%20%20%20%20%20%20%20%20%0A%20%20%20%20%0A%20%20%20%20%20%20%20%20%20%20%20%20var%20icon_f8ea474ad7cd4cc8afb9d17982fa86cc%20%3D%20L.AwesomeMarkers.icon%28%0A%20%20%20%20%20%20%20%20%20%20%20%20%20%20%20%20%7B%22extraClasses%22%3A%20%22fa-rotate-0%22%2C%20%22icon%22%3A%20%22info-sign%22%2C%20%22iconColor%22%3A%20%22white%22%2C%20%22markerColor%22%3A%20%22darkblue%22%2C%20%22prefix%22%3A%20%22glyphicon%22%7D%0A%20%20%20%20%20%20%20%20%20%20%20%20%29%3B%0A%20%20%20%20%20%20%20%20%20%20%20%20marker_a85c327d02c143228c7f5313cf1b43b6.setIcon%28icon_f8ea474ad7cd4cc8afb9d17982fa86cc%29%3B%0A%20%20%20%20%20%20%20%20%0A%20%20%20%20%0A%20%20%20%20%20%20%20%20var%20popup_ff4dd9e03d0b490e8648068c66c0c885%20%3D%20L.popup%28%7B%22maxWidth%22%3A%20%22100%25%22%7D%29%3B%0A%0A%20%20%20%20%20%20%20%20%0A%20%20%20%20%20%20%20%20%20%20%20%20var%20html_6511a58038bd4f92bc0420c57d2157b7%20%3D%20%24%28%60%3Cdiv%20id%3D%22html_6511a58038bd4f92bc0420c57d2157b7%22%20style%3D%22width%3A%20100.0%25%3B%20height%3A%20100.0%25%3B%22%3E0%20S%20KOSSUTH%20ST%2C%202020/12/3%3C/div%3E%60%29%5B0%5D%3B%0A%20%20%20%20%20%20%20%20%20%20%20%20popup_ff4dd9e03d0b490e8648068c66c0c885.setContent%28html_6511a58038bd4f92bc0420c57d2157b7%29%3B%0A%20%20%20%20%20%20%20%20%0A%0A%20%20%20%20%20%20%20%20marker_a85c327d02c143228c7f5313cf1b43b6.bindPopup%28popup_ff4dd9e03d0b490e8648068c66c0c885%29%0A%20%20%20%20%20%20%20%20%3B%0A%0A%20%20%20%20%20%20%20%20%0A%20%20%20%20%0A%20%20%20%20%0A%20%20%20%20%20%20%20%20%20%20%20%20var%20marker_1cf9295ff8384746918548926a1c977a%20%3D%20L.marker%28%0A%20%20%20%20%20%20%20%20%20%20%20%20%20%20%20%20%5B39.2924%2C%20-76.6332%5D%2C%0A%20%20%20%20%20%20%20%20%20%20%20%20%20%20%20%20%7B%7D%0A%20%20%20%20%20%20%20%20%20%20%20%20%29.addTo%28map_82dfc54417214e94a1bef2b8cef3065b%29%3B%0A%20%20%20%20%20%20%20%20%0A%20%20%20%20%0A%20%20%20%20%20%20%20%20%20%20%20%20var%20icon_c51d1407343e4787a96a115aa905296c%20%3D%20L.AwesomeMarkers.icon%28%0A%20%20%20%20%20%20%20%20%20%20%20%20%20%20%20%20%7B%22extraClasses%22%3A%20%22fa-rotate-0%22%2C%20%22icon%22%3A%20%22info-sign%22%2C%20%22iconColor%22%3A%20%22white%22%2C%20%22markerColor%22%3A%20%22darkblue%22%2C%20%22prefix%22%3A%20%22glyphicon%22%7D%0A%20%20%20%20%20%20%20%20%20%20%20%20%29%3B%0A%20%20%20%20%20%20%20%20%20%20%20%20marker_1cf9295ff8384746918548926a1c977a.setIcon%28icon_c51d1407343e4787a96a115aa905296c%29%3B%0A%20%20%20%20%20%20%20%20%0A%20%20%20%20%0A%20%20%20%20%20%20%20%20var%20popup_65b6cf1ab5b44d3e82b6fe8bf9f9a342%20%3D%20L.popup%28%7B%22maxWidth%22%3A%20%22100%25%22%7D%29%3B%0A%0A%20%20%20%20%20%20%20%20%0A%20%20%20%20%20%20%20%20%20%20%20%20var%20html_ec7195b46eb14afb890fe5b2487818ab%20%3D%20%24%28%60%3Cdiv%20id%3D%22html_ec7195b46eb14afb890fe5b2487818ab%22%20style%3D%22width%3A%20100.0%25%3B%20height%3A%20100.0%25%3B%22%3E900%20W%20SARATOGA%20ST%2C%202020/12/3%3C/div%3E%60%29%5B0%5D%3B%0A%20%20%20%20%20%20%20%20%20%20%20%20popup_65b6cf1ab5b44d3e82b6fe8bf9f9a342.setContent%28html_ec7195b46eb14afb890fe5b2487818ab%29%3B%0A%20%20%20%20%20%20%20%20%0A%0A%20%20%20%20%20%20%20%20marker_1cf9295ff8384746918548926a1c977a.bindPopup%28popup_65b6cf1ab5b44d3e82b6fe8bf9f9a342%29%0A%20%20%20%20%20%20%20%20%3B%0A%0A%20%20%20%20%20%20%20%20%0A%20%20%20%20%0A%20%20%20%20%0A%20%20%20%20%20%20%20%20%20%20%20%20var%20marker_5cd54d0e4b0b4383af96ae70f40a28a4%20%3D%20L.marker%28%0A%20%20%20%20%20%20%20%20%20%20%20%20%20%20%20%20%5B39.2818%2C%20-76.5897%5D%2C%0A%20%20%20%20%20%20%20%20%20%20%20%20%20%20%20%20%7B%7D%0A%20%20%20%20%20%20%20%20%20%20%20%20%29.addTo%28map_82dfc54417214e94a1bef2b8cef3065b%29%3B%0A%20%20%20%20%20%20%20%20%0A%20%20%20%20%0A%20%20%20%20%20%20%20%20%20%20%20%20var%20icon_3afae45ae9fc4acbb6222a3ba2d371a7%20%3D%20L.AwesomeMarkers.icon%28%0A%20%20%20%20%20%20%20%20%20%20%20%20%20%20%20%20%7B%22extraClasses%22%3A%20%22fa-rotate-0%22%2C%20%22icon%22%3A%20%22info-sign%22%2C%20%22iconColor%22%3A%20%22white%22%2C%20%22markerColor%22%3A%20%22darkblue%22%2C%20%22prefix%22%3A%20%22glyphicon%22%7D%0A%20%20%20%20%20%20%20%20%20%20%20%20%29%3B%0A%20%20%20%20%20%20%20%20%20%20%20%20marker_5cd54d0e4b0b4383af96ae70f40a28a4.setIcon%28icon_3afae45ae9fc4acbb6222a3ba2d371a7%29%3B%0A%20%20%20%20%20%20%20%20%0A%20%20%20%20%0A%20%20%20%20%20%20%20%20var%20popup_fb457f02cd66490997a0131cbc9a7c33%20%3D%20L.popup%28%7B%22maxWidth%22%3A%20%22100%25%22%7D%29%3B%0A%0A%20%20%20%20%20%20%20%20%0A%20%20%20%20%20%20%20%20%20%20%20%20var%20html_fa29b03cb0c745cbb21494a1bb10051b%20%3D%20%24%28%60%3Cdiv%20id%3D%22html_fa29b03cb0c745cbb21494a1bb10051b%22%20style%3D%22width%3A%20100.0%25%3B%20height%3A%20100.0%25%3B%22%3E900%20S%20WOLFE%20ST%2C%202020/12/3%3C/div%3E%60%29%5B0%5D%3B%0A%20%20%20%20%20%20%20%20%20%20%20%20popup_fb457f02cd66490997a0131cbc9a7c33.setContent%28html_fa29b03cb0c745cbb21494a1bb10051b%29%3B%0A%20%20%20%20%20%20%20%20%0A%0A%20%20%20%20%20%20%20%20marker_5cd54d0e4b0b4383af96ae70f40a28a4.bindPopup%28popup_fb457f02cd66490997a0131cbc9a7c33%29%0A%20%20%20%20%20%20%20%20%3B%0A%0A%20%20%20%20%20%20%20%20%0A%20%20%20%20%0A%20%20%20%20%0A%20%20%20%20%20%20%20%20%20%20%20%20var%20marker_04b5c98fd1064e7cafafe00b7b56fe76%20%3D%20L.marker%28%0A%20%20%20%20%20%20%20%20%20%20%20%20%20%20%20%20%5B39.3519%2C%20-76.6814%5D%2C%0A%20%20%20%20%20%20%20%20%20%20%20%20%20%20%20%20%7B%7D%0A%20%20%20%20%20%20%20%20%20%20%20%20%29.addTo%28map_82dfc54417214e94a1bef2b8cef3065b%29%3B%0A%20%20%20%20%20%20%20%20%0A%20%20%20%20%0A%20%20%20%20%20%20%20%20%20%20%20%20var%20icon_4227204e6b8b41dea4f16ca633c54ac1%20%3D%20L.AwesomeMarkers.icon%28%0A%20%20%20%20%20%20%20%20%20%20%20%20%20%20%20%20%7B%22extraClasses%22%3A%20%22fa-rotate-0%22%2C%20%22icon%22%3A%20%22info-sign%22%2C%20%22iconColor%22%3A%20%22white%22%2C%20%22markerColor%22%3A%20%22darkblue%22%2C%20%22prefix%22%3A%20%22glyphicon%22%7D%0A%20%20%20%20%20%20%20%20%20%20%20%20%29%3B%0A%20%20%20%20%20%20%20%20%20%20%20%20marker_04b5c98fd1064e7cafafe00b7b56fe76.setIcon%28icon_4227204e6b8b41dea4f16ca633c54ac1%29%3B%0A%20%20%20%20%20%20%20%20%0A%20%20%20%20%0A%20%20%20%20%20%20%20%20var%20popup_cdf70830d5d44588985fbd4544c6e44a%20%3D%20L.popup%28%7B%22maxWidth%22%3A%20%22100%25%22%7D%29%3B%0A%0A%20%20%20%20%20%20%20%20%0A%20%20%20%20%20%20%20%20%20%20%20%20var%20html_574fbda8448b4b778b2b291c320fc85a%20%3D%20%24%28%60%3Cdiv%20id%3D%22html_574fbda8448b4b778b2b291c320fc85a%22%20style%3D%22width%3A%20100.0%25%3B%20height%3A%20100.0%25%3B%22%3E3500%20INGLESIDE%20AVE%2C%202020/12/3%3C/div%3E%60%29%5B0%5D%3B%0A%20%20%20%20%20%20%20%20%20%20%20%20popup_cdf70830d5d44588985fbd4544c6e44a.setContent%28html_574fbda8448b4b778b2b291c320fc85a%29%3B%0A%20%20%20%20%20%20%20%20%0A%0A%20%20%20%20%20%20%20%20marker_04b5c98fd1064e7cafafe00b7b56fe76.bindPopup%28popup_cdf70830d5d44588985fbd4544c6e44a%29%0A%20%20%20%20%20%20%20%20%3B%0A%0A%20%20%20%20%20%20%20%20%0A%20%20%20%20%0A%20%20%20%20%0A%20%20%20%20%20%20%20%20%20%20%20%20var%20marker_e4dcca751adc466fbee91857f770a571%20%3D%20L.marker%28%0A%20%20%20%20%20%20%20%20%20%20%20%20%20%20%20%20%5B39.2387%2C%20-76.6017%5D%2C%0A%20%20%20%20%20%20%20%20%20%20%20%20%20%20%20%20%7B%7D%0A%20%20%20%20%20%20%20%20%20%20%20%20%29.addTo%28map_82dfc54417214e94a1bef2b8cef3065b%29%3B%0A%20%20%20%20%20%20%20%20%0A%20%20%20%20%0A%20%20%20%20%20%20%20%20%20%20%20%20var%20icon_b7765a384fb5465aa16c8a612c7dcaf3%20%3D%20L.AwesomeMarkers.icon%28%0A%20%20%20%20%20%20%20%20%20%20%20%20%20%20%20%20%7B%22extraClasses%22%3A%20%22fa-rotate-0%22%2C%20%22icon%22%3A%20%22info-sign%22%2C%20%22iconColor%22%3A%20%22white%22%2C%20%22markerColor%22%3A%20%22darkblue%22%2C%20%22prefix%22%3A%20%22glyphicon%22%7D%0A%20%20%20%20%20%20%20%20%20%20%20%20%29%3B%0A%20%20%20%20%20%20%20%20%20%20%20%20marker_e4dcca751adc466fbee91857f770a571.setIcon%28icon_b7765a384fb5465aa16c8a612c7dcaf3%29%3B%0A%20%20%20%20%20%20%20%20%0A%20%20%20%20%0A%20%20%20%20%20%20%20%20var%20popup_730234ac4af34bacbbd8fe532c59c9d6%20%3D%20L.popup%28%7B%22maxWidth%22%3A%20%22100%25%22%7D%29%3B%0A%0A%20%20%20%20%20%20%20%20%0A%20%20%20%20%20%20%20%20%20%20%20%20var%20html_7e44687222ee47cfba6316021b11ba68%20%3D%20%24%28%60%3Cdiv%20id%3D%22html_7e44687222ee47cfba6316021b11ba68%22%20style%3D%22width%3A%20100.0%25%3B%20height%3A%20100.0%25%3B%22%3E500%20MAUDE%20AVE%2C%202020/12/3%3C/div%3E%60%29%5B0%5D%3B%0A%20%20%20%20%20%20%20%20%20%20%20%20popup_730234ac4af34bacbbd8fe532c59c9d6.setContent%28html_7e44687222ee47cfba6316021b11ba68%29%3B%0A%20%20%20%20%20%20%20%20%0A%0A%20%20%20%20%20%20%20%20marker_e4dcca751adc466fbee91857f770a571.bindPopup%28popup_730234ac4af34bacbbd8fe532c59c9d6%29%0A%20%20%20%20%20%20%20%20%3B%0A%0A%20%20%20%20%20%20%20%20%0A%20%20%20%20%0A%20%20%20%20%0A%20%20%20%20%20%20%20%20%20%20%20%20var%20marker_6a5558fd97454143bc6a03936adebc9c%20%3D%20L.marker%28%0A%20%20%20%20%20%20%20%20%20%20%20%20%20%20%20%20%5B39.2885%2C%20-76.6768%5D%2C%0A%20%20%20%20%20%20%20%20%20%20%20%20%20%20%20%20%7B%7D%0A%20%20%20%20%20%20%20%20%20%20%20%20%29.addTo%28map_82dfc54417214e94a1bef2b8cef3065b%29%3B%0A%20%20%20%20%20%20%20%20%0A%20%20%20%20%0A%20%20%20%20%20%20%20%20%20%20%20%20var%20icon_adec140e979643e58c66c5d59e063ff6%20%3D%20L.AwesomeMarkers.icon%28%0A%20%20%20%20%20%20%20%20%20%20%20%20%20%20%20%20%7B%22extraClasses%22%3A%20%22fa-rotate-0%22%2C%20%22icon%22%3A%20%22info-sign%22%2C%20%22iconColor%22%3A%20%22white%22%2C%20%22markerColor%22%3A%20%22darkblue%22%2C%20%22prefix%22%3A%20%22glyphicon%22%7D%0A%20%20%20%20%20%20%20%20%20%20%20%20%29%3B%0A%20%20%20%20%20%20%20%20%20%20%20%20marker_6a5558fd97454143bc6a03936adebc9c.setIcon%28icon_adec140e979643e58c66c5d59e063ff6%29%3B%0A%20%20%20%20%20%20%20%20%0A%20%20%20%20%0A%20%20%20%20%20%20%20%20var%20popup_fb11395db2a94fceb181f66ac272206d%20%3D%20L.popup%28%7B%22maxWidth%22%3A%20%22100%25%22%7D%29%3B%0A%0A%20%20%20%20%20%20%20%20%0A%20%20%20%20%20%20%20%20%20%20%20%20var%20html_d12bbf1e2761494caa064e483004e647%20%3D%20%24%28%60%3Cdiv%20id%3D%22html_d12bbf1e2761494caa064e483004e647%22%20style%3D%22width%3A%20100.0%25%3B%20height%3A%20100.0%25%3B%22%3E100%20DENISON%20ST%2C%202020/12/3%3C/div%3E%60%29%5B0%5D%3B%0A%20%20%20%20%20%20%20%20%20%20%20%20popup_fb11395db2a94fceb181f66ac272206d.setContent%28html_d12bbf1e2761494caa064e483004e647%29%3B%0A%20%20%20%20%20%20%20%20%0A%0A%20%20%20%20%20%20%20%20marker_6a5558fd97454143bc6a03936adebc9c.bindPopup%28popup_fb11395db2a94fceb181f66ac272206d%29%0A%20%20%20%20%20%20%20%20%3B%0A%0A%20%20%20%20%20%20%20%20%0A%20%20%20%20%0A%20%20%20%20%0A%20%20%20%20%20%20%20%20%20%20%20%20var%20marker_d214ab597e3e46398416d4e7c20a70f9%20%3D%20L.marker%28%0A%20%20%20%20%20%20%20%20%20%20%20%20%20%20%20%20%5B39.3353%2C%20-76.5372%5D%2C%0A%20%20%20%20%20%20%20%20%20%20%20%20%20%20%20%20%7B%7D%0A%20%20%20%20%20%20%20%20%20%20%20%20%29.addTo%28map_82dfc54417214e94a1bef2b8cef3065b%29%3B%0A%20%20%20%20%20%20%20%20%0A%20%20%20%20%0A%20%20%20%20%20%20%20%20%20%20%20%20var%20icon_b137d423dc014915a6544e51ae09ebb4%20%3D%20L.AwesomeMarkers.icon%28%0A%20%20%20%20%20%20%20%20%20%20%20%20%20%20%20%20%7B%22extraClasses%22%3A%20%22fa-rotate-0%22%2C%20%22icon%22%3A%20%22info-sign%22%2C%20%22iconColor%22%3A%20%22white%22%2C%20%22markerColor%22%3A%20%22darkblue%22%2C%20%22prefix%22%3A%20%22glyphicon%22%7D%0A%20%20%20%20%20%20%20%20%20%20%20%20%29%3B%0A%20%20%20%20%20%20%20%20%20%20%20%20marker_d214ab597e3e46398416d4e7c20a70f9.setIcon%28icon_b137d423dc014915a6544e51ae09ebb4%29%3B%0A%20%20%20%20%20%20%20%20%0A%20%20%20%20%0A%20%20%20%20%20%20%20%20var%20popup_78854b3b56174b33b70a5fb067627757%20%3D%20L.popup%28%7B%22maxWidth%22%3A%20%22100%25%22%7D%29%3B%0A%0A%20%20%20%20%20%20%20%20%0A%20%20%20%20%20%20%20%20%20%20%20%20var%20html_e6e249b0a50d4968bbf17fad2421e799%20%3D%20%24%28%60%3Cdiv%20id%3D%22html_e6e249b0a50d4968bbf17fad2421e799%22%20style%3D%22width%3A%20100.0%25%3B%20height%3A%20100.0%25%3B%22%3E5800%20ARIZONA%20AVE%2C%202020/12/3%3C/div%3E%60%29%5B0%5D%3B%0A%20%20%20%20%20%20%20%20%20%20%20%20popup_78854b3b56174b33b70a5fb067627757.setContent%28html_e6e249b0a50d4968bbf17fad2421e799%29%3B%0A%20%20%20%20%20%20%20%20%0A%0A%20%20%20%20%20%20%20%20marker_d214ab597e3e46398416d4e7c20a70f9.bindPopup%28popup_78854b3b56174b33b70a5fb067627757%29%0A%20%20%20%20%20%20%20%20%3B%0A%0A%20%20%20%20%20%20%20%20%0A%20%20%20%20%0A%20%20%20%20%0A%20%20%20%20%20%20%20%20%20%20%20%20var%20marker_92bc7df296614bb8a663f8de5e9bfabe%20%3D%20L.marker%28%0A%20%20%20%20%20%20%20%20%20%20%20%20%20%20%20%20%5B39.3455%2C%20-76.5673%5D%2C%0A%20%20%20%20%20%20%20%20%20%20%20%20%20%20%20%20%7B%7D%0A%20%20%20%20%20%20%20%20%20%20%20%20%29.addTo%28map_82dfc54417214e94a1bef2b8cef3065b%29%3B%0A%20%20%20%20%20%20%20%20%0A%20%20%20%20%0A%20%20%20%20%20%20%20%20%20%20%20%20var%20icon_b68f14a9be9342e6adc2d6f89cc866eb%20%3D%20L.AwesomeMarkers.icon%28%0A%20%20%20%20%20%20%20%20%20%20%20%20%20%20%20%20%7B%22extraClasses%22%3A%20%22fa-rotate-0%22%2C%20%22icon%22%3A%20%22info-sign%22%2C%20%22iconColor%22%3A%20%22white%22%2C%20%22markerColor%22%3A%20%22darkblue%22%2C%20%22prefix%22%3A%20%22glyphicon%22%7D%0A%20%20%20%20%20%20%20%20%20%20%20%20%29%3B%0A%20%20%20%20%20%20%20%20%20%20%20%20marker_92bc7df296614bb8a663f8de5e9bfabe.setIcon%28icon_b68f14a9be9342e6adc2d6f89cc866eb%29%3B%0A%20%20%20%20%20%20%20%20%0A%20%20%20%20%0A%20%20%20%20%20%20%20%20var%20popup_433e85ab347745ed8932bce88036b12d%20%3D%20L.popup%28%7B%22maxWidth%22%3A%20%22100%25%22%7D%29%3B%0A%0A%20%20%20%20%20%20%20%20%0A%20%20%20%20%20%20%20%20%20%20%20%20var%20html_09982d789f684736a3124389ad0f39d0%20%3D%20%24%28%60%3Cdiv%20id%3D%22html_09982d789f684736a3124389ad0f39d0%22%20style%3D%22width%3A%20100.0%25%3B%20height%3A%20100.0%25%3B%22%3E4900%20HARFORD%20RD%2C%202020/12/3%3C/div%3E%60%29%5B0%5D%3B%0A%20%20%20%20%20%20%20%20%20%20%20%20popup_433e85ab347745ed8932bce88036b12d.setContent%28html_09982d789f684736a3124389ad0f39d0%29%3B%0A%20%20%20%20%20%20%20%20%0A%0A%20%20%20%20%20%20%20%20marker_92bc7df296614bb8a663f8de5e9bfabe.bindPopup%28popup_433e85ab347745ed8932bce88036b12d%29%0A%20%20%20%20%20%20%20%20%3B%0A%0A%20%20%20%20%20%20%20%20%0A%20%20%20%20%0A%20%20%20%20%0A%20%20%20%20%20%20%20%20%20%20%20%20var%20marker_dcbbc0e59d3a4e4eaf27926a0b224d8c%20%3D%20L.marker%28%0A%20%20%20%20%20%20%20%20%20%20%20%20%20%20%20%20%5B39.2955%2C%20-76.6251%5D%2C%0A%20%20%20%20%20%20%20%20%20%20%20%20%20%20%20%20%7B%7D%0A%20%20%20%20%20%20%20%20%20%20%20%20%29.addTo%28map_82dfc54417214e94a1bef2b8cef3065b%29%3B%0A%20%20%20%20%20%20%20%20%0A%20%20%20%20%0A%20%20%20%20%20%20%20%20%20%20%20%20var%20icon_1efac4a4846e4651a371abb11aa20342%20%3D%20L.AwesomeMarkers.icon%28%0A%20%20%20%20%20%20%20%20%20%20%20%20%20%20%20%20%7B%22extraClasses%22%3A%20%22fa-rotate-0%22%2C%20%22icon%22%3A%20%22info-sign%22%2C%20%22iconColor%22%3A%20%22white%22%2C%20%22markerColor%22%3A%20%22beige%22%2C%20%22prefix%22%3A%20%22glyphicon%22%7D%0A%20%20%20%20%20%20%20%20%20%20%20%20%29%3B%0A%20%20%20%20%20%20%20%20%20%20%20%20marker_dcbbc0e59d3a4e4eaf27926a0b224d8c.setIcon%28icon_1efac4a4846e4651a371abb11aa20342%29%3B%0A%20%20%20%20%20%20%20%20%0A%20%20%20%20%0A%20%20%20%20%20%20%20%20var%20popup_7a3e6b2303be48049d6d860749d074ed%20%3D%20L.popup%28%7B%22maxWidth%22%3A%20%22100%25%22%7D%29%3B%0A%0A%20%20%20%20%20%20%20%20%0A%20%20%20%20%20%20%20%20%20%20%20%20var%20html_0b9325702ca0431e9aa82b35f5bd412f%20%3D%20%24%28%60%3Cdiv%20id%3D%22html_0b9325702ca0431e9aa82b35f5bd412f%22%20style%3D%22width%3A%20100.0%25%3B%20height%3A%20100.0%25%3B%22%3E600%20GEORGE%20ST%2C%202019/12/3%3C/div%3E%60%29%5B0%5D%3B%0A%20%20%20%20%20%20%20%20%20%20%20%20popup_7a3e6b2303be48049d6d860749d074ed.setContent%28html_0b9325702ca0431e9aa82b35f5bd412f%29%3B%0A%20%20%20%20%20%20%20%20%0A%0A%20%20%20%20%20%20%20%20marker_dcbbc0e59d3a4e4eaf27926a0b224d8c.bindPopup%28popup_7a3e6b2303be48049d6d860749d074ed%29%0A%20%20%20%20%20%20%20%20%3B%0A%0A%20%20%20%20%20%20%20%20%0A%20%20%20%20%0A%20%20%20%20%0A%20%20%20%20%20%20%20%20%20%20%20%20var%20marker_fdbd2dad6daf40a7953c791422526ca9%20%3D%20L.marker%28%0A%20%20%20%20%20%20%20%20%20%20%20%20%20%20%20%20%5B39.3705%2C%20-76.5472%5D%2C%0A%20%20%20%20%20%20%20%20%20%20%20%20%20%20%20%20%7B%7D%0A%20%20%20%20%20%20%20%20%20%20%20%20%29.addTo%28map_82dfc54417214e94a1bef2b8cef3065b%29%3B%0A%20%20%20%20%20%20%20%20%0A%20%20%20%20%0A%20%20%20%20%20%20%20%20%20%20%20%20var%20icon_7c8a9f2f1d1248309467444f77633986%20%3D%20L.AwesomeMarkers.icon%28%0A%20%20%20%20%20%20%20%20%20%20%20%20%20%20%20%20%7B%22extraClasses%22%3A%20%22fa-rotate-0%22%2C%20%22icon%22%3A%20%22info-sign%22%2C%20%22iconColor%22%3A%20%22white%22%2C%20%22markerColor%22%3A%20%22beige%22%2C%20%22prefix%22%3A%20%22glyphicon%22%7D%0A%20%20%20%20%20%20%20%20%20%20%20%20%29%3B%0A%20%20%20%20%20%20%20%20%20%20%20%20marker_fdbd2dad6daf40a7953c791422526ca9.setIcon%28icon_7c8a9f2f1d1248309467444f77633986%29%3B%0A%20%20%20%20%20%20%20%20%0A%20%20%20%20%0A%20%20%20%20%20%20%20%20var%20popup_6d9920c25e074a9ab6029db4b40e1d4e%20%3D%20L.popup%28%7B%22maxWidth%22%3A%20%22100%25%22%7D%29%3B%0A%0A%20%20%20%20%20%20%20%20%0A%20%20%20%20%20%20%20%20%20%20%20%20var%20html_d1b15558130d48bf83d6ea135ca3f127%20%3D%20%24%28%60%3Cdiv%20id%3D%22html_d1b15558130d48bf83d6ea135ca3f127%22%20style%3D%22width%3A%20100.0%25%3B%20height%3A%20100.0%25%3B%22%3E2900%20CLEARVIEW%20AVE%2C%202019/12/3%3C/div%3E%60%29%5B0%5D%3B%0A%20%20%20%20%20%20%20%20%20%20%20%20popup_6d9920c25e074a9ab6029db4b40e1d4e.setContent%28html_d1b15558130d48bf83d6ea135ca3f127%29%3B%0A%20%20%20%20%20%20%20%20%0A%0A%20%20%20%20%20%20%20%20marker_fdbd2dad6daf40a7953c791422526ca9.bindPopup%28popup_6d9920c25e074a9ab6029db4b40e1d4e%29%0A%20%20%20%20%20%20%20%20%3B%0A%0A%20%20%20%20%20%20%20%20%0A%20%20%20%20%0A%20%20%20%20%0A%20%20%20%20%20%20%20%20%20%20%20%20var%20marker_fd8d399ac9304c7aa3bc6e17fbdc2325%20%3D%20L.marker%28%0A%20%20%20%20%20%20%20%20%20%20%20%20%20%20%20%20%5B39.2943%2C%20-76.6412%5D%2C%0A%20%20%20%20%20%20%20%20%20%20%20%20%20%20%20%20%7B%7D%0A%20%20%20%20%20%20%20%20%20%20%20%20%29.addTo%28map_82dfc54417214e94a1bef2b8cef3065b%29%3B%0A%20%20%20%20%20%20%20%20%0A%20%20%20%20%0A%20%20%20%20%20%20%20%20%20%20%20%20var%20icon_e32a8b5755934545b4f8856fcf703761%20%3D%20L.AwesomeMarkers.icon%28%0A%20%20%20%20%20%20%20%20%20%20%20%20%20%20%20%20%7B%22extraClasses%22%3A%20%22fa-rotate-0%22%2C%20%22icon%22%3A%20%22info-sign%22%2C%20%22iconColor%22%3A%20%22white%22%2C%20%22markerColor%22%3A%20%22beige%22%2C%20%22prefix%22%3A%20%22glyphicon%22%7D%0A%20%20%20%20%20%20%20%20%20%20%20%20%29%3B%0A%20%20%20%20%20%20%20%20%20%20%20%20marker_fd8d399ac9304c7aa3bc6e17fbdc2325.setIcon%28icon_e32a8b5755934545b4f8856fcf703761%29%3B%0A%20%20%20%20%20%20%20%20%0A%20%20%20%20%0A%20%20%20%20%20%20%20%20var%20popup_07f324ad5b684a9aae529d253b181ee8%20%3D%20L.popup%28%7B%22maxWidth%22%3A%20%22100%25%22%7D%29%3B%0A%0A%20%20%20%20%20%20%20%20%0A%20%20%20%20%20%20%20%20%20%20%20%20var%20html_e80988c34ed444a79921c9620904e048%20%3D%20%24%28%60%3Cdiv%20id%3D%22html_e80988c34ed444a79921c9620904e048%22%20style%3D%22width%3A%20100.0%25%3B%20height%3A%20100.0%25%3B%22%3E500%20N%20STRICKER%20ST%2C%202019/12/3%3C/div%3E%60%29%5B0%5D%3B%0A%20%20%20%20%20%20%20%20%20%20%20%20popup_07f324ad5b684a9aae529d253b181ee8.setContent%28html_e80988c34ed444a79921c9620904e048%29%3B%0A%20%20%20%20%20%20%20%20%0A%0A%20%20%20%20%20%20%20%20marker_fd8d399ac9304c7aa3bc6e17fbdc2325.bindPopup%28popup_07f324ad5b684a9aae529d253b181ee8%29%0A%20%20%20%20%20%20%20%20%3B%0A%0A%20%20%20%20%20%20%20%20%0A%20%20%20%20%0A%20%20%20%20%0A%20%20%20%20%20%20%20%20%20%20%20%20var%20marker_e412f77ee2f340c8ba2ff9dfba37c49b%20%3D%20L.marker%28%0A%20%20%20%20%20%20%20%20%20%20%20%20%20%20%20%20%5B39.3033%2C%20-76.6206%5D%2C%0A%20%20%20%20%20%20%20%20%20%20%20%20%20%20%20%20%7B%7D%0A%20%20%20%20%20%20%20%20%20%20%20%20%29.addTo%28map_82dfc54417214e94a1bef2b8cef3065b%29%3B%0A%20%20%20%20%20%20%20%20%0A%20%20%20%20%0A%20%20%20%20%20%20%20%20%20%20%20%20var%20icon_95e6af096b82415abd43591b41a70307%20%3D%20L.AwesomeMarkers.icon%28%0A%20%20%20%20%20%20%20%20%20%20%20%20%20%20%20%20%7B%22extraClasses%22%3A%20%22fa-rotate-0%22%2C%20%22icon%22%3A%20%22info-sign%22%2C%20%22iconColor%22%3A%20%22white%22%2C%20%22markerColor%22%3A%20%22beige%22%2C%20%22prefix%22%3A%20%22glyphicon%22%7D%0A%20%20%20%20%20%20%20%20%20%20%20%20%29%3B%0A%20%20%20%20%20%20%20%20%20%20%20%20marker_e412f77ee2f340c8ba2ff9dfba37c49b.setIcon%28icon_95e6af096b82415abd43591b41a70307%29%3B%0A%20%20%20%20%20%20%20%20%0A%20%20%20%20%0A%20%20%20%20%20%20%20%20var%20popup_5793fd2d4b94482591f13ee6e21330b3%20%3D%20L.popup%28%7B%22maxWidth%22%3A%20%22100%25%22%7D%29%3B%0A%0A%20%20%20%20%20%20%20%20%0A%20%20%20%20%20%20%20%20%20%20%20%20var%20html_6b89b59f55d1451688726474c41a2cfe%20%3D%20%24%28%60%3Cdiv%20id%3D%22html_6b89b59f55d1451688726474c41a2cfe%22%20style%3D%22width%3A%20100.0%25%3B%20height%3A%20100.0%25%3B%22%3E1000%20N%20HOWARD%20ST%2C%202019/12/3%3C/div%3E%60%29%5B0%5D%3B%0A%20%20%20%20%20%20%20%20%20%20%20%20popup_5793fd2d4b94482591f13ee6e21330b3.setContent%28html_6b89b59f55d1451688726474c41a2cfe%29%3B%0A%20%20%20%20%20%20%20%20%0A%0A%20%20%20%20%20%20%20%20marker_e412f77ee2f340c8ba2ff9dfba37c49b.bindPopup%28popup_5793fd2d4b94482591f13ee6e21330b3%29%0A%20%20%20%20%20%20%20%20%3B%0A%0A%20%20%20%20%20%20%20%20%0A%20%20%20%20%0A%20%20%20%20%0A%20%20%20%20%20%20%20%20%20%20%20%20var%20marker_4cb7fffef0534a12acba6187264ab666%20%3D%20L.marker%28%0A%20%20%20%20%20%20%20%20%20%20%20%20%20%20%20%20%5B39.3351%2C%20-76.6843%5D%2C%0A%20%20%20%20%20%20%20%20%20%20%20%20%20%20%20%20%7B%7D%0A%20%20%20%20%20%20%20%20%20%20%20%20%29.addTo%28map_82dfc54417214e94a1bef2b8cef3065b%29%3B%0A%20%20%20%20%20%20%20%20%0A%20%20%20%20%0A%20%20%20%20%20%20%20%20%20%20%20%20var%20icon_e61de423afb34b3b9f9fd742448b0d2a%20%3D%20L.AwesomeMarkers.icon%28%0A%20%20%20%20%20%20%20%20%20%20%20%20%20%20%20%20%7B%22extraClasses%22%3A%20%22fa-rotate-0%22%2C%20%22icon%22%3A%20%22info-sign%22%2C%20%22iconColor%22%3A%20%22white%22%2C%20%22markerColor%22%3A%20%22beige%22%2C%20%22prefix%22%3A%20%22glyphicon%22%7D%0A%20%20%20%20%20%20%20%20%20%20%20%20%29%3B%0A%20%20%20%20%20%20%20%20%20%20%20%20marker_4cb7fffef0534a12acba6187264ab666.setIcon%28icon_e61de423afb34b3b9f9fd742448b0d2a%29%3B%0A%20%20%20%20%20%20%20%20%0A%20%20%20%20%0A%20%20%20%20%20%20%20%20var%20popup_7c0a5e754ac847b5a8a6dc0d68367401%20%3D%20L.popup%28%7B%22maxWidth%22%3A%20%22100%25%22%7D%29%3B%0A%0A%20%20%20%20%20%20%20%20%0A%20%20%20%20%20%20%20%20%20%20%20%20var%20html_e06519db19934d549f73a53c0a595ef0%20%3D%20%24%28%60%3Cdiv%20id%3D%22html_e06519db19934d549f73a53c0a595ef0%22%20style%3D%22width%3A%20100.0%25%3B%20height%3A%20100.0%25%3B%22%3E4000%20W%20Coldspring%20Ln%2C%202019/12/3%3C/div%3E%60%29%5B0%5D%3B%0A%20%20%20%20%20%20%20%20%20%20%20%20popup_7c0a5e754ac847b5a8a6dc0d68367401.setContent%28html_e06519db19934d549f73a53c0a595ef0%29%3B%0A%20%20%20%20%20%20%20%20%0A%0A%20%20%20%20%20%20%20%20marker_4cb7fffef0534a12acba6187264ab666.bindPopup%28popup_7c0a5e754ac847b5a8a6dc0d68367401%29%0A%20%20%20%20%20%20%20%20%3B%0A%0A%20%20%20%20%20%20%20%20%0A%20%20%20%20%0A%20%20%20%20%0A%20%20%20%20%20%20%20%20%20%20%20%20var%20marker_353e35020d0c453d9130b613d04dd8d6%20%3D%20L.marker%28%0A%20%20%20%20%20%20%20%20%20%20%20%20%20%20%20%20%5B39.287%2C%20-76.5964%5D%2C%0A%20%20%20%20%20%20%20%20%20%20%20%20%20%20%20%20%7B%7D%0A%20%20%20%20%20%20%20%20%20%20%20%20%29.addTo%28map_82dfc54417214e94a1bef2b8cef3065b%29%3B%0A%20%20%20%20%20%20%20%20%0A%20%20%20%20%0A%20%20%20%20%20%20%20%20%20%20%20%20var%20icon_d7e8a2349f6149719916b0bc8329da55%20%3D%20L.AwesomeMarkers.icon%28%0A%20%20%20%20%20%20%20%20%20%20%20%20%20%20%20%20%7B%22extraClasses%22%3A%20%22fa-rotate-0%22%2C%20%22icon%22%3A%20%22info-sign%22%2C%20%22iconColor%22%3A%20%22white%22%2C%20%22markerColor%22%3A%20%22beige%22%2C%20%22prefix%22%3A%20%22glyphicon%22%7D%0A%20%20%20%20%20%20%20%20%20%20%20%20%29%3B%0A%20%20%20%20%20%20%20%20%20%20%20%20marker_353e35020d0c453d9130b613d04dd8d6.setIcon%28icon_d7e8a2349f6149719916b0bc8329da55%29%3B%0A%20%20%20%20%20%20%20%20%0A%20%20%20%20%0A%20%20%20%20%20%20%20%20var%20popup_ab63879a0287415b9bd55de1c7ecbd4e%20%3D%20L.popup%28%7B%22maxWidth%22%3A%20%22100%25%22%7D%29%3B%0A%0A%20%20%20%20%20%20%20%20%0A%20%20%20%20%20%20%20%20%20%20%20%20var%20html_69420bcc1f44461397487d4f2c7c8fca%20%3D%20%24%28%60%3Cdiv%20id%3D%22html_69420bcc1f44461397487d4f2c7c8fca%22%20style%3D%22width%3A%20100.0%25%3B%20height%3A%20100.0%25%3B%22%3E300%20S%20DALLAS%20CT%2C%202019/12/3%3C/div%3E%60%29%5B0%5D%3B%0A%20%20%20%20%20%20%20%20%20%20%20%20popup_ab63879a0287415b9bd55de1c7ecbd4e.setContent%28html_69420bcc1f44461397487d4f2c7c8fca%29%3B%0A%20%20%20%20%20%20%20%20%0A%0A%20%20%20%20%20%20%20%20marker_353e35020d0c453d9130b613d04dd8d6.bindPopup%28popup_ab63879a0287415b9bd55de1c7ecbd4e%29%0A%20%20%20%20%20%20%20%20%3B%0A%0A%20%20%20%20%20%20%20%20%0A%20%20%20%20%0A%20%20%20%20%0A%20%20%20%20%20%20%20%20%20%20%20%20var%20marker_739df5aabf24481e84644c2b7e908a5c%20%3D%20L.marker%28%0A%20%20%20%20%20%20%20%20%20%20%20%20%20%20%20%20%5B39.2948%2C%20-76.5957%5D%2C%0A%20%20%20%20%20%20%20%20%20%20%20%20%20%20%20%20%7B%7D%0A%20%20%20%20%20%20%20%20%20%20%20%20%29.addTo%28map_82dfc54417214e94a1bef2b8cef3065b%29%3B%0A%20%20%20%20%20%20%20%20%0A%20%20%20%20%0A%20%20%20%20%20%20%20%20%20%20%20%20var%20icon_c372e32c15e146ca95a98a01eb75d8bb%20%3D%20L.AwesomeMarkers.icon%28%0A%20%20%20%20%20%20%20%20%20%20%20%20%20%20%20%20%7B%22extraClasses%22%3A%20%22fa-rotate-0%22%2C%20%22icon%22%3A%20%22info-sign%22%2C%20%22iconColor%22%3A%20%22white%22%2C%20%22markerColor%22%3A%20%22beige%22%2C%20%22prefix%22%3A%20%22glyphicon%22%7D%0A%20%20%20%20%20%20%20%20%20%20%20%20%29%3B%0A%20%20%20%20%20%20%20%20%20%20%20%20marker_739df5aabf24481e84644c2b7e908a5c.setIcon%28icon_c372e32c15e146ca95a98a01eb75d8bb%29%3B%0A%20%20%20%20%20%20%20%20%0A%20%20%20%20%0A%20%20%20%20%20%20%20%20var%20popup_0255e1afc821483f975a9d6e2d07781a%20%3D%20L.popup%28%7B%22maxWidth%22%3A%20%22100%25%22%7D%29%3B%0A%0A%20%20%20%20%20%20%20%20%0A%20%20%20%20%20%20%20%20%20%20%20%20var%20html_4492f7b80b60467b8d13f3eb95878550%20%3D%20%24%28%60%3Cdiv%20id%3D%22html_4492f7b80b60467b8d13f3eb95878550%22%20style%3D%22width%3A%20100.0%25%3B%20height%3A%20100.0%25%3B%22%3E200%20BEALE%20CT%2C%202019/12/3%3C/div%3E%60%29%5B0%5D%3B%0A%20%20%20%20%20%20%20%20%20%20%20%20popup_0255e1afc821483f975a9d6e2d07781a.setContent%28html_4492f7b80b60467b8d13f3eb95878550%29%3B%0A%20%20%20%20%20%20%20%20%0A%0A%20%20%20%20%20%20%20%20marker_739df5aabf24481e84644c2b7e908a5c.bindPopup%28popup_0255e1afc821483f975a9d6e2d07781a%29%0A%20%20%20%20%20%20%20%20%3B%0A%0A%20%20%20%20%20%20%20%20%0A%20%20%20%20%0A%20%20%20%20%0A%20%20%20%20%20%20%20%20%20%20%20%20var%20marker_8d954e1cf0d44af8b0bdbdd9ac1a4e8a%20%3D%20L.marker%28%0A%20%20%20%20%20%20%20%20%20%20%20%20%20%20%20%20%5B39.2843%2C%20-76.5888%5D%2C%0A%20%20%20%20%20%20%20%20%20%20%20%20%20%20%20%20%7B%7D%0A%20%20%20%20%20%20%20%20%20%20%20%20%29.addTo%28map_82dfc54417214e94a1bef2b8cef3065b%29%3B%0A%20%20%20%20%20%20%20%20%0A%20%20%20%20%0A%20%20%20%20%20%20%20%20%20%20%20%20var%20icon_7e1403530779464aa8eae358aefa792a%20%3D%20L.AwesomeMarkers.icon%28%0A%20%20%20%20%20%20%20%20%20%20%20%20%20%20%20%20%7B%22extraClasses%22%3A%20%22fa-rotate-0%22%2C%20%22icon%22%3A%20%22info-sign%22%2C%20%22iconColor%22%3A%20%22white%22%2C%20%22markerColor%22%3A%20%22beige%22%2C%20%22prefix%22%3A%20%22glyphicon%22%7D%0A%20%20%20%20%20%20%20%20%20%20%20%20%29%3B%0A%20%20%20%20%20%20%20%20%20%20%20%20marker_8d954e1cf0d44af8b0bdbdd9ac1a4e8a.setIcon%28icon_7e1403530779464aa8eae358aefa792a%29%3B%0A%20%20%20%20%20%20%20%20%0A%20%20%20%20%0A%20%20%20%20%20%20%20%20var%20popup_16247351e603449bbc93592052c65cfa%20%3D%20L.popup%28%7B%22maxWidth%22%3A%20%22100%25%22%7D%29%3B%0A%0A%20%20%20%20%20%20%20%20%0A%20%20%20%20%20%20%20%20%20%20%20%20var%20html_623bf4208bda4383bf2ab189983c25f7%20%3D%20%24%28%60%3Cdiv%20id%3D%22html_623bf4208bda4383bf2ab189983c25f7%22%20style%3D%22width%3A%20100.0%25%3B%20height%3A%20100.0%25%3B%22%3E600%20S%20WASHINGTON%20ST%2C%202019/12/3%3C/div%3E%60%29%5B0%5D%3B%0A%20%20%20%20%20%20%20%20%20%20%20%20popup_16247351e603449bbc93592052c65cfa.setContent%28html_623bf4208bda4383bf2ab189983c25f7%29%3B%0A%20%20%20%20%20%20%20%20%0A%0A%20%20%20%20%20%20%20%20marker_8d954e1cf0d44af8b0bdbdd9ac1a4e8a.bindPopup%28popup_16247351e603449bbc93592052c65cfa%29%0A%20%20%20%20%20%20%20%20%3B%0A%0A%20%20%20%20%20%20%20%20%0A%20%20%20%20%0A%20%20%20%20%0A%20%20%20%20%20%20%20%20%20%20%20%20var%20marker_fbd9384d615449bcb2fdd8c2458a30a2%20%3D%20L.marker%28%0A%20%20%20%20%20%20%20%20%20%20%20%20%20%20%20%20%5B39.3018%2C%20-76.6545%5D%2C%0A%20%20%20%20%20%20%20%20%20%20%20%20%20%20%20%20%7B%7D%0A%20%20%20%20%20%20%20%20%20%20%20%20%29.addTo%28map_82dfc54417214e94a1bef2b8cef3065b%29%3B%0A%20%20%20%20%20%20%20%20%0A%20%20%20%20%0A%20%20%20%20%20%20%20%20%20%20%20%20var%20icon_323b5c875d6840b0a7cdf9856075a831%20%3D%20L.AwesomeMarkers.icon%28%0A%20%20%20%20%20%20%20%20%20%20%20%20%20%20%20%20%7B%22extraClasses%22%3A%20%22fa-rotate-0%22%2C%20%22icon%22%3A%20%22info-sign%22%2C%20%22iconColor%22%3A%20%22white%22%2C%20%22markerColor%22%3A%20%22beige%22%2C%20%22prefix%22%3A%20%22glyphicon%22%7D%0A%20%20%20%20%20%20%20%20%20%20%20%20%29%3B%0A%20%20%20%20%20%20%20%20%20%20%20%20marker_fbd9384d615449bcb2fdd8c2458a30a2.setIcon%28icon_323b5c875d6840b0a7cdf9856075a831%29%3B%0A%20%20%20%20%20%20%20%20%0A%20%20%20%20%0A%20%20%20%20%20%20%20%20var%20popup_c04c1dcf0c524c74b7378384f8edcd3a%20%3D%20L.popup%28%7B%22maxWidth%22%3A%20%22100%25%22%7D%29%3B%0A%0A%20%20%20%20%20%20%20%20%0A%20%20%20%20%20%20%20%20%20%20%20%20var%20html_fdf585f8146e4e92902048178aa38f3c%20%3D%20%24%28%60%3Cdiv%20id%3D%22html_fdf585f8146e4e92902048178aa38f3c%22%20style%3D%22width%3A%20100.0%25%3B%20height%3A%20100.0%25%3B%22%3E2300%20WINCHESTER%20ST%2C%202019/12/3%3C/div%3E%60%29%5B0%5D%3B%0A%20%20%20%20%20%20%20%20%20%20%20%20popup_c04c1dcf0c524c74b7378384f8edcd3a.setContent%28html_fdf585f8146e4e92902048178aa38f3c%29%3B%0A%20%20%20%20%20%20%20%20%0A%0A%20%20%20%20%20%20%20%20marker_fbd9384d615449bcb2fdd8c2458a30a2.bindPopup%28popup_c04c1dcf0c524c74b7378384f8edcd3a%29%0A%20%20%20%20%20%20%20%20%3B%0A%0A%20%20%20%20%20%20%20%20%0A%20%20%20%20%0A%20%20%20%20%0A%20%20%20%20%20%20%20%20%20%20%20%20var%20marker_ba4febf2307e4a48bd3fcf8457539dfa%20%3D%20L.marker%28%0A%20%20%20%20%20%20%20%20%20%20%20%20%20%20%20%20%5B39.3674%2C%20-76.6951%5D%2C%0A%20%20%20%20%20%20%20%20%20%20%20%20%20%20%20%20%7B%7D%0A%20%20%20%20%20%20%20%20%20%20%20%20%29.addTo%28map_82dfc54417214e94a1bef2b8cef3065b%29%3B%0A%20%20%20%20%20%20%20%20%0A%20%20%20%20%0A%20%20%20%20%20%20%20%20%20%20%20%20var%20icon_0f3b6fa42d2b4f5c9157bb7ddfba0cd5%20%3D%20L.AwesomeMarkers.icon%28%0A%20%20%20%20%20%20%20%20%20%20%20%20%20%20%20%20%7B%22extraClasses%22%3A%20%22fa-rotate-0%22%2C%20%22icon%22%3A%20%22info-sign%22%2C%20%22iconColor%22%3A%20%22white%22%2C%20%22markerColor%22%3A%20%22beige%22%2C%20%22prefix%22%3A%20%22glyphicon%22%7D%0A%20%20%20%20%20%20%20%20%20%20%20%20%29%3B%0A%20%20%20%20%20%20%20%20%20%20%20%20marker_ba4febf2307e4a48bd3fcf8457539dfa.setIcon%28icon_0f3b6fa42d2b4f5c9157bb7ddfba0cd5%29%3B%0A%20%20%20%20%20%20%20%20%0A%20%20%20%20%0A%20%20%20%20%20%20%20%20var%20popup_26e9a8df1d8444a384e495a3626da321%20%3D%20L.popup%28%7B%22maxWidth%22%3A%20%22100%25%22%7D%29%3B%0A%0A%20%20%20%20%20%20%20%20%0A%20%20%20%20%20%20%20%20%20%20%20%20var%20html_fd74e0553392488dab99f9be17141b38%20%3D%20%24%28%60%3Cdiv%20id%3D%22html_fd74e0553392488dab99f9be17141b38%22%20style%3D%22width%3A%20100.0%25%3B%20height%3A%20100.0%25%3B%22%3ERD%20%26%20CLARKS%20LN%2C%202019/12/3%3C/div%3E%60%29%5B0%5D%3B%0A%20%20%20%20%20%20%20%20%20%20%20%20popup_26e9a8df1d8444a384e495a3626da321.setContent%28html_fd74e0553392488dab99f9be17141b38%29%3B%0A%20%20%20%20%20%20%20%20%0A%0A%20%20%20%20%20%20%20%20marker_ba4febf2307e4a48bd3fcf8457539dfa.bindPopup%28popup_26e9a8df1d8444a384e495a3626da321%29%0A%20%20%20%20%20%20%20%20%3B%0A%0A%20%20%20%20%20%20%20%20%0A%20%20%20%20%0A%20%20%20%20%0A%20%20%20%20%20%20%20%20%20%20%20%20var%20marker_a9819de4a8f54e23ba3f502f013a1315%20%3D%20L.marker%28%0A%20%20%20%20%20%20%20%20%20%20%20%20%20%20%20%20%5B39.2633%2C%20-76.6416%5D%2C%0A%20%20%20%20%20%20%20%20%20%20%20%20%20%20%20%20%7B%7D%0A%20%20%20%20%20%20%20%20%20%20%20%20%29.addTo%28map_82dfc54417214e94a1bef2b8cef3065b%29%3B%0A%20%20%20%20%20%20%20%20%0A%20%20%20%20%0A%20%20%20%20%20%20%20%20%20%20%20%20var%20icon_6753c9f2fc034aa5a73521f58153474c%20%3D%20L.AwesomeMarkers.icon%28%0A%20%20%20%20%20%20%20%20%20%20%20%20%20%20%20%20%7B%22extraClasses%22%3A%20%22fa-rotate-0%22%2C%20%22icon%22%3A%20%22info-sign%22%2C%20%22iconColor%22%3A%20%22white%22%2C%20%22markerColor%22%3A%20%22beige%22%2C%20%22prefix%22%3A%20%22glyphicon%22%7D%0A%20%20%20%20%20%20%20%20%20%20%20%20%29%3B%0A%20%20%20%20%20%20%20%20%20%20%20%20marker_a9819de4a8f54e23ba3f502f013a1315.setIcon%28icon_6753c9f2fc034aa5a73521f58153474c%29%3B%0A%20%20%20%20%20%20%20%20%0A%20%20%20%20%0A%20%20%20%20%20%20%20%20var%20popup_555e4a11c91e4d0a968dec5113ebbe4b%20%3D%20L.popup%28%7B%22maxWidth%22%3A%20%22100%25%22%7D%29%3B%0A%0A%20%20%20%20%20%20%20%20%0A%20%20%20%20%20%20%20%20%20%20%20%20var%20html_678b4c844b7f4b15ad2170b2cf38237b%20%3D%20%24%28%60%3Cdiv%20id%3D%22html_678b4c844b7f4b15ad2170b2cf38237b%22%20style%3D%22width%3A%20100.0%25%3B%20height%3A%20100.0%25%3B%22%3E2400%20MAISEL%20CT%2C%202019/12/3%3C/div%3E%60%29%5B0%5D%3B%0A%20%20%20%20%20%20%20%20%20%20%20%20popup_555e4a11c91e4d0a968dec5113ebbe4b.setContent%28html_678b4c844b7f4b15ad2170b2cf38237b%29%3B%0A%20%20%20%20%20%20%20%20%0A%0A%20%20%20%20%20%20%20%20marker_a9819de4a8f54e23ba3f502f013a1315.bindPopup%28popup_555e4a11c91e4d0a968dec5113ebbe4b%29%0A%20%20%20%20%20%20%20%20%3B%0A%0A%20%20%20%20%20%20%20%20%0A%20%20%20%20%0A%20%20%20%20%0A%20%20%20%20%20%20%20%20%20%20%20%20var%20marker_6c56ec5dff6b41b4b1a3ceedcb0c0d60%20%3D%20L.marker%28%0A%20%20%20%20%20%20%20%20%20%20%20%20%20%20%20%20%5B39.3049%2C%20-76.673%5D%2C%0A%20%20%20%20%20%20%20%20%20%20%20%20%20%20%20%20%7B%7D%0A%20%20%20%20%20%20%20%20%20%20%20%20%29.addTo%28map_82dfc54417214e94a1bef2b8cef3065b%29%3B%0A%20%20%20%20%20%20%20%20%0A%20%20%20%20%0A%20%20%20%20%20%20%20%20%20%20%20%20var%20icon_61755a542c5a4b21ad437b57347731b2%20%3D%20L.AwesomeMarkers.icon%28%0A%20%20%20%20%20%20%20%20%20%20%20%20%20%20%20%20%7B%22extraClasses%22%3A%20%22fa-rotate-0%22%2C%20%22icon%22%3A%20%22info-sign%22%2C%20%22iconColor%22%3A%20%22white%22%2C%20%22markerColor%22%3A%20%22beige%22%2C%20%22prefix%22%3A%20%22glyphicon%22%7D%0A%20%20%20%20%20%20%20%20%20%20%20%20%29%3B%0A%20%20%20%20%20%20%20%20%20%20%20%20marker_6c56ec5dff6b41b4b1a3ceedcb0c0d60.setIcon%28icon_61755a542c5a4b21ad437b57347731b2%29%3B%0A%20%20%20%20%20%20%20%20%0A%20%20%20%20%0A%20%20%20%20%20%20%20%20var%20popup_96cb94804a604fc482e28f014fcedd9f%20%3D%20L.popup%28%7B%22maxWidth%22%3A%20%22100%25%22%7D%29%3B%0A%0A%20%20%20%20%20%20%20%20%0A%20%20%20%20%20%20%20%20%20%20%20%20var%20html_581fdacde5e84ca9a0ad3c4f08be3b9c%20%3D%20%24%28%60%3Cdiv%20id%3D%22html_581fdacde5e84ca9a0ad3c4f08be3b9c%22%20style%3D%22width%3A%20100.0%25%3B%20height%3A%20100.0%25%3B%22%3E3300%20BRIGHTON%20ST%2C%202019/12/3%3C/div%3E%60%29%5B0%5D%3B%0A%20%20%20%20%20%20%20%20%20%20%20%20popup_96cb94804a604fc482e28f014fcedd9f.setContent%28html_581fdacde5e84ca9a0ad3c4f08be3b9c%29%3B%0A%20%20%20%20%20%20%20%20%0A%0A%20%20%20%20%20%20%20%20marker_6c56ec5dff6b41b4b1a3ceedcb0c0d60.bindPopup%28popup_96cb94804a604fc482e28f014fcedd9f%29%0A%20%20%20%20%20%20%20%20%3B%0A%0A%20%20%20%20%20%20%20%20%0A%20%20%20%20%0A%20%20%20%20%0A%20%20%20%20%20%20%20%20%20%20%20%20var%20marker_b22f9ee9e48e4281bf79eaaef761438f%20%3D%20L.marker%28%0A%20%20%20%20%20%20%20%20%20%20%20%20%20%20%20%20%5B39.2613%2C%20-76.6449%5D%2C%0A%20%20%20%20%20%20%20%20%20%20%20%20%20%20%20%20%7B%7D%0A%20%20%20%20%20%20%20%20%20%20%20%20%29.addTo%28map_82dfc54417214e94a1bef2b8cef3065b%29%3B%0A%20%20%20%20%20%20%20%20%0A%20%20%20%20%0A%20%20%20%20%20%20%20%20%20%20%20%20var%20icon_a8ac1ff02fc24e86af1595342a53c5cf%20%3D%20L.AwesomeMarkers.icon%28%0A%20%20%20%20%20%20%20%20%20%20%20%20%20%20%20%20%7B%22extraClasses%22%3A%20%22fa-rotate-0%22%2C%20%22icon%22%3A%20%22info-sign%22%2C%20%22iconColor%22%3A%20%22white%22%2C%20%22markerColor%22%3A%20%22beige%22%2C%20%22prefix%22%3A%20%22glyphicon%22%7D%0A%20%20%20%20%20%20%20%20%20%20%20%20%29%3B%0A%20%20%20%20%20%20%20%20%20%20%20%20marker_b22f9ee9e48e4281bf79eaaef761438f.setIcon%28icon_a8ac1ff02fc24e86af1595342a53c5cf%29%3B%0A%20%20%20%20%20%20%20%20%0A%20%20%20%20%0A%20%20%20%20%20%20%20%20var%20popup_675768e281f74dc288f0b67c44b10f4a%20%3D%20L.popup%28%7B%22maxWidth%22%3A%20%22100%25%22%7D%29%3B%0A%0A%20%20%20%20%20%20%20%20%0A%20%20%20%20%20%20%20%20%20%20%20%20var%20html_855ace7b79ee46578c7ed7612a26e4f8%20%3D%20%24%28%60%3Cdiv%20id%3D%22html_855ace7b79ee46578c7ed7612a26e4f8%22%20style%3D%22width%3A%20100.0%25%3B%20height%3A%20100.0%25%3B%22%3E2600%20HURON%20ST%2C%202019/12/3%3C/div%3E%60%29%5B0%5D%3B%0A%20%20%20%20%20%20%20%20%20%20%20%20popup_675768e281f74dc288f0b67c44b10f4a.setContent%28html_855ace7b79ee46578c7ed7612a26e4f8%29%3B%0A%20%20%20%20%20%20%20%20%0A%0A%20%20%20%20%20%20%20%20marker_b22f9ee9e48e4281bf79eaaef761438f.bindPopup%28popup_675768e281f74dc288f0b67c44b10f4a%29%0A%20%20%20%20%20%20%20%20%3B%0A%0A%20%20%20%20%20%20%20%20%0A%20%20%20%20%0A%20%20%20%20%0A%20%20%20%20%20%20%20%20%20%20%20%20var%20marker_0b4205d798ee4cbfa4be8aa14197fb5a%20%3D%20L.marker%28%0A%20%20%20%20%20%20%20%20%20%20%20%20%20%20%20%20%5B39.3398%2C%20-76.6856%5D%2C%0A%20%20%20%20%20%20%20%20%20%20%20%20%20%20%20%20%7B%7D%0A%20%20%20%20%20%20%20%20%20%20%20%20%29.addTo%28map_82dfc54417214e94a1bef2b8cef3065b%29%3B%0A%20%20%20%20%20%20%20%20%0A%20%20%20%20%0A%20%20%20%20%20%20%20%20%20%20%20%20var%20icon_830e050285314e7480c361dadf1703dd%20%3D%20L.AwesomeMarkers.icon%28%0A%20%20%20%20%20%20%20%20%20%20%20%20%20%20%20%20%7B%22extraClasses%22%3A%20%22fa-rotate-0%22%2C%20%22icon%22%3A%20%22info-sign%22%2C%20%22iconColor%22%3A%20%22white%22%2C%20%22markerColor%22%3A%20%22beige%22%2C%20%22prefix%22%3A%20%22glyphicon%22%7D%0A%20%20%20%20%20%20%20%20%20%20%20%20%29%3B%0A%20%20%20%20%20%20%20%20%20%20%20%20marker_0b4205d798ee4cbfa4be8aa14197fb5a.setIcon%28icon_830e050285314e7480c361dadf1703dd%29%3B%0A%20%20%20%20%20%20%20%20%0A%20%20%20%20%0A%20%20%20%20%20%20%20%20var%20popup_beeb84dbef154edb80f3035837a9fb2e%20%3D%20L.popup%28%7B%22maxWidth%22%3A%20%22100%25%22%7D%29%3B%0A%0A%20%20%20%20%20%20%20%20%0A%20%20%20%20%20%20%20%20%20%20%20%20var%20html_e7e0efb1458d4e459947f3469ddf9053%20%3D%20%24%28%60%3Cdiv%20id%3D%22html_e7e0efb1458d4e459947f3469ddf9053%22%20style%3D%22width%3A%20100.0%25%3B%20height%3A%20100.0%25%3B%22%3E4000%20BELVIEU%20AVE%2C%202019/12/3%3C/div%3E%60%29%5B0%5D%3B%0A%20%20%20%20%20%20%20%20%20%20%20%20popup_beeb84dbef154edb80f3035837a9fb2e.setContent%28html_e7e0efb1458d4e459947f3469ddf9053%29%3B%0A%20%20%20%20%20%20%20%20%0A%0A%20%20%20%20%20%20%20%20marker_0b4205d798ee4cbfa4be8aa14197fb5a.bindPopup%28popup_beeb84dbef154edb80f3035837a9fb2e%29%0A%20%20%20%20%20%20%20%20%3B%0A%0A%20%20%20%20%20%20%20%20%0A%20%20%20%20%0A%20%20%20%20%0A%20%20%20%20%20%20%20%20%20%20%20%20var%20marker_f0159254d2a54edd8b810f6d54cf9c18%20%3D%20L.marker%28%0A%20%20%20%20%20%20%20%20%20%20%20%20%20%20%20%20%5B39.3166%2C%20-76.6325%5D%2C%0A%20%20%20%20%20%20%20%20%20%20%20%20%20%20%20%20%7B%7D%0A%20%20%20%20%20%20%20%20%20%20%20%20%29.addTo%28map_82dfc54417214e94a1bef2b8cef3065b%29%3B%0A%20%20%20%20%20%20%20%20%0A%20%20%20%20%0A%20%20%20%20%20%20%20%20%20%20%20%20var%20icon_e56970ee60b941be960d94d4b3ced81a%20%3D%20L.AwesomeMarkers.icon%28%0A%20%20%20%20%20%20%20%20%20%20%20%20%20%20%20%20%7B%22extraClasses%22%3A%20%22fa-rotate-0%22%2C%20%22icon%22%3A%20%22info-sign%22%2C%20%22iconColor%22%3A%20%22white%22%2C%20%22markerColor%22%3A%20%22beige%22%2C%20%22prefix%22%3A%20%22glyphicon%22%7D%0A%20%20%20%20%20%20%20%20%20%20%20%20%29%3B%0A%20%20%20%20%20%20%20%20%20%20%20%20marker_f0159254d2a54edd8b810f6d54cf9c18.setIcon%28icon_e56970ee60b941be960d94d4b3ced81a%29%3B%0A%20%20%20%20%20%20%20%20%0A%20%20%20%20%0A%20%20%20%20%20%20%20%20var%20popup_81f936aafe03412382e47ebc280599e3%20%3D%20L.popup%28%7B%22maxWidth%22%3A%20%22100%25%22%7D%29%3B%0A%0A%20%20%20%20%20%20%20%20%0A%20%20%20%20%20%20%20%20%20%20%20%20var%20html_f02b3fa392704c5da11108d3d1448208%20%3D%20%24%28%60%3Cdiv%20id%3D%22html_f02b3fa392704c5da11108d3d1448208%22%20style%3D%22width%3A%20100.0%25%3B%20height%3A%20100.0%25%3B%22%3E700%20DRUID%20PARK%20LAKE%20DR%2C%202019/12/3%3C/div%3E%60%29%5B0%5D%3B%0A%20%20%20%20%20%20%20%20%20%20%20%20popup_81f936aafe03412382e47ebc280599e3.setContent%28html_f02b3fa392704c5da11108d3d1448208%29%3B%0A%20%20%20%20%20%20%20%20%0A%0A%20%20%20%20%20%20%20%20marker_f0159254d2a54edd8b810f6d54cf9c18.bindPopup%28popup_81f936aafe03412382e47ebc280599e3%29%0A%20%20%20%20%20%20%20%20%3B%0A%0A%20%20%20%20%20%20%20%20%0A%20%20%20%20%0A%20%20%20%20%0A%20%20%20%20%20%20%20%20%20%20%20%20var%20marker_24e5063ab3744182bcfa5de734ab34f9%20%3D%20L.marker%28%0A%20%20%20%20%20%20%20%20%20%20%20%20%20%20%20%20%5B39.2237%2C%20-76.5872%5D%2C%0A%20%20%20%20%20%20%20%20%20%20%20%20%20%20%20%20%7B%7D%0A%20%20%20%20%20%20%20%20%20%20%20%20%29.addTo%28map_82dfc54417214e94a1bef2b8cef3065b%29%3B%0A%20%20%20%20%20%20%20%20%0A%20%20%20%20%0A%20%20%20%20%20%20%20%20%20%20%20%20var%20icon_382ac4e18eb041daab41aa319920b300%20%3D%20L.AwesomeMarkers.icon%28%0A%20%20%20%20%20%20%20%20%20%20%20%20%20%20%20%20%7B%22extraClasses%22%3A%20%22fa-rotate-0%22%2C%20%22icon%22%3A%20%22info-sign%22%2C%20%22iconColor%22%3A%20%22white%22%2C%20%22markerColor%22%3A%20%22pink%22%2C%20%22prefix%22%3A%20%22glyphicon%22%7D%0A%20%20%20%20%20%20%20%20%20%20%20%20%29%3B%0A%20%20%20%20%20%20%20%20%20%20%20%20marker_24e5063ab3744182bcfa5de734ab34f9.setIcon%28icon_382ac4e18eb041daab41aa319920b300%29%3B%0A%20%20%20%20%20%20%20%20%0A%20%20%20%20%0A%20%20%20%20%20%20%20%20var%20popup_77ec2502b0c24307a8ef558030c0d843%20%3D%20L.popup%28%7B%22maxWidth%22%3A%20%22100%25%22%7D%29%3B%0A%0A%20%20%20%20%20%20%20%20%0A%20%20%20%20%20%20%20%20%20%20%20%20var%20html_765cdce922dc4d3e9a3d166713eb2433%20%3D%20%24%28%60%3Cdiv%20id%3D%22html_765cdce922dc4d3e9a3d166713eb2433%22%20style%3D%22width%3A%20100.0%25%3B%20height%3A%20100.0%25%3B%22%3E1600%20CYPRESS%20ST%2C%202018/12/3%3C/div%3E%60%29%5B0%5D%3B%0A%20%20%20%20%20%20%20%20%20%20%20%20popup_77ec2502b0c24307a8ef558030c0d843.setContent%28html_765cdce922dc4d3e9a3d166713eb2433%29%3B%0A%20%20%20%20%20%20%20%20%0A%0A%20%20%20%20%20%20%20%20marker_24e5063ab3744182bcfa5de734ab34f9.bindPopup%28popup_77ec2502b0c24307a8ef558030c0d843%29%0A%20%20%20%20%20%20%20%20%3B%0A%0A%20%20%20%20%20%20%20%20%0A%20%20%20%20%0A%20%20%20%20%0A%20%20%20%20%20%20%20%20%20%20%20%20var%20marker_fa84ba5df1394c8da32f1fab81f9afc5%20%3D%20L.marker%28%0A%20%20%20%20%20%20%20%20%20%20%20%20%20%20%20%20%5B39.3405%2C%20-76.5821%5D%2C%0A%20%20%20%20%20%20%20%20%20%20%20%20%20%20%20%20%7B%7D%0A%20%20%20%20%20%20%20%20%20%20%20%20%29.addTo%28map_82dfc54417214e94a1bef2b8cef3065b%29%3B%0A%20%20%20%20%20%20%20%20%0A%20%20%20%20%0A%20%20%20%20%20%20%20%20%20%20%20%20var%20icon_b3788c4990514d8da0a1df30f66b2fe7%20%3D%20L.AwesomeMarkers.icon%28%0A%20%20%20%20%20%20%20%20%20%20%20%20%20%20%20%20%7B%22extraClasses%22%3A%20%22fa-rotate-0%22%2C%20%22icon%22%3A%20%22info-sign%22%2C%20%22iconColor%22%3A%20%22white%22%2C%20%22markerColor%22%3A%20%22pink%22%2C%20%22prefix%22%3A%20%22glyphicon%22%7D%0A%20%20%20%20%20%20%20%20%20%20%20%20%29%3B%0A%20%20%20%20%20%20%20%20%20%20%20%20marker_fa84ba5df1394c8da32f1fab81f9afc5.setIcon%28icon_b3788c4990514d8da0a1df30f66b2fe7%29%3B%0A%20%20%20%20%20%20%20%20%0A%20%20%20%20%0A%20%20%20%20%20%20%20%20var%20popup_fa9ffceb109b4f2fbcda76ea0803b993%20%3D%20L.popup%28%7B%22maxWidth%22%3A%20%22100%25%22%7D%29%3B%0A%0A%20%20%20%20%20%20%20%20%0A%20%20%20%20%20%20%20%20%20%20%20%20var%20html_1b28e5d3fb404c7aaf60328b64cea382%20%3D%20%24%28%60%3Cdiv%20id%3D%22html_1b28e5d3fb404c7aaf60328b64cea382%22%20style%3D%22width%3A%20100.0%25%3B%20height%3A%20100.0%25%3B%22%3E1900%20ARGONNE%20DR%2C%202018/12/3%3C/div%3E%60%29%5B0%5D%3B%0A%20%20%20%20%20%20%20%20%20%20%20%20popup_fa9ffceb109b4f2fbcda76ea0803b993.setContent%28html_1b28e5d3fb404c7aaf60328b64cea382%29%3B%0A%20%20%20%20%20%20%20%20%0A%0A%20%20%20%20%20%20%20%20marker_fa84ba5df1394c8da32f1fab81f9afc5.bindPopup%28popup_fa9ffceb109b4f2fbcda76ea0803b993%29%0A%20%20%20%20%20%20%20%20%3B%0A%0A%20%20%20%20%20%20%20%20%0A%20%20%20%20%0A%20%20%20%20%0A%20%20%20%20%20%20%20%20%20%20%20%20var%20marker_ea56a06fdbfd48a3bb0db3ce39d1b471%20%3D%20L.marker%28%0A%20%20%20%20%20%20%20%20%20%20%20%20%20%20%20%20%5B39.2535%2C%20-76.6248%5D%2C%0A%20%20%20%20%20%20%20%20%20%20%20%20%20%20%20%20%7B%7D%0A%20%20%20%20%20%20%20%20%20%20%20%20%29.addTo%28map_82dfc54417214e94a1bef2b8cef3065b%29%3B%0A%20%20%20%20%20%20%20%20%0A%20%20%20%20%0A%20%20%20%20%20%20%20%20%20%20%20%20var%20icon_29c177ac428b462fa26bf37df0dabd6c%20%3D%20L.AwesomeMarkers.icon%28%0A%20%20%20%20%20%20%20%20%20%20%20%20%20%20%20%20%7B%22extraClasses%22%3A%20%22fa-rotate-0%22%2C%20%22icon%22%3A%20%22info-sign%22%2C%20%22iconColor%22%3A%20%22white%22%2C%20%22markerColor%22%3A%20%22pink%22%2C%20%22prefix%22%3A%20%22glyphicon%22%7D%0A%20%20%20%20%20%20%20%20%20%20%20%20%29%3B%0A%20%20%20%20%20%20%20%20%20%20%20%20marker_ea56a06fdbfd48a3bb0db3ce39d1b471.setIcon%28icon_29c177ac428b462fa26bf37df0dabd6c%29%3B%0A%20%20%20%20%20%20%20%20%0A%20%20%20%20%0A%20%20%20%20%20%20%20%20var%20popup_50df79d1a5d448e993160c8a1dd30f44%20%3D%20L.popup%28%7B%22maxWidth%22%3A%20%22100%25%22%7D%29%3B%0A%0A%20%20%20%20%20%20%20%20%0A%20%20%20%20%20%20%20%20%20%20%20%20var%20html_3f7f9c753ab344b1aa7a8959878f792b%20%3D%20%24%28%60%3Cdiv%20id%3D%22html_3f7f9c753ab344b1aa7a8959878f792b%22%20style%3D%22width%3A%20100.0%25%3B%20height%3A%20100.0%25%3B%22%3E2300%20SEAMON%20AVE%2C%202018/12/3%3C/div%3E%60%29%5B0%5D%3B%0A%20%20%20%20%20%20%20%20%20%20%20%20popup_50df79d1a5d448e993160c8a1dd30f44.setContent%28html_3f7f9c753ab344b1aa7a8959878f792b%29%3B%0A%20%20%20%20%20%20%20%20%0A%0A%20%20%20%20%20%20%20%20marker_ea56a06fdbfd48a3bb0db3ce39d1b471.bindPopup%28popup_50df79d1a5d448e993160c8a1dd30f44%29%0A%20%20%20%20%20%20%20%20%3B%0A%0A%20%20%20%20%20%20%20%20%0A%20%20%20%20%0A%20%20%20%20%0A%20%20%20%20%20%20%20%20%20%20%20%20var%20marker_a740e09c071d4f5fbfbf296efe2001b0%20%3D%20L.marker%28%0A%20%20%20%20%20%20%20%20%20%20%20%20%20%20%20%20%5B39.2496%2C%20-76.6215%5D%2C%0A%20%20%20%20%20%20%20%20%20%20%20%20%20%20%20%20%7B%7D%0A%20%20%20%20%20%20%20%20%20%20%20%20%29.addTo%28map_82dfc54417214e94a1bef2b8cef3065b%29%3B%0A%20%20%20%20%20%20%20%20%0A%20%20%20%20%0A%20%20%20%20%20%20%20%20%20%20%20%20var%20icon_7df92cb8174b4928b93d50f3719ad5f2%20%3D%20L.AwesomeMarkers.icon%28%0A%20%20%20%20%20%20%20%20%20%20%20%20%20%20%20%20%7B%22extraClasses%22%3A%20%22fa-rotate-0%22%2C%20%22icon%22%3A%20%22info-sign%22%2C%20%22iconColor%22%3A%20%22white%22%2C%20%22markerColor%22%3A%20%22pink%22%2C%20%22prefix%22%3A%20%22glyphicon%22%7D%0A%20%20%20%20%20%20%20%20%20%20%20%20%29%3B%0A%20%20%20%20%20%20%20%20%20%20%20%20marker_a740e09c071d4f5fbfbf296efe2001b0.setIcon%28icon_7df92cb8174b4928b93d50f3719ad5f2%29%3B%0A%20%20%20%20%20%20%20%20%0A%20%20%20%20%0A%20%20%20%20%20%20%20%20var%20popup_c75c13f9922445378b86d56a482042a1%20%3D%20L.popup%28%7B%22maxWidth%22%3A%20%22100%25%22%7D%29%3B%0A%0A%20%20%20%20%20%20%20%20%0A%20%20%20%20%20%20%20%20%20%20%20%20var%20html_ed5c434a5de24883a7d1339df3c24ec9%20%3D%20%24%28%60%3Cdiv%20id%3D%22html_ed5c434a5de24883a7d1339df3c24ec9%22%20style%3D%22width%3A%20100.0%25%3B%20height%3A%20100.0%25%3B%22%3E3000%20SEABURY%20RD%2C%202018/12/3%3C/div%3E%60%29%5B0%5D%3B%0A%20%20%20%20%20%20%20%20%20%20%20%20popup_c75c13f9922445378b86d56a482042a1.setContent%28html_ed5c434a5de24883a7d1339df3c24ec9%29%3B%0A%20%20%20%20%20%20%20%20%0A%0A%20%20%20%20%20%20%20%20marker_a740e09c071d4f5fbfbf296efe2001b0.bindPopup%28popup_c75c13f9922445378b86d56a482042a1%29%0A%20%20%20%20%20%20%20%20%3B%0A%0A%20%20%20%20%20%20%20%20%0A%20%20%20%20%0A%20%20%20%20%0A%20%20%20%20%20%20%20%20%20%20%20%20var%20marker_4e74c646fd7b44ecb09a8419f6d0bee5%20%3D%20L.marker%28%0A%20%20%20%20%20%20%20%20%20%20%20%20%20%20%20%20%5B39.3078%2C%20-76.6541%5D%2C%0A%20%20%20%20%20%20%20%20%20%20%20%20%20%20%20%20%7B%7D%0A%20%20%20%20%20%20%20%20%20%20%20%20%29.addTo%28map_82dfc54417214e94a1bef2b8cef3065b%29%3B%0A%20%20%20%20%20%20%20%20%0A%20%20%20%20%0A%20%20%20%20%20%20%20%20%20%20%20%20var%20icon_9a99e722472741fa867ab3fc4c7d226b%20%3D%20L.AwesomeMarkers.icon%28%0A%20%20%20%20%20%20%20%20%20%20%20%20%20%20%20%20%7B%22extraClasses%22%3A%20%22fa-rotate-0%22%2C%20%22icon%22%3A%20%22info-sign%22%2C%20%22iconColor%22%3A%20%22white%22%2C%20%22markerColor%22%3A%20%22pink%22%2C%20%22prefix%22%3A%20%22glyphicon%22%7D%0A%20%20%20%20%20%20%20%20%20%20%20%20%29%3B%0A%20%20%20%20%20%20%20%20%20%20%20%20marker_4e74c646fd7b44ecb09a8419f6d0bee5.setIcon%28icon_9a99e722472741fa867ab3fc4c7d226b%29%3B%0A%20%20%20%20%20%20%20%20%0A%20%20%20%20%0A%20%20%20%20%20%20%20%20var%20popup_8cabcae9dd1b453cae3773df69f424f9%20%3D%20L.popup%28%7B%22maxWidth%22%3A%20%22100%25%22%7D%29%3B%0A%0A%20%20%20%20%20%20%20%20%0A%20%20%20%20%20%20%20%20%20%20%20%20var%20html_27f24c3e4fa348acb36ef936df6f57a9%20%3D%20%24%28%60%3Cdiv%20id%3D%22html_27f24c3e4fa348acb36ef936df6f57a9%22%20style%3D%22width%3A%20100.0%25%3B%20height%3A%20100.0%25%3B%22%3E1700%20N%20BENTALOU%20ST%2C%202018/12/3%3C/div%3E%60%29%5B0%5D%3B%0A%20%20%20%20%20%20%20%20%20%20%20%20popup_8cabcae9dd1b453cae3773df69f424f9.setContent%28html_27f24c3e4fa348acb36ef936df6f57a9%29%3B%0A%20%20%20%20%20%20%20%20%0A%0A%20%20%20%20%20%20%20%20marker_4e74c646fd7b44ecb09a8419f6d0bee5.bindPopup%28popup_8cabcae9dd1b453cae3773df69f424f9%29%0A%20%20%20%20%20%20%20%20%3B%0A%0A%20%20%20%20%20%20%20%20%0A%20%20%20%20%0A%20%20%20%20%0A%20%20%20%20%20%20%20%20%20%20%20%20var%20marker_276957dd5be84d078ed6c53cf8413612%20%3D%20L.marker%28%0A%20%20%20%20%20%20%20%20%20%20%20%20%20%20%20%20%5B39.2937%2C%20-76.597%5D%2C%0A%20%20%20%20%20%20%20%20%20%20%20%20%20%20%20%20%7B%7D%0A%20%20%20%20%20%20%20%20%20%20%20%20%29.addTo%28map_82dfc54417214e94a1bef2b8cef3065b%29%3B%0A%20%20%20%20%20%20%20%20%0A%20%20%20%20%0A%20%20%20%20%20%20%20%20%20%20%20%20var%20icon_5726d8501d68421baa249b20812a1761%20%3D%20L.AwesomeMarkers.icon%28%0A%20%20%20%20%20%20%20%20%20%20%20%20%20%20%20%20%7B%22extraClasses%22%3A%20%22fa-rotate-0%22%2C%20%22icon%22%3A%20%22info-sign%22%2C%20%22iconColor%22%3A%20%22white%22%2C%20%22markerColor%22%3A%20%22pink%22%2C%20%22prefix%22%3A%20%22glyphicon%22%7D%0A%20%20%20%20%20%20%20%20%20%20%20%20%29%3B%0A%20%20%20%20%20%20%20%20%20%20%20%20marker_276957dd5be84d078ed6c53cf8413612.setIcon%28icon_5726d8501d68421baa249b20812a1761%29%3B%0A%20%20%20%20%20%20%20%20%0A%20%20%20%20%0A%20%20%20%20%20%20%20%20var%20popup_360d7871d7644f3ba1a447823b7e0da4%20%3D%20L.popup%28%7B%22maxWidth%22%3A%20%22100%25%22%7D%29%3B%0A%0A%20%20%20%20%20%20%20%20%0A%20%20%20%20%20%20%20%20%20%20%20%20var%20html_4f2f718b67d949bf8c183c8156b0a3ff%20%3D%20%24%28%60%3Cdiv%20id%3D%22html_4f2f718b67d949bf8c183c8156b0a3ff%22%20style%3D%22width%3A%20100.0%25%3B%20height%3A%20100.0%25%3B%22%3E200%20DOUGLAS%20CT%2C%202018/12/3%3C/div%3E%60%29%5B0%5D%3B%0A%20%20%20%20%20%20%20%20%20%20%20%20popup_360d7871d7644f3ba1a447823b7e0da4.setContent%28html_4f2f718b67d949bf8c183c8156b0a3ff%29%3B%0A%20%20%20%20%20%20%20%20%0A%0A%20%20%20%20%20%20%20%20marker_276957dd5be84d078ed6c53cf8413612.bindPopup%28popup_360d7871d7644f3ba1a447823b7e0da4%29%0A%20%20%20%20%20%20%20%20%3B%0A%0A%20%20%20%20%20%20%20%20%0A%20%20%20%20%0A%20%20%20%20%0A%20%20%20%20%20%20%20%20%20%20%20%20var%20marker_4f93b74f48fc4668b774889de4edb5bd%20%3D%20L.marker%28%0A%20%20%20%20%20%20%20%20%20%20%20%20%20%20%20%20%5B39.317%2C%20-76.5594%5D%2C%0A%20%20%20%20%20%20%20%20%20%20%20%20%20%20%20%20%7B%7D%0A%20%20%20%20%20%20%20%20%20%20%20%20%29.addTo%28map_82dfc54417214e94a1bef2b8cef3065b%29%3B%0A%20%20%20%20%20%20%20%20%0A%20%20%20%20%0A%20%20%20%20%20%20%20%20%20%20%20%20var%20icon_8de4556f11a54df9961fa340ac1c6d8c%20%3D%20L.AwesomeMarkers.icon%28%0A%20%20%20%20%20%20%20%20%20%20%20%20%20%20%20%20%7B%22extraClasses%22%3A%20%22fa-rotate-0%22%2C%20%22icon%22%3A%20%22info-sign%22%2C%20%22iconColor%22%3A%20%22white%22%2C%20%22markerColor%22%3A%20%22pink%22%2C%20%22prefix%22%3A%20%22glyphicon%22%7D%0A%20%20%20%20%20%20%20%20%20%20%20%20%29%3B%0A%20%20%20%20%20%20%20%20%20%20%20%20marker_4f93b74f48fc4668b774889de4edb5bd.setIcon%28icon_8de4556f11a54df9961fa340ac1c6d8c%29%3B%0A%20%20%20%20%20%20%20%20%0A%20%20%20%20%0A%20%20%20%20%20%20%20%20var%20popup_2ff1df41b4e245a18457acac0e06eff4%20%3D%20L.popup%28%7B%22maxWidth%22%3A%20%22100%25%22%7D%29%3B%0A%0A%20%20%20%20%20%20%20%20%0A%20%20%20%20%20%20%20%20%20%20%20%20var%20html_d22d0624080b4717ad8d03e1e86ca773%20%3D%20%24%28%60%3Cdiv%20id%3D%22html_d22d0624080b4717ad8d03e1e86ca773%22%20style%3D%22width%3A%20100.0%25%3B%20height%3A%20100.0%25%3B%22%3E4000%20BALFERN%20AVE%2C%202018/12/3%3C/div%3E%60%29%5B0%5D%3B%0A%20%20%20%20%20%20%20%20%20%20%20%20popup_2ff1df41b4e245a18457acac0e06eff4.setContent%28html_d22d0624080b4717ad8d03e1e86ca773%29%3B%0A%20%20%20%20%20%20%20%20%0A%0A%20%20%20%20%20%20%20%20marker_4f93b74f48fc4668b774889de4edb5bd.bindPopup%28popup_2ff1df41b4e245a18457acac0e06eff4%29%0A%20%20%20%20%20%20%20%20%3B%0A%0A%20%20%20%20%20%20%20%20%0A%20%20%20%20%0A%20%20%20%20%0A%20%20%20%20%20%20%20%20%20%20%20%20var%20marker_53b3c8f6ea9349c0a23e68b3347c4e7b%20%3D%20L.marker%28%0A%20%20%20%20%20%20%20%20%20%20%20%20%20%20%20%20%5B39.2676%2C%20-76.6504%5D%2C%0A%20%20%20%20%20%20%20%20%20%20%20%20%20%20%20%20%7B%7D%0A%20%20%20%20%20%20%20%20%20%20%20%20%29.addTo%28map_82dfc54417214e94a1bef2b8cef3065b%29%3B%0A%20%20%20%20%20%20%20%20%0A%20%20%20%20%0A%20%20%20%20%20%20%20%20%20%20%20%20var%20icon_2e0cedbe87b24753b07b9d9335299068%20%3D%20L.AwesomeMarkers.icon%28%0A%20%20%20%20%20%20%20%20%20%20%20%20%20%20%20%20%7B%22extraClasses%22%3A%20%22fa-rotate-0%22%2C%20%22icon%22%3A%20%22info-sign%22%2C%20%22iconColor%22%3A%20%22white%22%2C%20%22markerColor%22%3A%20%22pink%22%2C%20%22prefix%22%3A%20%22glyphicon%22%7D%0A%20%20%20%20%20%20%20%20%20%20%20%20%29%3B%0A%20%20%20%20%20%20%20%20%20%20%20%20marker_53b3c8f6ea9349c0a23e68b3347c4e7b.setIcon%28icon_2e0cedbe87b24753b07b9d9335299068%29%3B%0A%20%20%20%20%20%20%20%20%0A%20%20%20%20%0A%20%20%20%20%20%20%20%20var%20popup_9bc1a184d67941859b404db09920f5ea%20%3D%20L.popup%28%7B%22maxWidth%22%3A%20%22100%25%22%7D%29%3B%0A%0A%20%20%20%20%20%20%20%20%0A%20%20%20%20%20%20%20%20%20%20%20%20var%20html_41509af533a14265b5ca8c9f521727c7%20%3D%20%24%28%60%3Cdiv%20id%3D%22html_41509af533a14265b5ca8c9f521727c7%22%20style%3D%22width%3A%20100.0%25%3B%20height%3A%20100.0%25%3B%22%3E1900%20GRIFFIS%20AVE%2C%202018/12/3%3C/div%3E%60%29%5B0%5D%3B%0A%20%20%20%20%20%20%20%20%20%20%20%20popup_9bc1a184d67941859b404db09920f5ea.setContent%28html_41509af533a14265b5ca8c9f521727c7%29%3B%0A%20%20%20%20%20%20%20%20%0A%0A%20%20%20%20%20%20%20%20marker_53b3c8f6ea9349c0a23e68b3347c4e7b.bindPopup%28popup_9bc1a184d67941859b404db09920f5ea%29%0A%20%20%20%20%20%20%20%20%3B%0A%0A%20%20%20%20%20%20%20%20%0A%20%20%20%20%0A%20%20%20%20%0A%20%20%20%20%20%20%20%20%20%20%20%20var%20marker_b1f9f8e10fa44f03b6c88e3b80074e47%20%3D%20L.marker%28%0A%20%20%20%20%20%20%20%20%20%20%20%20%20%20%20%20%5B39.323%2C%20-76.6195%5D%2C%0A%20%20%20%20%20%20%20%20%20%20%20%20%20%20%20%20%7B%7D%0A%20%20%20%20%20%20%20%20%20%20%20%20%29.addTo%28map_82dfc54417214e94a1bef2b8cef3065b%29%3B%0A%20%20%20%20%20%20%20%20%0A%20%20%20%20%0A%20%20%20%20%20%20%20%20%20%20%20%20var%20icon_e44483fcd92b4dd595524f7a2e22a599%20%3D%20L.AwesomeMarkers.icon%28%0A%20%20%20%20%20%20%20%20%20%20%20%20%20%20%20%20%7B%22extraClasses%22%3A%20%22fa-rotate-0%22%2C%20%22icon%22%3A%20%22info-sign%22%2C%20%22iconColor%22%3A%20%22white%22%2C%20%22markerColor%22%3A%20%22pink%22%2C%20%22prefix%22%3A%20%22glyphicon%22%7D%0A%20%20%20%20%20%20%20%20%20%20%20%20%29%3B%0A%20%20%20%20%20%20%20%20%20%20%20%20marker_b1f9f8e10fa44f03b6c88e3b80074e47.setIcon%28icon_e44483fcd92b4dd595524f7a2e22a599%29%3B%0A%20%20%20%20%20%20%20%20%0A%20%20%20%20%0A%20%20%20%20%20%20%20%20var%20popup_2834c662c55247e582470088ef8eaa6b%20%3D%20L.popup%28%7B%22maxWidth%22%3A%20%22100%25%22%7D%29%3B%0A%0A%20%20%20%20%20%20%20%20%0A%20%20%20%20%20%20%20%20%20%20%20%20var%20html_1e7e061da86843af88f02ed435cf2ab5%20%3D%20%24%28%60%3Cdiv%20id%3D%22html_1e7e061da86843af88f02ed435cf2ab5%22%20style%3D%22width%3A%20100.0%25%3B%20height%3A%20100.0%25%3B%22%3E100%20W%2029TH%20ST%2C%202018/12/3%3C/div%3E%60%29%5B0%5D%3B%0A%20%20%20%20%20%20%20%20%20%20%20%20popup_2834c662c55247e582470088ef8eaa6b.setContent%28html_1e7e061da86843af88f02ed435cf2ab5%29%3B%0A%20%20%20%20%20%20%20%20%0A%0A%20%20%20%20%20%20%20%20marker_b1f9f8e10fa44f03b6c88e3b80074e47.bindPopup%28popup_2834c662c55247e582470088ef8eaa6b%29%0A%20%20%20%20%20%20%20%20%3B%0A%0A%20%20%20%20%20%20%20%20%0A%20%20%20%20%0A%20%20%20%20%0A%20%20%20%20%20%20%20%20%20%20%20%20var%20marker_0f43b65451424723b555bfec82a418c2%20%3D%20L.marker%28%0A%20%20%20%20%20%20%20%20%20%20%20%20%20%20%20%20%5B39.3208%2C%20-76.5748%5D%2C%0A%20%20%20%20%20%20%20%20%20%20%20%20%20%20%20%20%7B%7D%0A%20%20%20%20%20%20%20%20%20%20%20%20%29.addTo%28map_82dfc54417214e94a1bef2b8cef3065b%29%3B%0A%20%20%20%20%20%20%20%20%0A%20%20%20%20%0A%20%20%20%20%20%20%20%20%20%20%20%20var%20icon_5b30f030ed1f443eaca4bab526c7972b%20%3D%20L.AwesomeMarkers.icon%28%0A%20%20%20%20%20%20%20%20%20%20%20%20%20%20%20%20%7B%22extraClasses%22%3A%20%22fa-rotate-0%22%2C%20%22icon%22%3A%20%22info-sign%22%2C%20%22iconColor%22%3A%20%22white%22%2C%20%22markerColor%22%3A%20%22pink%22%2C%20%22prefix%22%3A%20%22glyphicon%22%7D%0A%20%20%20%20%20%20%20%20%20%20%20%20%29%3B%0A%20%20%20%20%20%20%20%20%20%20%20%20marker_0f43b65451424723b555bfec82a418c2.setIcon%28icon_5b30f030ed1f443eaca4bab526c7972b%29%3B%0A%20%20%20%20%20%20%20%20%0A%20%20%20%20%0A%20%20%20%20%20%20%20%20var%20popup_e31eb69b5a6d438b85bf5bc22b6e5e7d%20%3D%20L.popup%28%7B%22maxWidth%22%3A%20%22100%25%22%7D%29%3B%0A%0A%20%20%20%20%20%20%20%20%0A%20%20%20%20%20%20%20%20%20%20%20%20var%20html_cad3ccef36b949a58bda2881be837664%20%3D%20%24%28%60%3Cdiv%20id%3D%22html_cad3ccef36b949a58bda2881be837664%22%20style%3D%22width%3A%20100.0%25%3B%20height%3A%20100.0%25%3B%22%3E3200%20BELAIR%20RD%2C%202018/12/3%3C/div%3E%60%29%5B0%5D%3B%0A%20%20%20%20%20%20%20%20%20%20%20%20popup_e31eb69b5a6d438b85bf5bc22b6e5e7d.setContent%28html_cad3ccef36b949a58bda2881be837664%29%3B%0A%20%20%20%20%20%20%20%20%0A%0A%20%20%20%20%20%20%20%20marker_0f43b65451424723b555bfec82a418c2.bindPopup%28popup_e31eb69b5a6d438b85bf5bc22b6e5e7d%29%0A%20%20%20%20%20%20%20%20%3B%0A%0A%20%20%20%20%20%20%20%20%0A%20%20%20%20%0A%20%20%20%20%0A%20%20%20%20%20%20%20%20%20%20%20%20var%20marker_3bfda6de118b466c9f8d05ea2207f744%20%3D%20L.marker%28%0A%20%20%20%20%20%20%20%20%20%20%20%20%20%20%20%20%5B39.26%2C%20-76.5311%5D%2C%0A%20%20%20%20%20%20%20%20%20%20%20%20%20%20%20%20%7B%7D%0A%20%20%20%20%20%20%20%20%20%20%20%20%29.addTo%28map_82dfc54417214e94a1bef2b8cef3065b%29%3B%0A%20%20%20%20%20%20%20%20%0A%20%20%20%20%0A%20%20%20%20%20%20%20%20%20%20%20%20var%20icon_2426c0fa480a4fd2a147e2276021a30b%20%3D%20L.AwesomeMarkers.icon%28%0A%20%20%20%20%20%20%20%20%20%20%20%20%20%20%20%20%7B%22extraClasses%22%3A%20%22fa-rotate-0%22%2C%20%22icon%22%3A%20%22info-sign%22%2C%20%22iconColor%22%3A%20%22white%22%2C%20%22markerColor%22%3A%20%22pink%22%2C%20%22prefix%22%3A%20%22glyphicon%22%7D%0A%20%20%20%20%20%20%20%20%20%20%20%20%29%3B%0A%20%20%20%20%20%20%20%20%20%20%20%20marker_3bfda6de118b466c9f8d05ea2207f744.setIcon%28icon_2426c0fa480a4fd2a147e2276021a30b%29%3B%0A%20%20%20%20%20%20%20%20%0A%20%20%20%20%0A%20%20%20%20%20%20%20%20var%20popup_96c813ba5757439c97ff8685164e2b3f%20%3D%20L.popup%28%7B%22maxWidth%22%3A%20%22100%25%22%7D%29%3B%0A%0A%20%20%20%20%20%20%20%20%0A%20%20%20%20%20%20%20%20%20%20%20%20var%20html_cc3786b6a714409188cd0a74e77e6710%20%3D%20%24%28%60%3Cdiv%20id%3D%22html_cc3786b6a714409188cd0a74e77e6710%22%20style%3D%22width%3A%20100.0%25%3B%20height%3A%20100.0%25%3B%22%3E6500%20SAINT%20HELENA%20AVE%2C%202018/12/3%3C/div%3E%60%29%5B0%5D%3B%0A%20%20%20%20%20%20%20%20%20%20%20%20popup_96c813ba5757439c97ff8685164e2b3f.setContent%28html_cc3786b6a714409188cd0a74e77e6710%29%3B%0A%20%20%20%20%20%20%20%20%0A%0A%20%20%20%20%20%20%20%20marker_3bfda6de118b466c9f8d05ea2207f744.bindPopup%28popup_96c813ba5757439c97ff8685164e2b3f%29%0A%20%20%20%20%20%20%20%20%3B%0A%0A%20%20%20%20%20%20%20%20%0A%20%20%20%20%0A%20%20%20%20%0A%20%20%20%20%20%20%20%20%20%20%20%20var%20marker_669db08db8b24490b5861f335e6ffbf4%20%3D%20L.marker%28%0A%20%20%20%20%20%20%20%20%20%20%20%20%20%20%20%20%5B39.3204%2C%20-76.6877%5D%2C%0A%20%20%20%20%20%20%20%20%20%20%20%20%20%20%20%20%7B%7D%0A%20%20%20%20%20%20%20%20%20%20%20%20%29.addTo%28map_82dfc54417214e94a1bef2b8cef3065b%29%3B%0A%20%20%20%20%20%20%20%20%0A%20%20%20%20%0A%20%20%20%20%20%20%20%20%20%20%20%20var%20icon_673432cf798445dfbd9c1ce3b67e1d94%20%3D%20L.AwesomeMarkers.icon%28%0A%20%20%20%20%20%20%20%20%20%20%20%20%20%20%20%20%7B%22extraClasses%22%3A%20%22fa-rotate-0%22%2C%20%22icon%22%3A%20%22info-sign%22%2C%20%22iconColor%22%3A%20%22white%22%2C%20%22markerColor%22%3A%20%22pink%22%2C%20%22prefix%22%3A%20%22glyphicon%22%7D%0A%20%20%20%20%20%20%20%20%20%20%20%20%29%3B%0A%20%20%20%20%20%20%20%20%20%20%20%20marker_669db08db8b24490b5861f335e6ffbf4.setIcon%28icon_673432cf798445dfbd9c1ce3b67e1d94%29%3B%0A%20%20%20%20%20%20%20%20%0A%20%20%20%20%0A%20%20%20%20%20%20%20%20var%20popup_7cf1d46ba3e747d7a2e0a5a0d69ea3c8%20%3D%20L.popup%28%7B%22maxWidth%22%3A%20%22100%25%22%7D%29%3B%0A%0A%20%20%20%20%20%20%20%20%0A%20%20%20%20%20%20%20%20%20%20%20%20var%20html_7b1f4b940d5c477abd271133e3d9e42e%20%3D%20%24%28%60%3Cdiv%20id%3D%22html_7b1f4b940d5c477abd271133e3d9e42e%22%20style%3D%22width%3A%20100.0%25%3B%20height%3A%20100.0%25%3B%22%3E4200%20FAIRFAX%20RD%2C%202018/12/3%3C/div%3E%60%29%5B0%5D%3B%0A%20%20%20%20%20%20%20%20%20%20%20%20popup_7cf1d46ba3e747d7a2e0a5a0d69ea3c8.setContent%28html_7b1f4b940d5c477abd271133e3d9e42e%29%3B%0A%20%20%20%20%20%20%20%20%0A%0A%20%20%20%20%20%20%20%20marker_669db08db8b24490b5861f335e6ffbf4.bindPopup%28popup_7cf1d46ba3e747d7a2e0a5a0d69ea3c8%29%0A%20%20%20%20%20%20%20%20%3B%0A%0A%20%20%20%20%20%20%20%20%0A%20%20%20%20%0A%20%20%20%20%0A%20%20%20%20%20%20%20%20%20%20%20%20var%20marker_7133e88ceef04cd99b7cc91552169b55%20%3D%20L.marker%28%0A%20%20%20%20%20%20%20%20%20%20%20%20%20%20%20%20%5B39.256%2C%20-76.654%5D%2C%0A%20%20%20%20%20%20%20%20%20%20%20%20%20%20%20%20%7B%7D%0A%20%20%20%20%20%20%20%20%20%20%20%20%29.addTo%28map_82dfc54417214e94a1bef2b8cef3065b%29%3B%0A%20%20%20%20%20%20%20%20%0A%20%20%20%20%0A%20%20%20%20%20%20%20%20%20%20%20%20var%20icon_a862f510c5224c268d0e40bee93a1378%20%3D%20L.AwesomeMarkers.icon%28%0A%20%20%20%20%20%20%20%20%20%20%20%20%20%20%20%20%7B%22extraClasses%22%3A%20%22fa-rotate-0%22%2C%20%22icon%22%3A%20%22info-sign%22%2C%20%22iconColor%22%3A%20%22white%22%2C%20%22markerColor%22%3A%20%22pink%22%2C%20%22prefix%22%3A%20%22glyphicon%22%7D%0A%20%20%20%20%20%20%20%20%20%20%20%20%29%3B%0A%20%20%20%20%20%20%20%20%20%20%20%20marker_7133e88ceef04cd99b7cc91552169b55.setIcon%28icon_a862f510c5224c268d0e40bee93a1378%29%3B%0A%20%20%20%20%20%20%20%20%0A%20%20%20%20%0A%20%20%20%20%20%20%20%20var%20popup_51d0389908164b7498cc2bcd9d1e386a%20%3D%20L.popup%28%7B%22maxWidth%22%3A%20%22100%25%22%7D%29%3B%0A%0A%20%20%20%20%20%20%20%20%0A%20%20%20%20%20%20%20%20%20%20%20%20var%20html_809f2601d9e049f19f7fd39ff923bd83%20%3D%20%24%28%60%3Cdiv%20id%3D%22html_809f2601d9e049f19f7fd39ff923bd83%22%20style%3D%22width%3A%20100.0%25%3B%20height%3A%20100.0%25%3B%22%3E3000%20MARDEL%20AVE%2C%202018/12/3%3C/div%3E%60%29%5B0%5D%3B%0A%20%20%20%20%20%20%20%20%20%20%20%20popup_51d0389908164b7498cc2bcd9d1e386a.setContent%28html_809f2601d9e049f19f7fd39ff923bd83%29%3B%0A%20%20%20%20%20%20%20%20%0A%0A%20%20%20%20%20%20%20%20marker_7133e88ceef04cd99b7cc91552169b55.bindPopup%28popup_51d0389908164b7498cc2bcd9d1e386a%29%0A%20%20%20%20%20%20%20%20%3B%0A%0A%20%20%20%20%20%20%20%20%0A%20%20%20%20%0A%20%20%20%20%0A%20%20%20%20%20%20%20%20%20%20%20%20var%20marker_62110f1c672e439bb1f5b84219050836%20%3D%20L.marker%28%0A%20%20%20%20%20%20%20%20%20%20%20%20%20%20%20%20%5B39.3475%2C%20-76.6736%5D%2C%0A%20%20%20%20%20%20%20%20%20%20%20%20%20%20%20%20%7B%7D%0A%20%20%20%20%20%20%20%20%20%20%20%20%29.addTo%28map_82dfc54417214e94a1bef2b8cef3065b%29%3B%0A%20%20%20%20%20%20%20%20%0A%20%20%20%20%0A%20%20%20%20%20%20%20%20%20%20%20%20var%20icon_159d67cb3f1b4344ae98b09a274c9712%20%3D%20L.AwesomeMarkers.icon%28%0A%20%20%20%20%20%20%20%20%20%20%20%20%20%20%20%20%7B%22extraClasses%22%3A%20%22fa-rotate-0%22%2C%20%22icon%22%3A%20%22info-sign%22%2C%20%22iconColor%22%3A%20%22white%22%2C%20%22markerColor%22%3A%20%22pink%22%2C%20%22prefix%22%3A%20%22glyphicon%22%7D%0A%20%20%20%20%20%20%20%20%20%20%20%20%29%3B%0A%20%20%20%20%20%20%20%20%20%20%20%20marker_62110f1c672e439bb1f5b84219050836.setIcon%28icon_159d67cb3f1b4344ae98b09a274c9712%29%3B%0A%20%20%20%20%20%20%20%20%0A%20%20%20%20%0A%20%20%20%20%20%20%20%20var%20popup_7a07b73f47e549ca92c63844cb3c92f1%20%3D%20L.popup%28%7B%22maxWidth%22%3A%20%22100%25%22%7D%29%3B%0A%0A%20%20%20%20%20%20%20%20%0A%20%20%20%20%20%20%20%20%20%20%20%20var%20html_b00470c8bcc248f48793447890b0f1a4%20%3D%20%24%28%60%3Cdiv%20id%3D%22html_b00470c8bcc248f48793447890b0f1a4%22%20style%3D%22width%3A%20100.0%25%3B%20height%3A%20100.0%25%3B%22%3E5000%20PARK%20HEIGHTS%20AVE%2C%202018/12/3%3C/div%3E%60%29%5B0%5D%3B%0A%20%20%20%20%20%20%20%20%20%20%20%20popup_7a07b73f47e549ca92c63844cb3c92f1.setContent%28html_b00470c8bcc248f48793447890b0f1a4%29%3B%0A%20%20%20%20%20%20%20%20%0A%0A%20%20%20%20%20%20%20%20marker_62110f1c672e439bb1f5b84219050836.bindPopup%28popup_7a07b73f47e549ca92c63844cb3c92f1%29%0A%20%20%20%20%20%20%20%20%3B%0A%0A%20%20%20%20%20%20%20%20%0A%20%20%20%20%0A%20%20%20%20%0A%20%20%20%20%20%20%20%20%20%20%20%20var%20marker_3d61187c60f34cfaad181a2d7ea8e8d8%20%3D%20L.marker%28%0A%20%20%20%20%20%20%20%20%20%20%20%20%20%20%20%20%5B39.33%2C%20-76.6302%5D%2C%0A%20%20%20%20%20%20%20%20%20%20%20%20%20%20%20%20%7B%7D%0A%20%20%20%20%20%20%20%20%20%20%20%20%29.addTo%28map_82dfc54417214e94a1bef2b8cef3065b%29%3B%0A%20%20%20%20%20%20%20%20%0A%20%20%20%20%0A%20%20%20%20%20%20%20%20%20%20%20%20var%20icon_aae64f0e52df46deb4367f456cca8925%20%3D%20L.AwesomeMarkers.icon%28%0A%20%20%20%20%20%20%20%20%20%20%20%20%20%20%20%20%7B%22extraClasses%22%3A%20%22fa-rotate-0%22%2C%20%22icon%22%3A%20%22info-sign%22%2C%20%22iconColor%22%3A%20%22white%22%2C%20%22markerColor%22%3A%20%22pink%22%2C%20%22prefix%22%3A%20%22glyphicon%22%7D%0A%20%20%20%20%20%20%20%20%20%20%20%20%29%3B%0A%20%20%20%20%20%20%20%20%20%20%20%20marker_3d61187c60f34cfaad181a2d7ea8e8d8.setIcon%28icon_aae64f0e52df46deb4367f456cca8925%29%3B%0A%20%20%20%20%20%20%20%20%0A%20%20%20%20%0A%20%20%20%20%20%20%20%20var%20popup_c7881557beec4238b5704966fa400af6%20%3D%20L.popup%28%7B%22maxWidth%22%3A%20%22100%25%22%7D%29%3B%0A%0A%20%20%20%20%20%20%20%20%0A%20%20%20%20%20%20%20%20%20%20%20%20var%20html_a3569f2a44b54895bc0d9e8a8c288e58%20%3D%20%24%28%60%3Cdiv%20id%3D%22html_a3569f2a44b54895bc0d9e8a8c288e58%22%20style%3D%22width%3A%20100.0%25%3B%20height%3A%20100.0%25%3B%22%3E800%20W%2035TH%20ST%2C%202018/12/3%3C/div%3E%60%29%5B0%5D%3B%0A%20%20%20%20%20%20%20%20%20%20%20%20popup_c7881557beec4238b5704966fa400af6.setContent%28html_a3569f2a44b54895bc0d9e8a8c288e58%29%3B%0A%20%20%20%20%20%20%20%20%0A%0A%20%20%20%20%20%20%20%20marker_3d61187c60f34cfaad181a2d7ea8e8d8.bindPopup%28popup_c7881557beec4238b5704966fa400af6%29%0A%20%20%20%20%20%20%20%20%3B%0A%0A%20%20%20%20%20%20%20%20%0A%20%20%20%20%0A%20%20%20%20%0A%20%20%20%20%20%20%20%20%20%20%20%20var%20marker_329e752c93c54eb38c01c4fc7dd22b95%20%3D%20L.marker%28%0A%20%20%20%20%20%20%20%20%20%20%20%20%20%20%20%20%5B39.353%2C%20-76.6669%5D%2C%0A%20%20%20%20%20%20%20%20%20%20%20%20%20%20%20%20%7B%7D%0A%20%20%20%20%20%20%20%20%20%20%20%20%29.addTo%28map_82dfc54417214e94a1bef2b8cef3065b%29%3B%0A%20%20%20%20%20%20%20%20%0A%20%20%20%20%0A%20%20%20%20%20%20%20%20%20%20%20%20var%20icon_1acf55effa864c4fb3756c4854c4e807%20%3D%20L.AwesomeMarkers.icon%28%0A%20%20%20%20%20%20%20%20%20%20%20%20%20%20%20%20%7B%22extraClasses%22%3A%20%22fa-rotate-0%22%2C%20%22icon%22%3A%20%22info-sign%22%2C%20%22iconColor%22%3A%20%22white%22%2C%20%22markerColor%22%3A%20%22blue%22%2C%20%22prefix%22%3A%20%22glyphicon%22%7D%0A%20%20%20%20%20%20%20%20%20%20%20%20%29%3B%0A%20%20%20%20%20%20%20%20%20%20%20%20marker_329e752c93c54eb38c01c4fc7dd22b95.setIcon%28icon_1acf55effa864c4fb3756c4854c4e807%29%3B%0A%20%20%20%20%20%20%20%20%0A%20%20%20%20%0A%20%20%20%20%20%20%20%20var%20popup_4063bb957bee4dc7a0b305a7a4af8089%20%3D%20L.popup%28%7B%22maxWidth%22%3A%20%22100%25%22%7D%29%3B%0A%0A%20%20%20%20%20%20%20%20%0A%20%20%20%20%20%20%20%20%20%20%20%20var%20html_c4bc2cb344be478c8fd797e3e84fd416%20%3D%20%24%28%60%3Cdiv%20id%3D%22html_c4bc2cb344be478c8fd797e3e84fd416%22%20style%3D%22width%3A%20100.0%25%3B%20height%3A%20100.0%25%3B%22%3E2500%20W%20BELVEDERE%20AVE%2C%202017/12/3%3C/div%3E%60%29%5B0%5D%3B%0A%20%20%20%20%20%20%20%20%20%20%20%20popup_4063bb957bee4dc7a0b305a7a4af8089.setContent%28html_c4bc2cb344be478c8fd797e3e84fd416%29%3B%0A%20%20%20%20%20%20%20%20%0A%0A%20%20%20%20%20%20%20%20marker_329e752c93c54eb38c01c4fc7dd22b95.bindPopup%28popup_4063bb957bee4dc7a0b305a7a4af8089%29%0A%20%20%20%20%20%20%20%20%3B%0A%0A%20%20%20%20%20%20%20%20%0A%20%20%20%20%0A%20%20%20%20%0A%20%20%20%20%20%20%20%20%20%20%20%20var%20marker_61d73643193c4a1c9ccf68673f1e01be%20%3D%20L.marker%28%0A%20%20%20%20%20%20%20%20%20%20%20%20%20%20%20%20%5B39.296%2C%20-76.5753%5D%2C%0A%20%20%20%20%20%20%20%20%20%20%20%20%20%20%20%20%7B%7D%0A%20%20%20%20%20%20%20%20%20%20%20%20%29.addTo%28map_82dfc54417214e94a1bef2b8cef3065b%29%3B%0A%20%20%20%20%20%20%20%20%0A%20%20%20%20%0A%20%20%20%20%20%20%20%20%20%20%20%20var%20icon_b7ca6f1133554d67975147dc173c1573%20%3D%20L.AwesomeMarkers.icon%28%0A%20%20%20%20%20%20%20%20%20%20%20%20%20%20%20%20%7B%22extraClasses%22%3A%20%22fa-rotate-0%22%2C%20%22icon%22%3A%20%22info-sign%22%2C%20%22iconColor%22%3A%20%22white%22%2C%20%22markerColor%22%3A%20%22blue%22%2C%20%22prefix%22%3A%20%22glyphicon%22%7D%0A%20%20%20%20%20%20%20%20%20%20%20%20%29%3B%0A%20%20%20%20%20%20%20%20%20%20%20%20marker_61d73643193c4a1c9ccf68673f1e01be.setIcon%28icon_b7ca6f1133554d67975147dc173c1573%29%3B%0A%20%20%20%20%20%20%20%20%0A%20%20%20%20%0A%20%20%20%20%20%20%20%20var%20popup_172cb65997f3498a985fae2eebea7792%20%3D%20L.popup%28%7B%22maxWidth%22%3A%20%22100%25%22%7D%29%3B%0A%0A%20%20%20%20%20%20%20%20%0A%20%20%20%20%20%20%20%20%20%20%20%20var%20html_0eb7aa4a3f9747c1bd726bf2caa961f5%20%3D%20%24%28%60%3Cdiv%20id%3D%22html_0eb7aa4a3f9747c1bd726bf2caa961f5%22%20style%3D%22width%3A%20100.0%25%3B%20height%3A%20100.0%25%3B%22%3E3000%20ORLEANS%20ST%2C%202017/12/3%3C/div%3E%60%29%5B0%5D%3B%0A%20%20%20%20%20%20%20%20%20%20%20%20popup_172cb65997f3498a985fae2eebea7792.setContent%28html_0eb7aa4a3f9747c1bd726bf2caa961f5%29%3B%0A%20%20%20%20%20%20%20%20%0A%0A%20%20%20%20%20%20%20%20marker_61d73643193c4a1c9ccf68673f1e01be.bindPopup%28popup_172cb65997f3498a985fae2eebea7792%29%0A%20%20%20%20%20%20%20%20%3B%0A%0A%20%20%20%20%20%20%20%20%0A%20%20%20%20%0A%20%20%20%20%0A%20%20%20%20%20%20%20%20%20%20%20%20var%20marker_310df5b9968b4845861985c0aef8c5ed%20%3D%20L.marker%28%0A%20%20%20%20%20%20%20%20%20%20%20%20%20%20%20%20%5B39.3126%2C%20-76.584%5D%2C%0A%20%20%20%20%20%20%20%20%20%20%20%20%20%20%20%20%7B%7D%0A%20%20%20%20%20%20%20%20%20%20%20%20%29.addTo%28map_82dfc54417214e94a1bef2b8cef3065b%29%3B%0A%20%20%20%20%20%20%20%20%0A%20%20%20%20%0A%20%20%20%20%20%20%20%20%20%20%20%20var%20icon_90883645e7c542b99b79c6e8701f3033%20%3D%20L.AwesomeMarkers.icon%28%0A%20%20%20%20%20%20%20%20%20%20%20%20%20%20%20%20%7B%22extraClasses%22%3A%20%22fa-rotate-0%22%2C%20%22icon%22%3A%20%22info-sign%22%2C%20%22iconColor%22%3A%20%22white%22%2C%20%22markerColor%22%3A%20%22blue%22%2C%20%22prefix%22%3A%20%22glyphicon%22%7D%0A%20%20%20%20%20%20%20%20%20%20%20%20%29%3B%0A%20%20%20%20%20%20%20%20%20%20%20%20marker_310df5b9968b4845861985c0aef8c5ed.setIcon%28icon_90883645e7c542b99b79c6e8701f3033%29%3B%0A%20%20%20%20%20%20%20%20%0A%20%20%20%20%0A%20%20%20%20%20%20%20%20var%20popup_7645320dc0ce489fa85afb2aef650bd0%20%3D%20L.popup%28%7B%22maxWidth%22%3A%20%22100%25%22%7D%29%3B%0A%0A%20%20%20%20%20%20%20%20%0A%20%20%20%20%20%20%20%20%20%20%20%20var%20html_635dd5b0f114484e8f2f742e2d9428f6%20%3D%20%24%28%60%3Cdiv%20id%3D%22html_635dd5b0f114484e8f2f742e2d9428f6%22%20style%3D%22width%3A%20100.0%25%3B%20height%3A%20100.0%25%3B%22%3ENORTH%20AVE%20%26%20N%20GAY%20ST%2C%202017/12/3%3C/div%3E%60%29%5B0%5D%3B%0A%20%20%20%20%20%20%20%20%20%20%20%20popup_7645320dc0ce489fa85afb2aef650bd0.setContent%28html_635dd5b0f114484e8f2f742e2d9428f6%29%3B%0A%20%20%20%20%20%20%20%20%0A%0A%20%20%20%20%20%20%20%20marker_310df5b9968b4845861985c0aef8c5ed.bindPopup%28popup_7645320dc0ce489fa85afb2aef650bd0%29%0A%20%20%20%20%20%20%20%20%3B%0A%0A%20%20%20%20%20%20%20%20%0A%20%20%20%20%0A%20%20%20%20%0A%20%20%20%20%20%20%20%20%20%20%20%20var%20marker_40f2d5e73a524acaad15278abad3bd29%20%3D%20L.marker%28%0A%20%20%20%20%20%20%20%20%20%20%20%20%20%20%20%20%5B39.359%2C%20-76.7097%5D%2C%0A%20%20%20%20%20%20%20%20%20%20%20%20%20%20%20%20%7B%7D%0A%20%20%20%20%20%20%20%20%20%20%20%20%29.addTo%28map_82dfc54417214e94a1bef2b8cef3065b%29%3B%0A%20%20%20%20%20%20%20%20%0A%20%20%20%20%0A%20%20%20%20%20%20%20%20%20%20%20%20var%20icon_989262de4f5442aa98046cba6636cd2e%20%3D%20L.AwesomeMarkers.icon%28%0A%20%20%20%20%20%20%20%20%20%20%20%20%20%20%20%20%7B%22extraClasses%22%3A%20%22fa-rotate-0%22%2C%20%22icon%22%3A%20%22info-sign%22%2C%20%22iconColor%22%3A%20%22white%22%2C%20%22markerColor%22%3A%20%22blue%22%2C%20%22prefix%22%3A%20%22glyphicon%22%7D%0A%20%20%20%20%20%20%20%20%20%20%20%20%29%3B%0A%20%20%20%20%20%20%20%20%20%20%20%20marker_40f2d5e73a524acaad15278abad3bd29.setIcon%28icon_989262de4f5442aa98046cba6636cd2e%29%3B%0A%20%20%20%20%20%20%20%20%0A%20%20%20%20%0A%20%20%20%20%20%20%20%20var%20popup_2cc5037a9aaa427b93c4bfd2aa8337cf%20%3D%20L.popup%28%7B%22maxWidth%22%3A%20%22100%25%22%7D%29%3B%0A%0A%20%20%20%20%20%20%20%20%0A%20%20%20%20%20%20%20%20%20%20%20%20var%20html_8d5ff0670b8a4d578d3f33daf29b3dd2%20%3D%20%24%28%60%3Cdiv%20id%3D%22html_8d5ff0670b8a4d578d3f33daf29b3dd2%22%20style%3D%22width%3A%20100.0%25%3B%20height%3A%20100.0%25%3B%22%3E6800%20FAIRLAWN%20AVE%2C%202017/12/3%3C/div%3E%60%29%5B0%5D%3B%0A%20%20%20%20%20%20%20%20%20%20%20%20popup_2cc5037a9aaa427b93c4bfd2aa8337cf.setContent%28html_8d5ff0670b8a4d578d3f33daf29b3dd2%29%3B%0A%20%20%20%20%20%20%20%20%0A%0A%20%20%20%20%20%20%20%20marker_40f2d5e73a524acaad15278abad3bd29.bindPopup%28popup_2cc5037a9aaa427b93c4bfd2aa8337cf%29%0A%20%20%20%20%20%20%20%20%3B%0A%0A%20%20%20%20%20%20%20%20%0A%20%20%20%20%0A%20%20%20%20%0A%20%20%20%20%20%20%20%20%20%20%20%20var%20marker_c34fb8a31c6b45658aeb79e16511b3f8%20%3D%20L.marker%28%0A%20%20%20%20%20%20%20%20%20%20%20%20%20%20%20%20%5B39.3519%2C%20-76.7083%5D%2C%0A%20%20%20%20%20%20%20%20%20%20%20%20%20%20%20%20%7B%7D%0A%20%20%20%20%20%20%20%20%20%20%20%20%29.addTo%28map_82dfc54417214e94a1bef2b8cef3065b%29%3B%0A%20%20%20%20%20%20%20%20%0A%20%20%20%20%0A%20%20%20%20%20%20%20%20%20%20%20%20var%20icon_9b0a4a34459a4f5f8e7fce66709848a9%20%3D%20L.AwesomeMarkers.icon%28%0A%20%20%20%20%20%20%20%20%20%20%20%20%20%20%20%20%7B%22extraClasses%22%3A%20%22fa-rotate-0%22%2C%20%22icon%22%3A%20%22info-sign%22%2C%20%22iconColor%22%3A%20%22white%22%2C%20%22markerColor%22%3A%20%22blue%22%2C%20%22prefix%22%3A%20%22glyphicon%22%7D%0A%20%20%20%20%20%20%20%20%20%20%20%20%29%3B%0A%20%20%20%20%20%20%20%20%20%20%20%20marker_c34fb8a31c6b45658aeb79e16511b3f8.setIcon%28icon_9b0a4a34459a4f5f8e7fce66709848a9%29%3B%0A%20%20%20%20%20%20%20%20%0A%20%20%20%20%0A%20%20%20%20%20%20%20%20var%20popup_b2b640d470aa45fd809f7153ed9b7d0d%20%3D%20L.popup%28%7B%22maxWidth%22%3A%20%22100%25%22%7D%29%3B%0A%0A%20%20%20%20%20%20%20%20%0A%20%20%20%20%20%20%20%20%20%20%20%20var%20html_ec472cab431b44f79ee43195bf241b7e%20%3D%20%24%28%60%3Cdiv%20id%3D%22html_ec472cab431b44f79ee43195bf241b7e%22%20style%3D%22width%3A%20100.0%25%3B%20height%3A%20100.0%25%3B%22%3E6500%20ARMSTRONG%20AVE%2C%202017/12/3%3C/div%3E%60%29%5B0%5D%3B%0A%20%20%20%20%20%20%20%20%20%20%20%20popup_b2b640d470aa45fd809f7153ed9b7d0d.setContent%28html_ec472cab431b44f79ee43195bf241b7e%29%3B%0A%20%20%20%20%20%20%20%20%0A%0A%20%20%20%20%20%20%20%20marker_c34fb8a31c6b45658aeb79e16511b3f8.bindPopup%28popup_b2b640d470aa45fd809f7153ed9b7d0d%29%0A%20%20%20%20%20%20%20%20%3B%0A%0A%20%20%20%20%20%20%20%20%0A%20%20%20%20%0A%20%20%20%20%0A%20%20%20%20%20%20%20%20%20%20%20%20var%20marker_aadab0f1e8584b7390b997618a89f3c2%20%3D%20L.marker%28%0A%20%20%20%20%20%20%20%20%20%20%20%20%20%20%20%20%5B39.2282%2C%20-76.59899999999999%5D%2C%0A%20%20%20%20%20%20%20%20%20%20%20%20%20%20%20%20%7B%7D%0A%20%20%20%20%20%20%20%20%20%20%20%20%29.addTo%28map_82dfc54417214e94a1bef2b8cef3065b%29%3B%0A%20%20%20%20%20%20%20%20%0A%20%20%20%20%0A%20%20%20%20%20%20%20%20%20%20%20%20var%20icon_986ed9ea84134456a250cf7434077011%20%3D%20L.AwesomeMarkers.icon%28%0A%20%20%20%20%20%20%20%20%20%20%20%20%20%20%20%20%7B%22extraClasses%22%3A%20%22fa-rotate-0%22%2C%20%22icon%22%3A%20%22info-sign%22%2C%20%22iconColor%22%3A%20%22white%22%2C%20%22markerColor%22%3A%20%22blue%22%2C%20%22prefix%22%3A%20%22glyphicon%22%7D%0A%20%20%20%20%20%20%20%20%20%20%20%20%29%3B%0A%20%20%20%20%20%20%20%20%20%20%20%20marker_aadab0f1e8584b7390b997618a89f3c2.setIcon%28icon_986ed9ea84134456a250cf7434077011%29%3B%0A%20%20%20%20%20%20%20%20%0A%20%20%20%20%0A%20%20%20%20%20%20%20%20var%20popup_e43a12cde89f48feadd800ea2e4b0863%20%3D%20L.popup%28%7B%22maxWidth%22%3A%20%22100%25%22%7D%29%3B%0A%0A%20%20%20%20%20%20%20%20%0A%20%20%20%20%20%20%20%20%20%20%20%20var%20html_84dfd2d5ab0e44a7b5b1298b77a293ec%20%3D%20%24%28%60%3Cdiv%20id%3D%22html_84dfd2d5ab0e44a7b5b1298b77a293ec%22%20style%3D%22width%3A%20100.0%25%3B%20height%3A%20100.0%25%3B%22%3E4200%2010TH%20ST%2C%202017/12/3%3C/div%3E%60%29%5B0%5D%3B%0A%20%20%20%20%20%20%20%20%20%20%20%20popup_e43a12cde89f48feadd800ea2e4b0863.setContent%28html_84dfd2d5ab0e44a7b5b1298b77a293ec%29%3B%0A%20%20%20%20%20%20%20%20%0A%0A%20%20%20%20%20%20%20%20marker_aadab0f1e8584b7390b997618a89f3c2.bindPopup%28popup_e43a12cde89f48feadd800ea2e4b0863%29%0A%20%20%20%20%20%20%20%20%3B%0A%0A%20%20%20%20%20%20%20%20%0A%20%20%20%20%0A%20%20%20%20%0A%20%20%20%20%20%20%20%20%20%20%20%20var%20marker_e13b5b25d3864e4db3a7060c462bbac5%20%3D%20L.marker%28%0A%20%20%20%20%20%20%20%20%20%20%20%20%20%20%20%20%5B39.2369%2C%20-76.6103%5D%2C%0A%20%20%20%20%20%20%20%20%20%20%20%20%20%20%20%20%7B%7D%0A%20%20%20%20%20%20%20%20%20%20%20%20%29.addTo%28map_82dfc54417214e94a1bef2b8cef3065b%29%3B%0A%20%20%20%20%20%20%20%20%0A%20%20%20%20%0A%20%20%20%20%20%20%20%20%20%20%20%20var%20icon_bb5fd12e22a34f03aad4c99f24973f6b%20%3D%20L.AwesomeMarkers.icon%28%0A%20%20%20%20%20%20%20%20%20%20%20%20%20%20%20%20%7B%22extraClasses%22%3A%20%22fa-rotate-0%22%2C%20%22icon%22%3A%20%22info-sign%22%2C%20%22iconColor%22%3A%20%22white%22%2C%20%22markerColor%22%3A%20%22blue%22%2C%20%22prefix%22%3A%20%22glyphicon%22%7D%0A%20%20%20%20%20%20%20%20%20%20%20%20%29%3B%0A%20%20%20%20%20%20%20%20%20%20%20%20marker_e13b5b25d3864e4db3a7060c462bbac5.setIcon%28icon_bb5fd12e22a34f03aad4c99f24973f6b%29%3B%0A%20%20%20%20%20%20%20%20%0A%20%20%20%20%0A%20%20%20%20%20%20%20%20var%20popup_624bc4d077ca4b06aa2a684418fb3a70%20%3D%20L.popup%28%7B%22maxWidth%22%3A%20%22100%25%22%7D%29%3B%0A%0A%20%20%20%20%20%20%20%20%0A%20%20%20%20%20%20%20%20%20%20%20%20var%20html_d33df397b9be4d2ba660175edad7b077%20%3D%20%24%28%60%3Cdiv%20id%3D%22html_d33df397b9be4d2ba660175edad7b077%22%20style%3D%22width%3A%20100.0%25%3B%20height%3A%20100.0%25%3B%22%3E3700%20S%20HANOVER%20ST%2C%202017/12/3%3C/div%3E%60%29%5B0%5D%3B%0A%20%20%20%20%20%20%20%20%20%20%20%20popup_624bc4d077ca4b06aa2a684418fb3a70.setContent%28html_d33df397b9be4d2ba660175edad7b077%29%3B%0A%20%20%20%20%20%20%20%20%0A%0A%20%20%20%20%20%20%20%20marker_e13b5b25d3864e4db3a7060c462bbac5.bindPopup%28popup_624bc4d077ca4b06aa2a684418fb3a70%29%0A%20%20%20%20%20%20%20%20%3B%0A%0A%20%20%20%20%20%20%20%20%0A%20%20%20%20%0A%20%20%20%20%0A%20%20%20%20%20%20%20%20%20%20%20%20var%20marker_ef8613fc455d4423b2f1a1a0a778ee16%20%3D%20L.marker%28%0A%20%20%20%20%20%20%20%20%20%20%20%20%20%20%20%20%5B39.3047%2C%20-76.6092%5D%2C%0A%20%20%20%20%20%20%20%20%20%20%20%20%20%20%20%20%7B%7D%0A%20%20%20%20%20%20%20%20%20%20%20%20%29.addTo%28map_82dfc54417214e94a1bef2b8cef3065b%29%3B%0A%20%20%20%20%20%20%20%20%0A%20%20%20%20%0A%20%20%20%20%20%20%20%20%20%20%20%20var%20icon_8a8605d977ad43258f3403c047842eb3%20%3D%20L.AwesomeMarkers.icon%28%0A%20%20%20%20%20%20%20%20%20%20%20%20%20%20%20%20%7B%22extraClasses%22%3A%20%22fa-rotate-0%22%2C%20%22icon%22%3A%20%22info-sign%22%2C%20%22iconColor%22%3A%20%22white%22%2C%20%22markerColor%22%3A%20%22blue%22%2C%20%22prefix%22%3A%20%22glyphicon%22%7D%0A%20%20%20%20%20%20%20%20%20%20%20%20%29%3B%0A%20%20%20%20%20%20%20%20%20%20%20%20marker_ef8613fc455d4423b2f1a1a0a778ee16.setIcon%28icon_8a8605d977ad43258f3403c047842eb3%29%3B%0A%20%20%20%20%20%20%20%20%0A%20%20%20%20%0A%20%20%20%20%20%20%20%20var%20popup_6ac9bbd114a14ee187e672a4ff7fd76e%20%3D%20L.popup%28%7B%22maxWidth%22%3A%20%22100%25%22%7D%29%3B%0A%0A%20%20%20%20%20%20%20%20%0A%20%20%20%20%20%20%20%20%20%20%20%20var%20html_b9ffafec9dd74f739c125ae4ae953ecf%20%3D%20%24%28%60%3Cdiv%20id%3D%22html_b9ffafec9dd74f739c125ae4ae953ecf%22%20style%3D%22width%3A%20100.0%25%3B%20height%3A%20100.0%25%3B%22%3E500%20E%20PRESTON%20ST%2C%202017/12/3%3C/div%3E%60%29%5B0%5D%3B%0A%20%20%20%20%20%20%20%20%20%20%20%20popup_6ac9bbd114a14ee187e672a4ff7fd76e.setContent%28html_b9ffafec9dd74f739c125ae4ae953ecf%29%3B%0A%20%20%20%20%20%20%20%20%0A%0A%20%20%20%20%20%20%20%20marker_ef8613fc455d4423b2f1a1a0a778ee16.bindPopup%28popup_6ac9bbd114a14ee187e672a4ff7fd76e%29%0A%20%20%20%20%20%20%20%20%3B%0A%0A%20%20%20%20%20%20%20%20%0A%20%20%20%20%0A%20%20%20%20%0A%20%20%20%20%20%20%20%20%20%20%20%20var%20marker_37e93566efe54d89aa8c8bd4dfbf4fea%20%3D%20L.marker%28%0A%20%20%20%20%20%20%20%20%20%20%20%20%20%20%20%20%5B39.3147%2C%20-76.6726%5D%2C%0A%20%20%20%20%20%20%20%20%20%20%20%20%20%20%20%20%7B%7D%0A%20%20%20%20%20%20%20%20%20%20%20%20%29.addTo%28map_82dfc54417214e94a1bef2b8cef3065b%29%3B%0A%20%20%20%20%20%20%20%20%0A%20%20%20%20%0A%20%20%20%20%20%20%20%20%20%20%20%20var%20icon_f507ac96db134061b206fa3dc2dffd11%20%3D%20L.AwesomeMarkers.icon%28%0A%20%20%20%20%20%20%20%20%20%20%20%20%20%20%20%20%7B%22extraClasses%22%3A%20%22fa-rotate-0%22%2C%20%22icon%22%3A%20%22info-sign%22%2C%20%22iconColor%22%3A%20%22white%22%2C%20%22markerColor%22%3A%20%22blue%22%2C%20%22prefix%22%3A%20%22glyphicon%22%7D%0A%20%20%20%20%20%20%20%20%20%20%20%20%29%3B%0A%20%20%20%20%20%20%20%20%20%20%20%20marker_37e93566efe54d89aa8c8bd4dfbf4fea.setIcon%28icon_f507ac96db134061b206fa3dc2dffd11%29%3B%0A%20%20%20%20%20%20%20%20%0A%20%20%20%20%0A%20%20%20%20%20%20%20%20var%20popup_2a2bceb411a84e9cac0a0a8bb8728e6f%20%3D%20L.popup%28%7B%22maxWidth%22%3A%20%22100%25%22%7D%29%3B%0A%0A%20%20%20%20%20%20%20%20%0A%20%20%20%20%20%20%20%20%20%20%20%20var%20html_f0db04b92b494e1187b4df91952e4c43%20%3D%20%24%28%60%3Cdiv%20id%3D%22html_f0db04b92b494e1187b4df91952e4c43%22%20style%3D%22width%3A%20100.0%25%3B%20height%3A%20100.0%25%3B%22%3E2400%20N%20HILTON%20ST%2C%202017/12/3%3C/div%3E%60%29%5B0%5D%3B%0A%20%20%20%20%20%20%20%20%20%20%20%20popup_2a2bceb411a84e9cac0a0a8bb8728e6f.setContent%28html_f0db04b92b494e1187b4df91952e4c43%29%3B%0A%20%20%20%20%20%20%20%20%0A%0A%20%20%20%20%20%20%20%20marker_37e93566efe54d89aa8c8bd4dfbf4fea.bindPopup%28popup_2a2bceb411a84e9cac0a0a8bb8728e6f%29%0A%20%20%20%20%20%20%20%20%3B%0A%0A%20%20%20%20%20%20%20%20%0A%20%20%20%20%0A%20%20%20%20%0A%20%20%20%20%20%20%20%20%20%20%20%20var%20marker_7baebbb2d9764760b9199daea02bbaed%20%3D%20L.marker%28%0A%20%20%20%20%20%20%20%20%20%20%20%20%20%20%20%20%5B39.2776%2C%20-76.6247%5D%2C%0A%20%20%20%20%20%20%20%20%20%20%20%20%20%20%20%20%7B%7D%0A%20%20%20%20%20%20%20%20%20%20%20%20%29.addTo%28map_82dfc54417214e94a1bef2b8cef3065b%29%3B%0A%20%20%20%20%20%20%20%20%0A%20%20%20%20%0A%20%20%20%20%20%20%20%20%20%20%20%20var%20icon_e8fecf45a87849dca16c0163d7a7d884%20%3D%20L.AwesomeMarkers.icon%28%0A%20%20%20%20%20%20%20%20%20%20%20%20%20%20%20%20%7B%22extraClasses%22%3A%20%22fa-rotate-0%22%2C%20%22icon%22%3A%20%22info-sign%22%2C%20%22iconColor%22%3A%20%22white%22%2C%20%22markerColor%22%3A%20%22blue%22%2C%20%22prefix%22%3A%20%22glyphicon%22%7D%0A%20%20%20%20%20%20%20%20%20%20%20%20%29%3B%0A%20%20%20%20%20%20%20%20%20%20%20%20marker_7baebbb2d9764760b9199daea02bbaed.setIcon%28icon_e8fecf45a87849dca16c0163d7a7d884%29%3B%0A%20%20%20%20%20%20%20%20%0A%20%20%20%20%0A%20%20%20%20%20%20%20%20var%20popup_3c6e7c453a234c1dabca03cafb5f2c01%20%3D%20L.popup%28%7B%22maxWidth%22%3A%20%22100%25%22%7D%29%3B%0A%0A%20%20%20%20%20%20%20%20%0A%20%20%20%20%20%20%20%20%20%20%20%20var%20html_c31341929c044efabc057b6873610d17%20%3D%20%24%28%60%3Cdiv%20id%3D%22html_c31341929c044efabc057b6873610d17%22%20style%3D%22width%3A%20100.0%25%3B%20height%3A%20100.0%25%3B%22%3E1200%20RUSSELL%20ST%2C%202017/12/3%3C/div%3E%60%29%5B0%5D%3B%0A%20%20%20%20%20%20%20%20%20%20%20%20popup_3c6e7c453a234c1dabca03cafb5f2c01.setContent%28html_c31341929c044efabc057b6873610d17%29%3B%0A%20%20%20%20%20%20%20%20%0A%0A%20%20%20%20%20%20%20%20marker_7baebbb2d9764760b9199daea02bbaed.bindPopup%28popup_3c6e7c453a234c1dabca03cafb5f2c01%29%0A%20%20%20%20%20%20%20%20%3B%0A%0A%20%20%20%20%20%20%20%20%0A%20%20%20%20%0A%20%20%20%20%0A%20%20%20%20%20%20%20%20%20%20%20%20var%20marker_3f7c3a18ac5b4badae14f404f3b17086%20%3D%20L.marker%28%0A%20%20%20%20%20%20%20%20%20%20%20%20%20%20%20%20%5B39.2852%2C%20-76.6438%5D%2C%0A%20%20%20%20%20%20%20%20%20%20%20%20%20%20%20%20%7B%7D%0A%20%20%20%20%20%20%20%20%20%20%20%20%29.addTo%28map_82dfc54417214e94a1bef2b8cef3065b%29%3B%0A%20%20%20%20%20%20%20%20%0A%20%20%20%20%0A%20%20%20%20%20%20%20%20%20%20%20%20var%20icon_a412e9c3ef744d509c768bfeb6297017%20%3D%20L.AwesomeMarkers.icon%28%0A%20%20%20%20%20%20%20%20%20%20%20%20%20%20%20%20%7B%22extraClasses%22%3A%20%22fa-rotate-0%22%2C%20%22icon%22%3A%20%22info-sign%22%2C%20%22iconColor%22%3A%20%22white%22%2C%20%22markerColor%22%3A%20%22blue%22%2C%20%22prefix%22%3A%20%22glyphicon%22%7D%0A%20%20%20%20%20%20%20%20%20%20%20%20%29%3B%0A%20%20%20%20%20%20%20%20%20%20%20%20marker_3f7c3a18ac5b4badae14f404f3b17086.setIcon%28icon_a412e9c3ef744d509c768bfeb6297017%29%3B%0A%20%20%20%20%20%20%20%20%0A%20%20%20%20%0A%20%20%20%20%20%20%20%20var%20popup_29519e26741844bcb68e9da970c52c30%20%3D%20L.popup%28%7B%22maxWidth%22%3A%20%22100%25%22%7D%29%3B%0A%0A%20%20%20%20%20%20%20%20%0A%20%20%20%20%20%20%20%20%20%20%20%20var%20html_f3fc90eb052747c5ac69315fe6a58dd9%20%3D%20%24%28%60%3Cdiv%20id%3D%22html_f3fc90eb052747c5ac69315fe6a58dd9%22%20style%3D%22width%3A%20100.0%25%3B%20height%3A%20100.0%25%3B%22%3E1700%20W%20PRATT%20ST%2C%202017/12/3%3C/div%3E%60%29%5B0%5D%3B%0A%20%20%20%20%20%20%20%20%20%20%20%20popup_29519e26741844bcb68e9da970c52c30.setContent%28html_f3fc90eb052747c5ac69315fe6a58dd9%29%3B%0A%20%20%20%20%20%20%20%20%0A%0A%20%20%20%20%20%20%20%20marker_3f7c3a18ac5b4badae14f404f3b17086.bindPopup%28popup_29519e26741844bcb68e9da970c52c30%29%0A%20%20%20%20%20%20%20%20%3B%0A%0A%20%20%20%20%20%20%20%20%0A%20%20%20%20%0A%20%20%20%20%0A%20%20%20%20%20%20%20%20%20%20%20%20var%20marker_7085cd5bce984ddcbb7db3ba499c27be%20%3D%20L.marker%28%0A%20%20%20%20%20%20%20%20%20%20%20%20%20%20%20%20%5B39.3276%2C%20-76.6315%5D%2C%0A%20%20%20%20%20%20%20%20%20%20%20%20%20%20%20%20%7B%7D%0A%20%20%20%20%20%20%20%20%20%20%20%20%29.addTo%28map_82dfc54417214e94a1bef2b8cef3065b%29%3B%0A%20%20%20%20%20%20%20%20%0A%20%20%20%20%0A%20%20%20%20%20%20%20%20%20%20%20%20var%20icon_4fe5a61bd93c4572b61dc1171032b5b3%20%3D%20L.AwesomeMarkers.icon%28%0A%20%20%20%20%20%20%20%20%20%20%20%20%20%20%20%20%7B%22extraClasses%22%3A%20%22fa-rotate-0%22%2C%20%22icon%22%3A%20%22info-sign%22%2C%20%22iconColor%22%3A%20%22white%22%2C%20%22markerColor%22%3A%20%22blue%22%2C%20%22prefix%22%3A%20%22glyphicon%22%7D%0A%20%20%20%20%20%20%20%20%20%20%20%20%29%3B%0A%20%20%20%20%20%20%20%20%20%20%20%20marker_7085cd5bce984ddcbb7db3ba499c27be.setIcon%28icon_4fe5a61bd93c4572b61dc1171032b5b3%29%3B%0A%20%20%20%20%20%20%20%20%0A%20%20%20%20%0A%20%20%20%20%20%20%20%20var%20popup_bfd9ea4ab0944a3a864ec50d0f751d56%20%3D%20L.popup%28%7B%22maxWidth%22%3A%20%22100%25%22%7D%29%3B%0A%0A%20%20%20%20%20%20%20%20%0A%20%20%20%20%20%20%20%20%20%20%20%20var%20html_5b61a97c655e4e93a285dab1d905199a%20%3D%20%24%28%60%3Cdiv%20id%3D%22html_5b61a97c655e4e93a285dab1d905199a%22%20style%3D%22width%3A%20100.0%25%3B%20height%3A%20100.0%25%3B%22%3E3300%20ELM%20AVE%2C%202017/12/3%3C/div%3E%60%29%5B0%5D%3B%0A%20%20%20%20%20%20%20%20%20%20%20%20popup_bfd9ea4ab0944a3a864ec50d0f751d56.setContent%28html_5b61a97c655e4e93a285dab1d905199a%29%3B%0A%20%20%20%20%20%20%20%20%0A%0A%20%20%20%20%20%20%20%20marker_7085cd5bce984ddcbb7db3ba499c27be.bindPopup%28popup_bfd9ea4ab0944a3a864ec50d0f751d56%29%0A%20%20%20%20%20%20%20%20%3B%0A%0A%20%20%20%20%20%20%20%20%0A%20%20%20%20%0A%20%20%20%20%0A%20%20%20%20%20%20%20%20%20%20%20%20var%20marker_acbad8f1de864adc92a52d4e11033e27%20%3D%20L.marker%28%0A%20%20%20%20%20%20%20%20%20%20%20%20%20%20%20%20%5B39.3366%2C%20-76.6677%5D%2C%0A%20%20%20%20%20%20%20%20%20%20%20%20%20%20%20%20%7B%7D%0A%20%20%20%20%20%20%20%20%20%20%20%20%29.addTo%28map_82dfc54417214e94a1bef2b8cef3065b%29%3B%0A%20%20%20%20%20%20%20%20%0A%20%20%20%20%0A%20%20%20%20%20%20%20%20%20%20%20%20var%20icon_287b33d9ed6748baacf8f3d047a6d063%20%3D%20L.AwesomeMarkers.icon%28%0A%20%20%20%20%20%20%20%20%20%20%20%20%20%20%20%20%7B%22extraClasses%22%3A%20%22fa-rotate-0%22%2C%20%22icon%22%3A%20%22info-sign%22%2C%20%22iconColor%22%3A%20%22white%22%2C%20%22markerColor%22%3A%20%22blue%22%2C%20%22prefix%22%3A%20%22glyphicon%22%7D%0A%20%20%20%20%20%20%20%20%20%20%20%20%29%3B%0A%20%20%20%20%20%20%20%20%20%20%20%20marker_acbad8f1de864adc92a52d4e11033e27.setIcon%28icon_287b33d9ed6748baacf8f3d047a6d063%29%3B%0A%20%20%20%20%20%20%20%20%0A%20%20%20%20%0A%20%20%20%20%20%20%20%20var%20popup_7100b9f8baab4de08df01a44ee7aa3a1%20%3D%20L.popup%28%7B%22maxWidth%22%3A%20%22100%25%22%7D%29%3B%0A%0A%20%20%20%20%20%20%20%20%0A%20%20%20%20%20%20%20%20%20%20%20%20var%20html_3fd0d31f0e5e4b66bd4b8425208f7110%20%3D%20%24%28%60%3Cdiv%20id%3D%22html_3fd0d31f0e5e4b66bd4b8425208f7110%22%20style%3D%22width%3A%20100.0%25%3B%20height%3A%20100.0%25%3B%22%3E4200%20TOWANDA%20AVE%2C%202017/12/3%3C/div%3E%60%29%5B0%5D%3B%0A%20%20%20%20%20%20%20%20%20%20%20%20popup_7100b9f8baab4de08df01a44ee7aa3a1.setContent%28html_3fd0d31f0e5e4b66bd4b8425208f7110%29%3B%0A%20%20%20%20%20%20%20%20%0A%0A%20%20%20%20%20%20%20%20marker_acbad8f1de864adc92a52d4e11033e27.bindPopup%28popup_7100b9f8baab4de08df01a44ee7aa3a1%29%0A%20%20%20%20%20%20%20%20%3B%0A%0A%20%20%20%20%20%20%20%20%0A%20%20%20%20%0A%20%20%20%20%0A%20%20%20%20%20%20%20%20%20%20%20%20var%20marker_76a2c318ef7a4fdf8a377ccd0b43750c%20%3D%20L.marker%28%0A%20%20%20%20%20%20%20%20%20%20%20%20%20%20%20%20%5B39.2894%2C%20-76.6195%5D%2C%0A%20%20%20%20%20%20%20%20%20%20%20%20%20%20%20%20%7B%7D%0A%20%20%20%20%20%20%20%20%20%20%20%20%29.addTo%28map_82dfc54417214e94a1bef2b8cef3065b%29%3B%0A%20%20%20%20%20%20%20%20%0A%20%20%20%20%0A%20%20%20%20%20%20%20%20%20%20%20%20var%20icon_25646d0c34954a4999bfe616abdcdd19%20%3D%20L.AwesomeMarkers.icon%28%0A%20%20%20%20%20%20%20%20%20%20%20%20%20%20%20%20%7B%22extraClasses%22%3A%20%22fa-rotate-0%22%2C%20%22icon%22%3A%20%22info-sign%22%2C%20%22iconColor%22%3A%20%22white%22%2C%20%22markerColor%22%3A%20%22blue%22%2C%20%22prefix%22%3A%20%22glyphicon%22%7D%0A%20%20%20%20%20%20%20%20%20%20%20%20%29%3B%0A%20%20%20%20%20%20%20%20%20%20%20%20marker_76a2c318ef7a4fdf8a377ccd0b43750c.setIcon%28icon_25646d0c34954a4999bfe616abdcdd19%29%3B%0A%20%20%20%20%20%20%20%20%0A%20%20%20%20%0A%20%20%20%20%20%20%20%20var%20popup_a29419aa762e4fb683b7043e47c26604%20%3D%20L.popup%28%7B%22maxWidth%22%3A%20%22100%25%22%7D%29%3B%0A%0A%20%20%20%20%20%20%20%20%0A%20%20%20%20%20%20%20%20%20%20%20%20var%20html_8265dc62bc8444bfbd37912f7eee9632%20%3D%20%24%28%60%3Cdiv%20id%3D%22html_8265dc62bc8444bfbd37912f7eee9632%22%20style%3D%22width%3A%20100.0%25%3B%20height%3A%20100.0%25%3B%22%3E300%20W%20BALTIMORE%20ST%2C%202017/12/3%3C/div%3E%60%29%5B0%5D%3B%0A%20%20%20%20%20%20%20%20%20%20%20%20popup_a29419aa762e4fb683b7043e47c26604.setContent%28html_8265dc62bc8444bfbd37912f7eee9632%29%3B%0A%20%20%20%20%20%20%20%20%0A%0A%20%20%20%20%20%20%20%20marker_76a2c318ef7a4fdf8a377ccd0b43750c.bindPopup%28popup_a29419aa762e4fb683b7043e47c26604%29%0A%20%20%20%20%20%20%20%20%3B%0A%0A%20%20%20%20%20%20%20%20%0A%20%20%20%20%0A%20%20%20%20%0A%20%20%20%20%20%20%20%20%20%20%20%20var%20marker_7f1614a8c315431e80faf01559179cc7%20%3D%20L.marker%28%0A%20%20%20%20%20%20%20%20%20%20%20%20%20%20%20%20%5B39.3472%2C%20-76.566%5D%2C%0A%20%20%20%20%20%20%20%20%20%20%20%20%20%20%20%20%7B%7D%0A%20%20%20%20%20%20%20%20%20%20%20%20%29.addTo%28map_82dfc54417214e94a1bef2b8cef3065b%29%3B%0A%20%20%20%20%20%20%20%20%0A%20%20%20%20%0A%20%20%20%20%20%20%20%20%20%20%20%20var%20icon_06a070e4ff5b43148f81535427cba8b3%20%3D%20L.AwesomeMarkers.icon%28%0A%20%20%20%20%20%20%20%20%20%20%20%20%20%20%20%20%7B%22extraClasses%22%3A%20%22fa-rotate-0%22%2C%20%22icon%22%3A%20%22info-sign%22%2C%20%22iconColor%22%3A%20%22white%22%2C%20%22markerColor%22%3A%20%22blue%22%2C%20%22prefix%22%3A%20%22glyphicon%22%7D%0A%20%20%20%20%20%20%20%20%20%20%20%20%29%3B%0A%20%20%20%20%20%20%20%20%20%20%20%20marker_7f1614a8c315431e80faf01559179cc7.setIcon%28icon_06a070e4ff5b43148f81535427cba8b3%29%3B%0A%20%20%20%20%20%20%20%20%0A%20%20%20%20%0A%20%20%20%20%20%20%20%20var%20popup_870891e284434764803d57048475a573%20%3D%20L.popup%28%7B%22maxWidth%22%3A%20%22100%25%22%7D%29%3B%0A%0A%20%20%20%20%20%20%20%20%0A%20%20%20%20%20%20%20%20%20%20%20%20var%20html_73b68164212340d1946b7814b96b0313%20%3D%20%24%28%60%3Cdiv%20id%3D%22html_73b68164212340d1946b7814b96b0313%22%20style%3D%22width%3A%20100.0%25%3B%20height%3A%20100.0%25%3B%22%3E5000%20HARFORD%20RD%2C%202017/12/3%3C/div%3E%60%29%5B0%5D%3B%0A%20%20%20%20%20%20%20%20%20%20%20%20popup_870891e284434764803d57048475a573.setContent%28html_73b68164212340d1946b7814b96b0313%29%3B%0A%20%20%20%20%20%20%20%20%0A%0A%20%20%20%20%20%20%20%20marker_7f1614a8c315431e80faf01559179cc7.bindPopup%28popup_870891e284434764803d57048475a573%29%0A%20%20%20%20%20%20%20%20%3B%0A%0A%20%20%20%20%20%20%20%20%0A%20%20%20%20%0A%20%20%20%20%0A%20%20%20%20%20%20%20%20%20%20%20%20var%20marker_5a26886fd3b6413cb4f50388ebc7b7d5%20%3D%20L.marker%28%0A%20%20%20%20%20%20%20%20%20%20%20%20%20%20%20%20%5B39.2835%2C%20-76.6288%5D%2C%0A%20%20%20%20%20%20%20%20%20%20%20%20%20%20%20%20%7B%7D%0A%20%20%20%20%20%20%20%20%20%20%20%20%29.addTo%28map_82dfc54417214e94a1bef2b8cef3065b%29%3B%0A%20%20%20%20%20%20%20%20%0A%20%20%20%20%0A%20%20%20%20%20%20%20%20%20%20%20%20var%20icon_4412e54173da40eb81bc1a5d67e8170f%20%3D%20L.AwesomeMarkers.icon%28%0A%20%20%20%20%20%20%20%20%20%20%20%20%20%20%20%20%7B%22extraClasses%22%3A%20%22fa-rotate-0%22%2C%20%22icon%22%3A%20%22info-sign%22%2C%20%22iconColor%22%3A%20%22white%22%2C%20%22markerColor%22%3A%20%22cadetblue%22%2C%20%22prefix%22%3A%20%22glyphicon%22%7D%0A%20%20%20%20%20%20%20%20%20%20%20%20%29%3B%0A%20%20%20%20%20%20%20%20%20%20%20%20marker_5a26886fd3b6413cb4f50388ebc7b7d5.setIcon%28icon_4412e54173da40eb81bc1a5d67e8170f%29%3B%0A%20%20%20%20%20%20%20%20%0A%20%20%20%20%0A%20%20%20%20%20%20%20%20var%20popup_163c02d45646454f91cc1a9a8b2f79a1%20%3D%20L.popup%28%7B%22maxWidth%22%3A%20%22100%25%22%7D%29%3B%0A%0A%20%20%20%20%20%20%20%20%0A%20%20%20%20%20%20%20%20%20%20%20%20var%20html_46f316b3709447d8a0d21a013f1d762a%20%3D%20%24%28%60%3Cdiv%20id%3D%22html_46f316b3709447d8a0d21a013f1d762a%22%20style%3D%22width%3A%20100.0%25%3B%20height%3A%20100.0%25%3B%22%3E400%20SCOTT%20ST%2C%202016/12/3%3C/div%3E%60%29%5B0%5D%3B%0A%20%20%20%20%20%20%20%20%20%20%20%20popup_163c02d45646454f91cc1a9a8b2f79a1.setContent%28html_46f316b3709447d8a0d21a013f1d762a%29%3B%0A%20%20%20%20%20%20%20%20%0A%0A%20%20%20%20%20%20%20%20marker_5a26886fd3b6413cb4f50388ebc7b7d5.bindPopup%28popup_163c02d45646454f91cc1a9a8b2f79a1%29%0A%20%20%20%20%20%20%20%20%3B%0A%0A%20%20%20%20%20%20%20%20%0A%20%20%20%20%0A%20%20%20%20%0A%20%20%20%20%20%20%20%20%20%20%20%20var%20marker_4fa4e5b443ea4c4eb5829d8fc068ee9c%20%3D%20L.marker%28%0A%20%20%20%20%20%20%20%20%20%20%20%20%20%20%20%20%5B39.3123%2C%20-76.6167%5D%2C%0A%20%20%20%20%20%20%20%20%20%20%20%20%20%20%20%20%7B%7D%0A%20%20%20%20%20%20%20%20%20%20%20%20%29.addTo%28map_82dfc54417214e94a1bef2b8cef3065b%29%3B%0A%20%20%20%20%20%20%20%20%0A%20%20%20%20%0A%20%20%20%20%20%20%20%20%20%20%20%20var%20icon_17da42a5613346fd8c025cd1b31fc538%20%3D%20L.AwesomeMarkers.icon%28%0A%20%20%20%20%20%20%20%20%20%20%20%20%20%20%20%20%7B%22extraClasses%22%3A%20%22fa-rotate-0%22%2C%20%22icon%22%3A%20%22info-sign%22%2C%20%22iconColor%22%3A%20%22white%22%2C%20%22markerColor%22%3A%20%22cadetblue%22%2C%20%22prefix%22%3A%20%22glyphicon%22%7D%0A%20%20%20%20%20%20%20%20%20%20%20%20%29%3B%0A%20%20%20%20%20%20%20%20%20%20%20%20marker_4fa4e5b443ea4c4eb5829d8fc068ee9c.setIcon%28icon_17da42a5613346fd8c025cd1b31fc538%29%3B%0A%20%20%20%20%20%20%20%20%0A%20%20%20%20%0A%20%20%20%20%20%20%20%20var%20popup_7c7002b7897a41a7893e570d8091fb1a%20%3D%20L.popup%28%7B%22maxWidth%22%3A%20%22100%25%22%7D%29%3B%0A%0A%20%20%20%20%20%20%20%20%0A%20%20%20%20%20%20%20%20%20%20%20%20var%20html_2666203199f1419799ba44d7a3ada171%20%3D%20%24%28%60%3Cdiv%20id%3D%22html_2666203199f1419799ba44d7a3ada171%22%20style%3D%22width%3A%20100.0%25%3B%20height%3A%20100.0%25%3B%22%3E2000%20N%20CHARLES%20ST%2C%202016/12/3%3C/div%3E%60%29%5B0%5D%3B%0A%20%20%20%20%20%20%20%20%20%20%20%20popup_7c7002b7897a41a7893e570d8091fb1a.setContent%28html_2666203199f1419799ba44d7a3ada171%29%3B%0A%20%20%20%20%20%20%20%20%0A%0A%20%20%20%20%20%20%20%20marker_4fa4e5b443ea4c4eb5829d8fc068ee9c.bindPopup%28popup_7c7002b7897a41a7893e570d8091fb1a%29%0A%20%20%20%20%20%20%20%20%3B%0A%0A%20%20%20%20%20%20%20%20%0A%20%20%20%20%0A%20%20%20%20%0A%20%20%20%20%20%20%20%20%20%20%20%20var%20marker_762990dcd80242a6bfa72d3159b75ea9%20%3D%20L.marker%28%0A%20%20%20%20%20%20%20%20%20%20%20%20%20%20%20%20%5B39.2829%2C%20-76.6436%5D%2C%0A%20%20%20%20%20%20%20%20%20%20%20%20%20%20%20%20%7B%7D%0A%20%20%20%20%20%20%20%20%20%20%20%20%29.addTo%28map_82dfc54417214e94a1bef2b8cef3065b%29%3B%0A%20%20%20%20%20%20%20%20%0A%20%20%20%20%0A%20%20%20%20%20%20%20%20%20%20%20%20var%20icon_658f09db2d3f4cc28e01d97ecb89b3dd%20%3D%20L.AwesomeMarkers.icon%28%0A%20%20%20%20%20%20%20%20%20%20%20%20%20%20%20%20%7B%22extraClasses%22%3A%20%22fa-rotate-0%22%2C%20%22icon%22%3A%20%22info-sign%22%2C%20%22iconColor%22%3A%20%22white%22%2C%20%22markerColor%22%3A%20%22cadetblue%22%2C%20%22prefix%22%3A%20%22glyphicon%22%7D%0A%20%20%20%20%20%20%20%20%20%20%20%20%29%3B%0A%20%20%20%20%20%20%20%20%20%20%20%20marker_762990dcd80242a6bfa72d3159b75ea9.setIcon%28icon_658f09db2d3f4cc28e01d97ecb89b3dd%29%3B%0A%20%20%20%20%20%20%20%20%0A%20%20%20%20%0A%20%20%20%20%20%20%20%20var%20popup_5f5b270f12844c3596a491f4b4009af3%20%3D%20L.popup%28%7B%22maxWidth%22%3A%20%22100%25%22%7D%29%3B%0A%0A%20%20%20%20%20%20%20%20%0A%20%20%20%20%20%20%20%20%20%20%20%20var%20html_6393fc58aa9b4026b2d0ae31e86e7efa%20%3D%20%24%28%60%3Cdiv%20id%3D%22html_6393fc58aa9b4026b2d0ae31e86e7efa%22%20style%3D%22width%3A%20100.0%25%3B%20height%3A%20100.0%25%3B%22%3E400%20S%20MOUNT%20ST%2C%202016/12/3%3C/div%3E%60%29%5B0%5D%3B%0A%20%20%20%20%20%20%20%20%20%20%20%20popup_5f5b270f12844c3596a491f4b4009af3.setContent%28html_6393fc58aa9b4026b2d0ae31e86e7efa%29%3B%0A%20%20%20%20%20%20%20%20%0A%0A%20%20%20%20%20%20%20%20marker_762990dcd80242a6bfa72d3159b75ea9.bindPopup%28popup_5f5b270f12844c3596a491f4b4009af3%29%0A%20%20%20%20%20%20%20%20%3B%0A%0A%20%20%20%20%20%20%20%20%0A%20%20%20%20%0A%20%20%20%20%0A%20%20%20%20%20%20%20%20%20%20%20%20var%20marker_2c139abcc2434258b43615a317ee35ce%20%3D%20L.marker%28%0A%20%20%20%20%20%20%20%20%20%20%20%20%20%20%20%20%5B39.3376%2C%20-76.6873%5D%2C%0A%20%20%20%20%20%20%20%20%20%20%20%20%20%20%20%20%7B%7D%0A%20%20%20%20%20%20%20%20%20%20%20%20%29.addTo%28map_82dfc54417214e94a1bef2b8cef3065b%29%3B%0A%20%20%20%20%20%20%20%20%0A%20%20%20%20%0A%20%20%20%20%20%20%20%20%20%20%20%20var%20icon_99c92be8bb0d47fda2717dd8244d5ccc%20%3D%20L.AwesomeMarkers.icon%28%0A%20%20%20%20%20%20%20%20%20%20%20%20%20%20%20%20%7B%22extraClasses%22%3A%20%22fa-rotate-0%22%2C%20%22icon%22%3A%20%22info-sign%22%2C%20%22iconColor%22%3A%20%22white%22%2C%20%22markerColor%22%3A%20%22cadetblue%22%2C%20%22prefix%22%3A%20%22glyphicon%22%7D%0A%20%20%20%20%20%20%20%20%20%20%20%20%29%3B%0A%20%20%20%20%20%20%20%20%20%20%20%20marker_2c139abcc2434258b43615a317ee35ce.setIcon%28icon_99c92be8bb0d47fda2717dd8244d5ccc%29%3B%0A%20%20%20%20%20%20%20%20%0A%20%20%20%20%0A%20%20%20%20%20%20%20%20var%20popup_43a1e48af78e49039f26e8953f5d0cad%20%3D%20L.popup%28%7B%22maxWidth%22%3A%20%22100%25%22%7D%29%3B%0A%0A%20%20%20%20%20%20%20%20%0A%20%20%20%20%20%20%20%20%20%20%20%20var%20html_1205c8871f244b3eae1ee9d0d0dbb447%20%3D%20%24%28%60%3Cdiv%20id%3D%22html_1205c8871f244b3eae1ee9d0d0dbb447%22%20style%3D%22width%3A%20100.0%25%3B%20height%3A%20100.0%25%3B%22%3E4100%20FERNHILL%20AVE%2C%202016/12/3%3C/div%3E%60%29%5B0%5D%3B%0A%20%20%20%20%20%20%20%20%20%20%20%20popup_43a1e48af78e49039f26e8953f5d0cad.setContent%28html_1205c8871f244b3eae1ee9d0d0dbb447%29%3B%0A%20%20%20%20%20%20%20%20%0A%0A%20%20%20%20%20%20%20%20marker_2c139abcc2434258b43615a317ee35ce.bindPopup%28popup_43a1e48af78e49039f26e8953f5d0cad%29%0A%20%20%20%20%20%20%20%20%3B%0A%0A%20%20%20%20%20%20%20%20%0A%20%20%20%20%0A%20%20%20%20%0A%20%20%20%20%20%20%20%20%20%20%20%20var%20marker_6bddcbf62cb94c06a64b99abbb1b13fa%20%3D%20L.marker%28%0A%20%20%20%20%20%20%20%20%20%20%20%20%20%20%20%20%5B39.2994%2C%20-76.6172%5D%2C%0A%20%20%20%20%20%20%20%20%20%20%20%20%20%20%20%20%7B%7D%0A%20%20%20%20%20%20%20%20%20%20%20%20%29.addTo%28map_82dfc54417214e94a1bef2b8cef3065b%29%3B%0A%20%20%20%20%20%20%20%20%0A%20%20%20%20%0A%20%20%20%20%20%20%20%20%20%20%20%20var%20icon_989d2774c24447979f14ed8266d278ac%20%3D%20L.AwesomeMarkers.icon%28%0A%20%20%20%20%20%20%20%20%20%20%20%20%20%20%20%20%7B%22extraClasses%22%3A%20%22fa-rotate-0%22%2C%20%22icon%22%3A%20%22info-sign%22%2C%20%22iconColor%22%3A%20%22white%22%2C%20%22markerColor%22%3A%20%22cadetblue%22%2C%20%22prefix%22%3A%20%22glyphicon%22%7D%0A%20%20%20%20%20%20%20%20%20%20%20%20%29%3B%0A%20%20%20%20%20%20%20%20%20%20%20%20marker_6bddcbf62cb94c06a64b99abbb1b13fa.setIcon%28icon_989d2774c24447979f14ed8266d278ac%29%3B%0A%20%20%20%20%20%20%20%20%0A%20%20%20%20%0A%20%20%20%20%20%20%20%20var%20popup_a4423c6cb1b147eaa11926a773af1d8a%20%3D%20L.popup%28%7B%22maxWidth%22%3A%20%22100%25%22%7D%29%3B%0A%0A%20%20%20%20%20%20%20%20%0A%20%20%20%20%20%20%20%20%20%20%20%20var%20html_80448fed80a94e9eb37f0147f6f21d78%20%3D%20%24%28%60%3Cdiv%20id%3D%22html_80448fed80a94e9eb37f0147f6f21d78%22%20style%3D%22width%3A%20100.0%25%3B%20height%3A%20100.0%25%3B%22%3E100%20W%20READ%20ST%2C%202016/12/3%3C/div%3E%60%29%5B0%5D%3B%0A%20%20%20%20%20%20%20%20%20%20%20%20popup_a4423c6cb1b147eaa11926a773af1d8a.setContent%28html_80448fed80a94e9eb37f0147f6f21d78%29%3B%0A%20%20%20%20%20%20%20%20%0A%0A%20%20%20%20%20%20%20%20marker_6bddcbf62cb94c06a64b99abbb1b13fa.bindPopup%28popup_a4423c6cb1b147eaa11926a773af1d8a%29%0A%20%20%20%20%20%20%20%20%3B%0A%0A%20%20%20%20%20%20%20%20%0A%20%20%20%20%0A%20%20%20%20%0A%20%20%20%20%20%20%20%20%20%20%20%20var%20marker_c0a20d29c3d14877a2d0f1efb83cf3a1%20%3D%20L.marker%28%0A%20%20%20%20%20%20%20%20%20%20%20%20%20%20%20%20%5B39.2916%2C%20-76.6211%5D%2C%0A%20%20%20%20%20%20%20%20%20%20%20%20%20%20%20%20%7B%7D%0A%20%20%20%20%20%20%20%20%20%20%20%20%29.addTo%28map_82dfc54417214e94a1bef2b8cef3065b%29%3B%0A%20%20%20%20%20%20%20%20%0A%20%20%20%20%0A%20%20%20%20%20%20%20%20%20%20%20%20var%20icon_d13ae7a1675a43e29527c07eab75f5fe%20%3D%20L.AwesomeMarkers.icon%28%0A%20%20%20%20%20%20%20%20%20%20%20%20%20%20%20%20%7B%22extraClasses%22%3A%20%22fa-rotate-0%22%2C%20%22icon%22%3A%20%22info-sign%22%2C%20%22iconColor%22%3A%20%22white%22%2C%20%22markerColor%22%3A%20%22cadetblue%22%2C%20%22prefix%22%3A%20%22glyphicon%22%7D%0A%20%20%20%20%20%20%20%20%20%20%20%20%29%3B%0A%20%20%20%20%20%20%20%20%20%20%20%20marker_c0a20d29c3d14877a2d0f1efb83cf3a1.setIcon%28icon_d13ae7a1675a43e29527c07eab75f5fe%29%3B%0A%20%20%20%20%20%20%20%20%0A%20%20%20%20%0A%20%20%20%20%20%20%20%20var%20popup_d2fffef1c099484dbae6fae70653674e%20%3D%20L.popup%28%7B%22maxWidth%22%3A%20%22100%25%22%7D%29%3B%0A%0A%20%20%20%20%20%20%20%20%0A%20%20%20%20%20%20%20%20%20%20%20%20var%20html_833854be1c6645c185f523986782e539%20%3D%20%24%28%60%3Cdiv%20id%3D%22html_833854be1c6645c185f523986782e539%22%20style%3D%22width%3A%20100.0%25%3B%20height%3A%20100.0%25%3B%22%3E200%20N%20EUTAW%20ST%2C%202016/12/3%3C/div%3E%60%29%5B0%5D%3B%0A%20%20%20%20%20%20%20%20%20%20%20%20popup_d2fffef1c099484dbae6fae70653674e.setContent%28html_833854be1c6645c185f523986782e539%29%3B%0A%20%20%20%20%20%20%20%20%0A%0A%20%20%20%20%20%20%20%20marker_c0a20d29c3d14877a2d0f1efb83cf3a1.bindPopup%28popup_d2fffef1c099484dbae6fae70653674e%29%0A%20%20%20%20%20%20%20%20%3B%0A%0A%20%20%20%20%20%20%20%20%0A%20%20%20%20%0A%20%20%20%20%0A%20%20%20%20%20%20%20%20%20%20%20%20var%20marker_445a007b8c014ac3b851446a3b0c3459%20%3D%20L.marker%28%0A%20%20%20%20%20%20%20%20%20%20%20%20%20%20%20%20%5B39.3036%2C%20-76.616%5D%2C%0A%20%20%20%20%20%20%20%20%20%20%20%20%20%20%20%20%7B%7D%0A%20%20%20%20%20%20%20%20%20%20%20%20%29.addTo%28map_82dfc54417214e94a1bef2b8cef3065b%29%3B%0A%20%20%20%20%20%20%20%20%0A%20%20%20%20%0A%20%20%20%20%20%20%20%20%20%20%20%20var%20icon_a0623154b51a48adb417e20b57cfbb6c%20%3D%20L.AwesomeMarkers.icon%28%0A%20%20%20%20%20%20%20%20%20%20%20%20%20%20%20%20%7B%22extraClasses%22%3A%20%22fa-rotate-0%22%2C%20%22icon%22%3A%20%22info-sign%22%2C%20%22iconColor%22%3A%20%22white%22%2C%20%22markerColor%22%3A%20%22cadetblue%22%2C%20%22prefix%22%3A%20%22glyphicon%22%7D%0A%20%20%20%20%20%20%20%20%20%20%20%20%29%3B%0A%20%20%20%20%20%20%20%20%20%20%20%20marker_445a007b8c014ac3b851446a3b0c3459.setIcon%28icon_a0623154b51a48adb417e20b57cfbb6c%29%3B%0A%20%20%20%20%20%20%20%20%0A%20%20%20%20%0A%20%20%20%20%20%20%20%20var%20popup_a3d8fd502c7042d98acd075eaf4e4c90%20%3D%20L.popup%28%7B%22maxWidth%22%3A%20%22100%25%22%7D%29%3B%0A%0A%20%20%20%20%20%20%20%20%0A%20%20%20%20%20%20%20%20%20%20%20%20var%20html_e4326e7c09774021b07074c7aacabe9e%20%3D%20%24%28%60%3Cdiv%20id%3D%22html_e4326e7c09774021b07074c7aacabe9e%22%20style%3D%22width%3A%20100.0%25%3B%20height%3A%20100.0%25%3B%22%3E1200%20N%20CHARLES%20ST%2C%202016/12/3%3C/div%3E%60%29%5B0%5D%3B%0A%20%20%20%20%20%20%20%20%20%20%20%20popup_a3d8fd502c7042d98acd075eaf4e4c90.setContent%28html_e4326e7c09774021b07074c7aacabe9e%29%3B%0A%20%20%20%20%20%20%20%20%0A%0A%20%20%20%20%20%20%20%20marker_445a007b8c014ac3b851446a3b0c3459.bindPopup%28popup_a3d8fd502c7042d98acd075eaf4e4c90%29%0A%20%20%20%20%20%20%20%20%3B%0A%0A%20%20%20%20%20%20%20%20%0A%20%20%20%20%0A%20%20%20%20%0A%20%20%20%20%20%20%20%20%20%20%20%20var%20marker_01aec624d2774dd58654ebfc30f410db%20%3D%20L.marker%28%0A%20%20%20%20%20%20%20%20%20%20%20%20%20%20%20%20%5B39.3076%2C%20-76.5895%5D%2C%0A%20%20%20%20%20%20%20%20%20%20%20%20%20%20%20%20%7B%7D%0A%20%20%20%20%20%20%20%20%20%20%20%20%29.addTo%28map_82dfc54417214e94a1bef2b8cef3065b%29%3B%0A%20%20%20%20%20%20%20%20%0A%20%20%20%20%0A%20%20%20%20%20%20%20%20%20%20%20%20var%20icon_c8682b2e09364f33927789eeee6c02ed%20%3D%20L.AwesomeMarkers.icon%28%0A%20%20%20%20%20%20%20%20%20%20%20%20%20%20%20%20%7B%22extraClasses%22%3A%20%22fa-rotate-0%22%2C%20%22icon%22%3A%20%22info-sign%22%2C%20%22iconColor%22%3A%20%22white%22%2C%20%22markerColor%22%3A%20%22cadetblue%22%2C%20%22prefix%22%3A%20%22glyphicon%22%7D%0A%20%20%20%20%20%20%20%20%20%20%20%20%29%3B%0A%20%20%20%20%20%20%20%20%20%20%20%20marker_01aec624d2774dd58654ebfc30f410db.setIcon%28icon_c8682b2e09364f33927789eeee6c02ed%29%3B%0A%20%20%20%20%20%20%20%20%0A%20%20%20%20%0A%20%20%20%20%20%20%20%20var%20popup_dcdc92ae5d1e4e0a9bb91aff0876842e%20%3D%20L.popup%28%7B%22maxWidth%22%3A%20%22100%25%22%7D%29%3B%0A%0A%20%20%20%20%20%20%20%20%0A%20%20%20%20%20%20%20%20%20%20%20%20var%20html_ccdee338a0eb4524bf65266ac436775c%20%3D%20%24%28%60%3Cdiv%20id%3D%22html_ccdee338a0eb4524bf65266ac436775c%22%20style%3D%22width%3A%20100.0%25%3B%20height%3A%20100.0%25%3B%22%3E2000%20E%20OLIVER%20ST%2C%202016/12/3%3C/div%3E%60%29%5B0%5D%3B%0A%20%20%20%20%20%20%20%20%20%20%20%20popup_dcdc92ae5d1e4e0a9bb91aff0876842e.setContent%28html_ccdee338a0eb4524bf65266ac436775c%29%3B%0A%20%20%20%20%20%20%20%20%0A%0A%20%20%20%20%20%20%20%20marker_01aec624d2774dd58654ebfc30f410db.bindPopup%28popup_dcdc92ae5d1e4e0a9bb91aff0876842e%29%0A%20%20%20%20%20%20%20%20%3B%0A%0A%20%20%20%20%20%20%20%20%0A%20%20%20%20%0A%20%20%20%20%0A%20%20%20%20%20%20%20%20%20%20%20%20var%20marker_9bcbbeba5c6b448ba8bcc9bd5e69957c%20%3D%20L.marker%28%0A%20%20%20%20%20%20%20%20%20%20%20%20%20%20%20%20%5B39.2685%2C%20-76.6313%5D%2C%0A%20%20%20%20%20%20%20%20%20%20%20%20%20%20%20%20%7B%7D%0A%20%20%20%20%20%20%20%20%20%20%20%20%29.addTo%28map_82dfc54417214e94a1bef2b8cef3065b%29%3B%0A%20%20%20%20%20%20%20%20%0A%20%20%20%20%0A%20%20%20%20%20%20%20%20%20%20%20%20var%20icon_839be5552e1d407280d599803bc6556f%20%3D%20L.AwesomeMarkers.icon%28%0A%20%20%20%20%20%20%20%20%20%20%20%20%20%20%20%20%7B%22extraClasses%22%3A%20%22fa-rotate-0%22%2C%20%22icon%22%3A%20%22info-sign%22%2C%20%22iconColor%22%3A%20%22white%22%2C%20%22markerColor%22%3A%20%22cadetblue%22%2C%20%22prefix%22%3A%20%22glyphicon%22%7D%0A%20%20%20%20%20%20%20%20%20%20%20%20%29%3B%0A%20%20%20%20%20%20%20%20%20%20%20%20marker_9bcbbeba5c6b448ba8bcc9bd5e69957c.setIcon%28icon_839be5552e1d407280d599803bc6556f%29%3B%0A%20%20%20%20%20%20%20%20%0A%20%20%20%20%0A%20%20%20%20%20%20%20%20var%20popup_d028e1bde6394b0b8822dde8602b454a%20%3D%20L.popup%28%7B%22maxWidth%22%3A%20%22100%25%22%7D%29%3B%0A%0A%20%20%20%20%20%20%20%20%0A%20%20%20%20%20%20%20%20%20%20%20%20var%20html_08dbfa16e7954c2ca84a890c2e101a9b%20%3D%20%24%28%60%3Cdiv%20id%3D%22html_08dbfa16e7954c2ca84a890c2e101a9b%22%20style%3D%22width%3A%20100.0%25%3B%20height%3A%20100.0%25%3B%22%3E1900%20ANNAPOLIS%20RD%2C%202016/12/3%3C/div%3E%60%29%5B0%5D%3B%0A%20%20%20%20%20%20%20%20%20%20%20%20popup_d028e1bde6394b0b8822dde8602b454a.setContent%28html_08dbfa16e7954c2ca84a890c2e101a9b%29%3B%0A%20%20%20%20%20%20%20%20%0A%0A%20%20%20%20%20%20%20%20marker_9bcbbeba5c6b448ba8bcc9bd5e69957c.bindPopup%28popup_d028e1bde6394b0b8822dde8602b454a%29%0A%20%20%20%20%20%20%20%20%3B%0A%0A%20%20%20%20%20%20%20%20%0A%20%20%20%20%0A%20%20%20%20%0A%20%20%20%20%20%20%20%20%20%20%20%20var%20marker_e54bc961d38e47a39f1c254c68014d7f%20%3D%20L.marker%28%0A%20%20%20%20%20%20%20%20%20%20%20%20%20%20%20%20%5B39.2455%2C%20-76.6287%5D%2C%0A%20%20%20%20%20%20%20%20%20%20%20%20%20%20%20%20%7B%7D%0A%20%20%20%20%20%20%20%20%20%20%20%20%29.addTo%28map_82dfc54417214e94a1bef2b8cef3065b%29%3B%0A%20%20%20%20%20%20%20%20%0A%20%20%20%20%0A%20%20%20%20%20%20%20%20%20%20%20%20var%20icon_eba32f64da8c4c6bba1e7d62ef3a2fc1%20%3D%20L.AwesomeMarkers.icon%28%0A%20%20%20%20%20%20%20%20%20%20%20%20%20%20%20%20%7B%22extraClasses%22%3A%20%22fa-rotate-0%22%2C%20%22icon%22%3A%20%22info-sign%22%2C%20%22iconColor%22%3A%20%22white%22%2C%20%22markerColor%22%3A%20%22cadetblue%22%2C%20%22prefix%22%3A%20%22glyphicon%22%7D%0A%20%20%20%20%20%20%20%20%20%20%20%20%29%3B%0A%20%20%20%20%20%20%20%20%20%20%20%20marker_e54bc961d38e47a39f1c254c68014d7f.setIcon%28icon_eba32f64da8c4c6bba1e7d62ef3a2fc1%29%3B%0A%20%20%20%20%20%20%20%20%0A%20%20%20%20%0A%20%20%20%20%20%20%20%20var%20popup_6409248d2eba46e98536b61a6753b462%20%3D%20L.popup%28%7B%22maxWidth%22%3A%20%22100%25%22%7D%29%3B%0A%0A%20%20%20%20%20%20%20%20%0A%20%20%20%20%20%20%20%20%20%20%20%20var%20html_1d13282b90164159964e536814a7cf2d%20%3D%20%24%28%60%3Cdiv%20id%3D%22html_1d13282b90164159964e536814a7cf2d%22%20style%3D%22width%3A%20100.0%25%3B%20height%3A%20100.0%25%3B%22%3E2800%20DENHAM%20CIR%20N%2C%202016/12/3%3C/div%3E%60%29%5B0%5D%3B%0A%20%20%20%20%20%20%20%20%20%20%20%20popup_6409248d2eba46e98536b61a6753b462.setContent%28html_1d13282b90164159964e536814a7cf2d%29%3B%0A%20%20%20%20%20%20%20%20%0A%0A%20%20%20%20%20%20%20%20marker_e54bc961d38e47a39f1c254c68014d7f.bindPopup%28popup_6409248d2eba46e98536b61a6753b462%29%0A%20%20%20%20%20%20%20%20%3B%0A%0A%20%20%20%20%20%20%20%20%0A%20%20%20%20%0A%20%20%20%20%0A%20%20%20%20%20%20%20%20%20%20%20%20var%20marker_95872bc854874d98b547dfa1f7eacdf1%20%3D%20L.marker%28%0A%20%20%20%20%20%20%20%20%20%20%20%20%20%20%20%20%5B39.2212%2C%20-76.5865%5D%2C%0A%20%20%20%20%20%20%20%20%20%20%20%20%20%20%20%20%7B%7D%0A%20%20%20%20%20%20%20%20%20%20%20%20%29.addTo%28map_82dfc54417214e94a1bef2b8cef3065b%29%3B%0A%20%20%20%20%20%20%20%20%0A%20%20%20%20%0A%20%20%20%20%20%20%20%20%20%20%20%20var%20icon_1515d6596d8c4f36acd4a25c363433e5%20%3D%20L.AwesomeMarkers.icon%28%0A%20%20%20%20%20%20%20%20%20%20%20%20%20%20%20%20%7B%22extraClasses%22%3A%20%22fa-rotate-0%22%2C%20%22icon%22%3A%20%22info-sign%22%2C%20%22iconColor%22%3A%20%22white%22%2C%20%22markerColor%22%3A%20%22cadetblue%22%2C%20%22prefix%22%3A%20%22glyphicon%22%7D%0A%20%20%20%20%20%20%20%20%20%20%20%20%29%3B%0A%20%20%20%20%20%20%20%20%20%20%20%20marker_95872bc854874d98b547dfa1f7eacdf1.setIcon%28icon_1515d6596d8c4f36acd4a25c363433e5%29%3B%0A%20%20%20%20%20%20%20%20%0A%20%20%20%20%0A%20%20%20%20%20%20%20%20var%20popup_a72a12be12754bb6bc0f6b78dbc54fb0%20%3D%20L.popup%28%7B%22maxWidth%22%3A%20%22100%25%22%7D%29%3B%0A%0A%20%20%20%20%20%20%20%20%0A%20%20%20%20%20%20%20%20%20%20%20%20var%20html_2d7dc5ec4f024729b68e1850ba0396e5%20%3D%20%24%28%60%3Cdiv%20id%3D%22html_2d7dc5ec4f024729b68e1850ba0396e5%22%20style%3D%22width%3A%20100.0%25%3B%20height%3A%20100.0%25%3B%22%3E5000%20CURTIS%20AVE%2C%202016/12/3%3C/div%3E%60%29%5B0%5D%3B%0A%20%20%20%20%20%20%20%20%20%20%20%20popup_a72a12be12754bb6bc0f6b78dbc54fb0.setContent%28html_2d7dc5ec4f024729b68e1850ba0396e5%29%3B%0A%20%20%20%20%20%20%20%20%0A%0A%20%20%20%20%20%20%20%20marker_95872bc854874d98b547dfa1f7eacdf1.bindPopup%28popup_a72a12be12754bb6bc0f6b78dbc54fb0%29%0A%20%20%20%20%20%20%20%20%3B%0A%0A%20%20%20%20%20%20%20%20%0A%20%20%20%20%0A%20%20%20%20%0A%20%20%20%20%20%20%20%20%20%20%20%20var%20marker_5008adc356384876a60fac56db199bb1%20%3D%20L.marker%28%0A%20%20%20%20%20%20%20%20%20%20%20%20%20%20%20%20%5B39.2424%2C%20-76.6227%5D%2C%0A%20%20%20%20%20%20%20%20%20%20%20%20%20%20%20%20%7B%7D%0A%20%20%20%20%20%20%20%20%20%20%20%20%29.addTo%28map_82dfc54417214e94a1bef2b8cef3065b%29%3B%0A%20%20%20%20%20%20%20%20%0A%20%20%20%20%0A%20%20%20%20%20%20%20%20%20%20%20%20var%20icon_05179c3e3e114446aee4b9534dd79775%20%3D%20L.AwesomeMarkers.icon%28%0A%20%20%20%20%20%20%20%20%20%20%20%20%20%20%20%20%7B%22extraClasses%22%3A%20%22fa-rotate-0%22%2C%20%22icon%22%3A%20%22info-sign%22%2C%20%22iconColor%22%3A%20%22white%22%2C%20%22markerColor%22%3A%20%22cadetblue%22%2C%20%22prefix%22%3A%20%22glyphicon%22%7D%0A%20%20%20%20%20%20%20%20%20%20%20%20%29%3B%0A%20%20%20%20%20%20%20%20%20%20%20%20marker_5008adc356384876a60fac56db199bb1.setIcon%28icon_05179c3e3e114446aee4b9534dd79775%29%3B%0A%20%20%20%20%20%20%20%20%0A%20%20%20%20%0A%20%20%20%20%20%20%20%20var%20popup_4f060c20f54f49d684a4ed2f370006e2%20%3D%20L.popup%28%7B%22maxWidth%22%3A%20%22100%25%22%7D%29%3B%0A%0A%20%20%20%20%20%20%20%20%0A%20%20%20%20%20%20%20%20%20%20%20%20var%20html_6fea014b65d445658a708b27c1011a55%20%3D%20%24%28%60%3Cdiv%20id%3D%22html_6fea014b65d445658a708b27c1011a55%22%20style%3D%22width%3A%20100.0%25%3B%20height%3A%20100.0%25%3B%22%3E3500%20ROUND%20RD%2C%202016/12/3%3C/div%3E%60%29%5B0%5D%3B%0A%20%20%20%20%20%20%20%20%20%20%20%20popup_4f060c20f54f49d684a4ed2f370006e2.setContent%28html_6fea014b65d445658a708b27c1011a55%29%3B%0A%20%20%20%20%20%20%20%20%0A%0A%20%20%20%20%20%20%20%20marker_5008adc356384876a60fac56db199bb1.bindPopup%28popup_4f060c20f54f49d684a4ed2f370006e2%29%0A%20%20%20%20%20%20%20%20%3B%0A%0A%20%20%20%20%20%20%20%20%0A%20%20%20%20%0A%20%20%20%20%0A%20%20%20%20%20%20%20%20%20%20%20%20var%20marker_0d9dedf1779e4e0884c3bc15958616c9%20%3D%20L.marker%28%0A%20%20%20%20%20%20%20%20%20%20%20%20%20%20%20%20%5B39.239000000000004%2C%20-76.6028%5D%2C%0A%20%20%20%20%20%20%20%20%20%20%20%20%20%20%20%20%7B%7D%0A%20%20%20%20%20%20%20%20%20%20%20%20%29.addTo%28map_82dfc54417214e94a1bef2b8cef3065b%29%3B%0A%20%20%20%20%20%20%20%20%0A%20%20%20%20%0A%20%20%20%20%20%20%20%20%20%20%20%20var%20icon_f27a415825fb4dada96d01b9c8f524d0%20%3D%20L.AwesomeMarkers.icon%28%0A%20%20%20%20%20%20%20%20%20%20%20%20%20%20%20%20%7B%22extraClasses%22%3A%20%22fa-rotate-0%22%2C%20%22icon%22%3A%20%22info-sign%22%2C%20%22iconColor%22%3A%20%22white%22%2C%20%22markerColor%22%3A%20%22cadetblue%22%2C%20%22prefix%22%3A%20%22glyphicon%22%7D%0A%20%20%20%20%20%20%20%20%20%20%20%20%29%3B%0A%20%20%20%20%20%20%20%20%20%20%20%20marker_0d9dedf1779e4e0884c3bc15958616c9.setIcon%28icon_f27a415825fb4dada96d01b9c8f524d0%29%3B%0A%20%20%20%20%20%20%20%20%0A%20%20%20%20%0A%20%20%20%20%20%20%20%20var%20popup_43b9b95c5c744934a1ba32bd84744738%20%3D%20L.popup%28%7B%22maxWidth%22%3A%20%22100%25%22%7D%29%3B%0A%0A%20%20%20%20%20%20%20%20%0A%20%20%20%20%20%20%20%20%20%20%20%20var%20html_e55c0ca4775b4764a95311c205fdf659%20%3D%20%24%28%60%3Cdiv%20id%3D%22html_e55c0ca4775b4764a95311c205fdf659%22%20style%3D%22width%3A%20100.0%25%3B%20height%3A%20100.0%25%3B%22%3E400%20MAUDE%20AVE%2C%202016/12/3%3C/div%3E%60%29%5B0%5D%3B%0A%20%20%20%20%20%20%20%20%20%20%20%20popup_43b9b95c5c744934a1ba32bd84744738.setContent%28html_e55c0ca4775b4764a95311c205fdf659%29%3B%0A%20%20%20%20%20%20%20%20%0A%0A%20%20%20%20%20%20%20%20marker_0d9dedf1779e4e0884c3bc15958616c9.bindPopup%28popup_43b9b95c5c744934a1ba32bd84744738%29%0A%20%20%20%20%20%20%20%20%3B%0A%0A%20%20%20%20%20%20%20%20%0A%20%20%20%20%0A%20%20%20%20%0A%20%20%20%20%20%20%20%20%20%20%20%20var%20marker_59757b6513d54e3c8ba383ab3f9bd20e%20%3D%20L.marker%28%0A%20%20%20%20%20%20%20%20%20%20%20%20%20%20%20%20%5B39.3008%2C%20-76.6027%5D%2C%0A%20%20%20%20%20%20%20%20%20%20%20%20%20%20%20%20%7B%7D%0A%20%20%20%20%20%20%20%20%20%20%20%20%29.addTo%28map_82dfc54417214e94a1bef2b8cef3065b%29%3B%0A%20%20%20%20%20%20%20%20%0A%20%20%20%20%0A%20%20%20%20%20%20%20%20%20%20%20%20var%20icon_7f4f7f50410649c19489cb1b3f9b22b8%20%3D%20L.AwesomeMarkers.icon%28%0A%20%20%20%20%20%20%20%20%20%20%20%20%20%20%20%20%7B%22extraClasses%22%3A%20%22fa-rotate-0%22%2C%20%22icon%22%3A%20%22info-sign%22%2C%20%22iconColor%22%3A%20%22white%22%2C%20%22markerColor%22%3A%20%22cadetblue%22%2C%20%22prefix%22%3A%20%22glyphicon%22%7D%0A%20%20%20%20%20%20%20%20%20%20%20%20%29%3B%0A%20%20%20%20%20%20%20%20%20%20%20%20marker_59757b6513d54e3c8ba383ab3f9bd20e.setIcon%28icon_7f4f7f50410649c19489cb1b3f9b22b8%29%3B%0A%20%20%20%20%20%20%20%20%0A%20%20%20%20%0A%20%20%20%20%20%20%20%20var%20popup_55ec6e65c8ca45579f3eaabfa59c2764%20%3D%20L.popup%28%7B%22maxWidth%22%3A%20%22100%25%22%7D%29%3B%0A%0A%20%20%20%20%20%20%20%20%0A%20%20%20%20%20%20%20%20%20%20%20%20var%20html_d28977e6026d46009cb8eb0f4a9c572d%20%3D%20%24%28%60%3Cdiv%20id%3D%22html_d28977e6026d46009cb8eb0f4a9c572d%22%20style%3D%22width%3A%20100.0%25%3B%20height%3A%20100.0%25%3B%22%3E1100%20WEBB%20CT%2C%202016/12/3%3C/div%3E%60%29%5B0%5D%3B%0A%20%20%20%20%20%20%20%20%20%20%20%20popup_55ec6e65c8ca45579f3eaabfa59c2764.setContent%28html_d28977e6026d46009cb8eb0f4a9c572d%29%3B%0A%20%20%20%20%20%20%20%20%0A%0A%20%20%20%20%20%20%20%20marker_59757b6513d54e3c8ba383ab3f9bd20e.bindPopup%28popup_55ec6e65c8ca45579f3eaabfa59c2764%29%0A%20%20%20%20%20%20%20%20%3B%0A%0A%20%20%20%20%20%20%20%20%0A%20%20%20%20%0A%20%20%20%20%0A%20%20%20%20%20%20%20%20%20%20%20%20var%20marker_4121f49091af4a0fb1db40756e462870%20%3D%20L.marker%28%0A%20%20%20%20%20%20%20%20%20%20%20%20%20%20%20%20%5B39.3485%2C%20-76.6751%5D%2C%0A%20%20%20%20%20%20%20%20%20%20%20%20%20%20%20%20%7B%7D%0A%20%20%20%20%20%20%20%20%20%20%20%20%29.addTo%28map_82dfc54417214e94a1bef2b8cef3065b%29%3B%0A%20%20%20%20%20%20%20%20%0A%20%20%20%20%0A%20%20%20%20%20%20%20%20%20%20%20%20var%20icon_4d62a12e596d4c02aa0867930f8335a3%20%3D%20L.AwesomeMarkers.icon%28%0A%20%20%20%20%20%20%20%20%20%20%20%20%20%20%20%20%7B%22extraClasses%22%3A%20%22fa-rotate-0%22%2C%20%22icon%22%3A%20%22info-sign%22%2C%20%22iconColor%22%3A%20%22white%22%2C%20%22markerColor%22%3A%20%22cadetblue%22%2C%20%22prefix%22%3A%20%22glyphicon%22%7D%0A%20%20%20%20%20%20%20%20%20%20%20%20%29%3B%0A%20%20%20%20%20%20%20%20%20%20%20%20marker_4121f49091af4a0fb1db40756e462870.setIcon%28icon_4d62a12e596d4c02aa0867930f8335a3%29%3B%0A%20%20%20%20%20%20%20%20%0A%20%20%20%20%0A%20%20%20%20%20%20%20%20var%20popup_799cecdcd9c24ceeaf27bc706faf2be0%20%3D%20L.popup%28%7B%22maxWidth%22%3A%20%22100%25%22%7D%29%3B%0A%0A%20%20%20%20%20%20%20%20%0A%20%20%20%20%20%20%20%20%20%20%20%20var%20html_901d65a12f134c9992a1e880c576e90b%20%3D%20%24%28%60%3Cdiv%20id%3D%22html_901d65a12f134c9992a1e880c576e90b%22%20style%3D%22width%3A%20100.0%25%3B%20height%3A%20100.0%25%3B%22%3E5100%20PARK%20HEIGHTS%20AVE%2C%202016/12/3%3C/div%3E%60%29%5B0%5D%3B%0A%20%20%20%20%20%20%20%20%20%20%20%20popup_799cecdcd9c24ceeaf27bc706faf2be0.setContent%28html_901d65a12f134c9992a1e880c576e90b%29%3B%0A%20%20%20%20%20%20%20%20%0A%0A%20%20%20%20%20%20%20%20marker_4121f49091af4a0fb1db40756e462870.bindPopup%28popup_799cecdcd9c24ceeaf27bc706faf2be0%29%0A%20%20%20%20%20%20%20%20%3B%0A%0A%20%20%20%20%20%20%20%20%0A%20%20%20%20%0A%3C/script%3E onload=\"this.contentDocument.open();this.contentDocument.write(    decodeURIComponent(this.getAttribute('data-html')));this.contentDocument.close();\" allowfullscreen webkitallowfullscreen mozallowfullscreen></iframe></div></div>"
      ],
      "text/plain": [
       "<folium.folium.Map at 0x7fa436a91af0>"
      ]
     },
     "execution_count": 51,
     "metadata": {},
     "output_type": "execute_result"
    }
   ],
   "source": [
    "# Reset our map, so we can plot new data on it\n",
    "map_osm = folium.Map(location=[39.29, -76.61], zoom_start=11)\n",
    "\n",
    "# create a year counter and counter for later\n",
    "year = 2021\n",
    "ct = 0\n",
    "\n",
    "# create a colors array for coloring our points\n",
    "colors= ['darkgreen', 'darkred', 'cadetblue', 'blue', 'pink', 'beige', 'darkblue', 'lightgreen', \n",
    "         'purple', 'lightred', 'red', 'white', \n",
    "         'darkpurple', 'black', 'gray', 'orange', \n",
    "         'lightblue', 'green', 'lightgray']\n",
    "\n",
    "# arrests we want to look at\n",
    "arrests = [\"4E\"]\n",
    "\n",
    "# for each arrest in the table\n",
    "for i in arrest_table.index:\n",
    "    \n",
    "    # for each year, pick 15 arrests in that year\n",
    "    if arrest_table.at[i, 'CrimeCode'] in arrests and int(arrest_table.at[i,\"CrimeDateTime\"][:4]) == year:\n",
    "        \n",
    "        # update year and counter\n",
    "        if ct == 15:\n",
    "            ct = 0\n",
    "            year -= 1\n",
    "        \n",
    "        # create markers\n",
    "        folium.Marker(\n",
    "        location= (arrest_table.at[i, \"Latitude\"], arrest_table.at[i,\"Longitude\"]),\n",
    "        popup=arrest_table.at[i, 'Location'] + ', ' + arrest_table.at[i,\"CrimeDateTime\"][:9],\n",
    "        icon=folium.Icon(color=colors[int(arrest_table.at[i,\"CrimeDateTime\"][:4]) % 19]),\n",
    "        ).add_to(map_osm)\n",
    "        \n",
    "        # Update our counter\n",
    "        ct += 1\n",
    "        \n",
    "# Display our map\n",
    "map_osm"
   ]
  },
  {
   "cell_type": "markdown",
   "id": "broken-civilization",
   "metadata": {},
   "source": [
    "In this map I have laid out and color codded markers for a set of crimes that took place in Baltimore. The crime we chose to display was \"Common Assault\". As we can see from the map, each marker is colored codded based on the year the arrest occured in and each marker displays the location of the incident and the date that the incident occured on.\n",
    "\n",
    "Looking at our map, its not clear if there are any patterns in the data so lets dive a little deeper into the data and see if we can find any.\n",
    "\n",
    "First lets take a look \"Common Assault\" over time"
   ]
  },
  {
   "cell_type": "code",
   "execution_count": 10,
   "id": "fitted-finnish",
   "metadata": {},
   "outputs": [
    {
     "data": {
      "text/plain": [
       "<AxesSubplot:title={'center':'Number of Common Assaults Per Year'}, xlabel='Year'>"
      ]
     },
     "execution_count": 10,
     "metadata": {},
     "output_type": "execute_result"
    },
    {
     "data": {
      "image/png": "[encoded data removed]",
      "text/plain": [
       "<Figure size 936x576 with 1 Axes>"
      ]
     },
     "metadata": {
      "needs_background": "light"
     },
     "output_type": "display_data"
    }
   ],
   "source": [
    "# Create a table with only Common Assualt charges\n",
    "assault_table = arrest_table.where(arrest_table['CrimeCode'] == '4E').dropna()\n",
    "\n",
    "# Create a dictionary for the data, we will pre fill them with a default value of 0 for every year\n",
    "a = {'2021': 0, '2020': 0, '2019': 0, '2018': 0, '2017': 0, '2016': 0}\n",
    "\n",
    "\n",
    "# Fill in the dictionary with years as the key\n",
    "for i in assault_table.index:\n",
    "    # Count number of assaults per year\n",
    "    a[arrest_table.at[i,\"CrimeDateTime\"][:4]] += 1\n",
    "    \n",
    "# Create a temporary dictionary for years and number of assaults\n",
    "temp = {'Year': ['2016', '2017', '2018', '2019', '2020', '2021'],\n",
    "        'Number of Common Assaults': [a['2016'], a['2017'], a['2018'], a['2019'], a['2020'], a['2021']]\n",
    "       }\n",
    "\n",
    "# Push this temporary dict into our dataframe\n",
    "assaults = pd.DataFrame(temp,columns=['Year','Number of Common Assaults'])\n",
    "\n",
    "# Plot our dataframe in line plot form\n",
    "assaults.plot(x ='Year', y='Number of Common Assaults', kind = 'line', title= 'Number of Common Assaults Per Year'\n",
    "              ,legend= False, figsize=(13,8), fontsize=14)"
   ]
  },
  {
   "cell_type": "markdown",
   "id": "daily-stress",
   "metadata": {},
   "source": [
    "As we can see from this line graph the number of common assaults in Baltimore spiked in the 2017, but has since fallen back to the level it was at 2016.\n",
    "\n",
    "Pandas presents many different ways to visualize data, for further more information I reccomend reading the numpy documentation on the plot method here: https://pandas.pydata.org/pandas-docs/stable/reference/api/pandas.DataFrame.plot.html\n",
    "\n",
    "For instance, we can also visulize this graph in bar chart form:"
   ]
  },
  {
   "cell_type": "code",
   "execution_count": 11,
   "id": "human-primary",
   "metadata": {},
   "outputs": [
    {
     "data": {
      "text/plain": [
       "<AxesSubplot:title={'center':'Number of Common Assaults Per Year'}, xlabel='Year'>"
      ]
     },
     "execution_count": 11,
     "metadata": {},
     "output_type": "execute_result"
    },
    {
     "data": {
      "image/png": "[encoded data removed]",
      "text/plain": [
       "<Figure size 936x576 with 1 Axes>"
      ]
     },
     "metadata": {
      "needs_background": "light"
     },
     "output_type": "display_data"
    }
   ],
   "source": [
    "# Plot our dataframe in bar chart form\n",
    "assaults.plot(x ='Year', y='Number of Common Assaults', kind = 'bar', title= 'Number of Common Assaults Per Year'\n",
    "              ,legend= False, figsize=(13,8), fontsize=14)"
   ]
  },
  {
   "cell_type": "markdown",
   "id": "third-mississippi",
   "metadata": {},
   "source": [
    "Since libraries like Pandas and Numpy present us with many ways of plotting our data, and this is something we must carefully consider when working with data visualizations. As visualizing data can effect the way our audience will interpret our data, we must be careful and make sure the visual we decide to use displays our data in a way that does not confuse or mislead our data. Something as simple as reversing the order the years are displayed in for instance, could easily confuse a user of our data if they were not looking carefully. Under that assumption we could potentially make users think that 2020 had the highest number of common assaults in Baltimore, just by doing something as simple as reversing the years could change the outlook on the data entirely. "
   ]
  },
  {
   "cell_type": "markdown",
   "id": "selected-western",
   "metadata": {},
   "source": [
    "Now that we know more about common assaults over the years, we should take a look at where these arrests for assaults are happening."
   ]
  },
  {
   "cell_type": "code",
   "execution_count": 12,
   "id": "german-measurement",
   "metadata": {},
   "outputs": [
    {
     "data": {
      "text/plain": [
       "{'DORCHESTER': 177,\n",
       " 'MOUNT VERNON': 562,\n",
       " 'ELLWOOD PARK/MONUMENT': 461,\n",
       " 'BELAIR-EDISON': 1019,\n",
       " 'NEW SOUTHWEST/MOUNT CLARE': 213,\n",
       " 'UNIVERSITY OF MARYLAND': 181,\n",
       " 'DOWNTOWN': 1983,\n",
       " 'ROSEMONT HOMEOWNERS/TENANTS': 146,\n",
       " 'CHARLES NORTH': 250,\n",
       " 'INNER HARBOR': 464,\n",
       " 'ROSEBANK': 30,\n",
       " 'BALTIMORE HIGHLANDS': 443,\n",
       " 'MORRELL PARK': 476,\n",
       " 'BROOKLYN': 922,\n",
       " 'PARK CIRCLE': 226,\n",
       " 'WOODBERRY': 69,\n",
       " 'PARKLANE': 145,\n",
       " 'HILLEN': 68,\n",
       " 'FRANKFORD': 1193,\n",
       " 'JONESTOWN': 231,\n",
       " 'PATTERSON PARK NEIGHBORHOOD': 357,\n",
       " 'WALBROOK': 241,\n",
       " 'CENTRAL FOREST PARK': 83,\n",
       " 'DARLEY PARK': 127,\n",
       " 'GREENMOUNT WEST': 183,\n",
       " 'KENILWORTH PARK': 62,\n",
       " 'HAMPDEN': 259,\n",
       " 'FRANKLINTOWN ROAD': 160,\n",
       " 'HAWKINS POINT': 11,\n",
       " 'HAMILTON HILLS': 562,\n",
       " 'CANTON INDUSTRIAL AREA': 108,\n",
       " \"BUTCHER'S HILL\": 64,\n",
       " 'DOLFIELD': 136,\n",
       " 'GAY STREET': 240,\n",
       " 'FOUR BY FOUR': 101,\n",
       " 'CARROLL - CAMDEN INDUSTRIAL AREA': 371,\n",
       " 'DUNBAR-BROADWAY': 525,\n",
       " 'RESERVOIR HILL': 473,\n",
       " 'CHERRY HILL': 806,\n",
       " 'ARLINGTON': 257,\n",
       " 'WESTPORT': 171,\n",
       " 'MID-TOWN BELVEDERE': 251,\n",
       " 'CLIFTON PARK': 96,\n",
       " 'SHIPLEY HILL': 235,\n",
       " 'LOCH RAVEN': 219,\n",
       " 'GREEKTOWN': 235,\n",
       " 'BOLTON HILL': 159,\n",
       " 'VIOLETVILLE': 254,\n",
       " 'IRVINGTON': 434,\n",
       " 'SANDTOWN-WINCHESTER': 884,\n",
       " 'FELLS POINT': 518,\n",
       " 'WALTHERSON': 258,\n",
       " 'MIDDLE EAST': 184,\n",
       " 'RICHNOR SPRINGS': 54,\n",
       " 'MOSHER': 178,\n",
       " 'OLDTOWN': 354,\n",
       " 'PIMLICO GOOD NEIGHBORS': 78,\n",
       " 'POPPLETON': 345,\n",
       " 'BEREA': 397,\n",
       " 'MONDAWMIN': 504,\n",
       " 'JOHNSTON SQUARE': 244,\n",
       " 'MORAVIA-WALTHER': 28,\n",
       " 'WINDSOR HILLS': 86,\n",
       " 'GLEN': 226,\n",
       " 'BARCLAY': 268,\n",
       " 'ARMISTEAD GARDENS': 157,\n",
       " 'WASHINGTON VILLAGE/PIGTOWN': 411,\n",
       " 'HERITAGE CROSSING': 131,\n",
       " 'BIDDLE STREET': 158,\n",
       " 'CENTRAL PARK HEIGHTS': 573,\n",
       " 'UPPER FELLS POINT': 120,\n",
       " 'SOUTH BALTIMORE': 71,\n",
       " 'NORTH HARFORD ROAD': 155,\n",
       " 'SAINT JOSEPHS': 186,\n",
       " 'EASTERWOOD': 169,\n",
       " 'BAYVIEW': 165,\n",
       " 'EDMONDSON VILLAGE': 238,\n",
       " 'CHARLES VILLAGE': 250,\n",
       " 'PENN NORTH': 381,\n",
       " 'UPTON': 889,\n",
       " 'HIGHLANDTOWN': 241,\n",
       " 'CANTON': 332,\n",
       " 'FRANKLINTOWN': 85,\n",
       " 'ROSEMONT EAST': 95,\n",
       " 'CALLAWAY-GARRISON': 109,\n",
       " 'SAINT AGNES': 72,\n",
       " 'NEW NORTHWOOD': 224,\n",
       " 'FRANKLIN SQUARE': 331,\n",
       " 'OLIVER': 437,\n",
       " 'GREENSPRING': 200,\n",
       " 'GWYNNS FALLS/LEAKIN PARK': 16,\n",
       " 'MOUNT HOLLY': 144,\n",
       " 'HARLEM PARK': 434,\n",
       " 'HOMELAND': 60,\n",
       " 'RAMBLEWOOD': 107,\n",
       " 'WINSTON-GOVANS': 100,\n",
       " \"O'DONNELL HEIGHTS\": 145,\n",
       " 'HOPKINS BAYVIEW': 115,\n",
       " 'COPPIN HEIGHTS/ASH-CO-EAST': 247,\n",
       " 'WRENLANE': 54,\n",
       " 'GLEN OAKS': 145,\n",
       " 'WASHINGTON HILL': 211,\n",
       " 'MADISON-EASTEND': 249,\n",
       " 'WESTFIELD': 130,\n",
       " 'FOREST PARK': 96,\n",
       " 'HOWARD PARK': 243,\n",
       " 'EAST ARLINGTON': 126,\n",
       " 'BREWERS HILL': 64,\n",
       " 'WAVERLY': 174,\n",
       " 'OTTERBEIN': 70,\n",
       " 'EAST BALTIMORE MIDWAY': 489,\n",
       " 'SOUTH CLIFTON PARK': 140,\n",
       " 'CARROLLTON RIDGE': 515,\n",
       " 'MILLHILL': 342,\n",
       " 'HANLON-LONGWOOD': 185,\n",
       " 'CEDONIA': 122,\n",
       " 'BRIDGEVIEW/GREENLAWN': 220,\n",
       " 'ROSEMONT': 344,\n",
       " 'MIDTOWN-EDMONDSON': 175,\n",
       " 'GLENHAM-BELHAR': 273,\n",
       " 'WOODMERE': 187,\n",
       " 'EVERGREEN': 3,\n",
       " 'BETTER WAVERLY': 242,\n",
       " 'LEVINDALE': 120,\n",
       " 'ORANGEVILLE': 71,\n",
       " 'MEDFORD': 100,\n",
       " 'REMINGTON': 135,\n",
       " 'COLDSTREAM HOMESTEAD MONTEBELLO': 613,\n",
       " 'FEDERAL HILL': 210,\n",
       " 'BEECHFIELD': 182,\n",
       " 'SETON BUSINESS PARK': 41,\n",
       " 'CROSS COUNTRY': 49,\n",
       " 'WEST ARLINGTON': 96,\n",
       " 'YORK-HOMELAND': 19,\n",
       " 'PENROSE/FAYETTE STREET OUTREACH': 344,\n",
       " 'CARE': 184,\n",
       " 'MCELDERRY PARK': 602,\n",
       " 'ROGNEL HEIGHTS': 176,\n",
       " 'HOES HEIGHTS': 18,\n",
       " 'GRACELAND PARK': 165,\n",
       " 'CARROLL-SOUTH HILTON': 141,\n",
       " 'MIDDLE BRANCH/REEDBIRD PARKS': 109,\n",
       " 'LAKE EVESHAM': 5,\n",
       " 'PARKVIEW/WOODBROOK': 177,\n",
       " 'ORIGINAL NORTHWOOD': 33,\n",
       " 'PERRING LOCH': 77,\n",
       " 'FOREST PARK GOLF COURSE': 11,\n",
       " 'ABELL': 96,\n",
       " 'BROADWAY EAST': 580,\n",
       " 'PEN LUCY': 233,\n",
       " 'PARKSIDE': 118,\n",
       " \"RIDGELY'S DELIGHT\": 26,\n",
       " 'SETON HILL': 142,\n",
       " 'ORANGEVILLE INDUSTRIAL AREA': 24,\n",
       " 'FALLSTAFF': 167,\n",
       " 'PURNELL': 26,\n",
       " 'ORCHARD RIDGE': 61,\n",
       " 'LAKELAND': 316,\n",
       " 'PATTERSON PARK': 20,\n",
       " 'RIVERSIDE': 137,\n",
       " 'SAINT PAUL': 7,\n",
       " 'HOLLINS MARKET': 180,\n",
       " 'BROENING MANOR': 142,\n",
       " 'SHARP-LEADENHALL': 64,\n",
       " 'GWYNNS FALLS': 193,\n",
       " 'CURTIS BAY': 423,\n",
       " 'HARWOOD': 152,\n",
       " 'EDNOR GARDENS-LAKESIDE': 184,\n",
       " 'CAMERON VILLAGE': 111,\n",
       " 'NORTHWEST COMMUNITY ACTION': 233,\n",
       " 'KRESSON': 84,\n",
       " 'MORGAN STATE UNIVERSITY': 67,\n",
       " 'DRUID HEIGHTS': 243,\n",
       " 'MONTEBELLO': 21,\n",
       " 'WESTGATE': 175,\n",
       " 'CYLBURN': 150,\n",
       " 'RADNOR-WINSTON': 36,\n",
       " 'PULASKI INDUSTRIAL AREA': 270,\n",
       " 'ROLAND PARK': 48,\n",
       " 'REISTERSTOWN STATION': 315,\n",
       " 'GROVE PARK': 92,\n",
       " 'UNION SQUARE': 123,\n",
       " 'PENN-FALLSWAY': 166,\n",
       " 'YALE HEIGHTS': 153,\n",
       " 'DRUID HILL PARK': 10,\n",
       " 'LIBERTY SQUARE': 81,\n",
       " 'CONCERNED CITIZENS OF FOREST PARK': 85,\n",
       " 'LAURAVILLE': 147,\n",
       " 'PATTERSON PLACE': 60,\n",
       " 'EDGEWOOD': 217,\n",
       " 'MAYFIELD': 13,\n",
       " 'ASHBURTON': 60,\n",
       " 'MILTON-MONTFORD': 201,\n",
       " 'LOCUST POINT': 38,\n",
       " 'LUCILLE PARK': 57,\n",
       " 'STONEWOOD-PENTWOOD-WINSTON': 31,\n",
       " 'CEDMONT': 138,\n",
       " 'BOYD-BOOTH': 110,\n",
       " 'GARWYN OAKS': 80,\n",
       " 'CHESWOLDE': 90,\n",
       " 'OAKENSHAWE': 52,\n",
       " 'LITTLE ITALY': 50,\n",
       " 'OLD GOUCHER': 120,\n",
       " 'TEN HILLS': 79,\n",
       " 'DOWNTOWN WEST': 181,\n",
       " 'OAKLEE': 49,\n",
       " 'IDLEWOOD': 59,\n",
       " 'WINCHESTER': 133,\n",
       " 'WOODBOURNE HEIGHTS': 50,\n",
       " 'WOODBOURNE-MCCABE': 62,\n",
       " 'WILHELM PARK': 67,\n",
       " 'MOUNT WASHINGTON': 61,\n",
       " 'STADIUM AREA': 60,\n",
       " 'KESWICK': 4,\n",
       " 'LOCUST POINT INDUSTRIAL AREA': 14,\n",
       " 'EVERGREEN LAWN': 60,\n",
       " 'FAIRFIELD AREA': 48,\n",
       " 'CURTIS BAY INDUSTRIAL AREA': 2,\n",
       " 'CARROLL PARK': 17,\n",
       " 'GUILFORD': 38,\n",
       " 'WEST FOREST PARK': 137,\n",
       " 'WEST HILLS': 64,\n",
       " 'LOWER EDMONDSON VILLAGE': 53,\n",
       " 'PLEASANT VIEW GARDENS': 105,\n",
       " 'MADISON PARK': 253,\n",
       " 'MEDFIELD': 56,\n",
       " 'ALLENDALE': 326,\n",
       " 'MOUNT WINANS': 34,\n",
       " 'TREMONT': 56,\n",
       " 'BELVEDERE': 34,\n",
       " 'ARCADIA': 51,\n",
       " 'PANWAY/BRADDISH AVENUE': 51,\n",
       " 'TOWANDA-GRANTLEY': 119,\n",
       " 'BELAIR-PARKSIDE': 38,\n",
       " 'COLDSPRING': 61,\n",
       " 'KERNEWOOD': 29,\n",
       " 'BLYTHEWOOD': 0,\n",
       " 'SAINT HELENA': 61,\n",
       " 'LAKE WALKER': 34,\n",
       " 'MID-GOVANS': 75,\n",
       " 'BURLEITH-LEIGHTON': 41,\n",
       " 'UPLANDS': 54,\n",
       " 'BEVERLY HILLS': 14,\n",
       " 'JONES FALLS AREA': 18,\n",
       " 'NORTH ROLAND PARK/POPLAR HILL': 16,\n",
       " 'HOLABIRD INDUSTRIAL PARK': 13,\n",
       " 'MT PLEASANT PARK': 2,\n",
       " 'VILLAGES OF HOMELAND': 4,\n",
       " 'WAKEFIELD': 169,\n",
       " 'CHINQUAPIN PARK': 29,\n",
       " 'CROSS KEYS': 39,\n",
       " 'BARRE CIRCLE': 18,\n",
       " 'LANGSTON HUGHES': 74,\n",
       " 'HUNTING RIDGE': 57,\n",
       " 'SPRING GARDEN INDUSTRIAL AREA': 7,\n",
       " 'TUSCANY-CANTERBURY': 15,\n",
       " 'FAIRMONT': 56,\n",
       " 'TAYLOR HEIGHTS': 4,\n",
       " 'SABINA-MATTFELDT': 5,\n",
       " 'HERRING RUN PARK': 8,\n",
       " 'JOHNS HOPKINS HOMEWOOD': 21,\n",
       " 'WYNDHURST': 19,\n",
       " 'WILSON PARK': 40,\n",
       " 'WYMAN PARK': 14,\n",
       " 'EVESHAM PARK': 23,\n",
       " 'THE ORCHARDS': 2,\n",
       " 'PORT COVINGTON': 3,\n",
       " 'LOWER HERRING RUN PARK': 8,\n",
       " 'EASTWOOD': 39,\n",
       " 'BELLONA-GITTINGS': 0,\n",
       " 'CEDARCROFT': 6,\n",
       " 'OVERLEA': 17,\n",
       " 'LOYOLA/NOTRE DAME': 4,\n",
       " 'PERKINS HOMES': 172,\n",
       " 'DICKEYVILLE': 6,\n",
       " 'GREENMOUNT CEMETERY': 6,\n",
       " 'MORGAN PARK': 6,\n",
       " 'DUNDALK MARINE TERMINAL': 0}"
      ]
     },
     "execution_count": 12,
     "metadata": {},
     "output_type": "execute_result"
    }
   ],
   "source": [
    "# Make our locations dict\n",
    "locations = {}\n",
    "\n",
    "# Create a key, value pair for every neighborhood and assign the default value to 0\n",
    "for i in arrest_table.Neighborhood.unique():\n",
    "    locations[i] = 0\n",
    "\n",
    "# Tally up the assaults that happened in each neighborhood \n",
    "for i in assault_table.Neighborhood:\n",
    "    locations[i] += 1\n",
    "\n",
    "# Display our dictionary\n",
    "locations"
   ]
  },
  {
   "cell_type": "markdown",
   "id": "unavailable-retail",
   "metadata": {},
   "source": [
    "This data is useful as now we can answer questions such as how many common assaults took place in Federal Hill between 2016 and 2021?"
   ]
  },
  {
   "cell_type": "code",
   "execution_count": 13,
   "id": "initial-member",
   "metadata": {},
   "outputs": [
    {
     "data": {
      "text/plain": [
       "210"
      ]
     },
     "execution_count": 13,
     "metadata": {},
     "output_type": "execute_result"
    }
   ],
   "source": [
    "# Answer the question \"how many common assaults took place in Federal Hill between 2016 and 2021?\"\n",
    "locations['FEDERAL HILL']"
   ]
  },
  {
   "cell_type": "markdown",
   "id": "diagnostic-canada",
   "metadata": {},
   "source": [
    "This data is indeed useful, however it is not very readable or clean looking.\n",
    "\n",
    "One of the most important aspects of working with data is making sure that data is usable by people. In order to make sure its usable, we need to make sure its readable. What we currently have is not readable; therefore, we must find other ways to present this data in a more human friendly format, whilst still keeping its functionality. Luckily for us, we have pandas dataframes for that."
   ]
  },
  {
   "cell_type": "code",
   "execution_count": 14,
   "id": "annoying-airplane",
   "metadata": {},
   "outputs": [
    {
     "data": {
      "text/html": [
       "<div>\n",
       "<style scoped>\n",
       "    .dataframe tbody tr th:only-of-type {\n",
       "        vertical-align: middle;\n",
       "    }\n",
       "\n",
       "    .dataframe tbody tr th {\n",
       "        vertical-align: top;\n",
       "    }\n",
       "\n",
       "    .dataframe thead th {\n",
       "        text-align: right;\n",
       "    }\n",
       "</style>\n",
       "<table border=\"1\" class=\"dataframe\">\n",
       "  <thead>\n",
       "    <tr style=\"text-align: right;\">\n",
       "      <th></th>\n",
       "      <th>Neighborhoods</th>\n",
       "      <th>Number of Assaults</th>\n",
       "    </tr>\n",
       "  </thead>\n",
       "  <tbody>\n",
       "    <tr>\n",
       "      <th>0</th>\n",
       "      <td>DORCHESTER</td>\n",
       "      <td>177</td>\n",
       "    </tr>\n",
       "    <tr>\n",
       "      <th>1</th>\n",
       "      <td>MOUNT VERNON</td>\n",
       "      <td>562</td>\n",
       "    </tr>\n",
       "    <tr>\n",
       "      <th>2</th>\n",
       "      <td>ELLWOOD PARK/MONUMENT</td>\n",
       "      <td>461</td>\n",
       "    </tr>\n",
       "    <tr>\n",
       "      <th>3</th>\n",
       "      <td>BELAIR-EDISON</td>\n",
       "      <td>1019</td>\n",
       "    </tr>\n",
       "    <tr>\n",
       "      <th>4</th>\n",
       "      <td>NEW SOUTHWEST/MOUNT CLARE</td>\n",
       "      <td>213</td>\n",
       "    </tr>\n",
       "  </tbody>\n",
       "</table>\n",
       "</div>"
      ],
      "text/plain": [
       "               Neighborhoods  Number of Assaults\n",
       "0                 DORCHESTER                 177\n",
       "1               MOUNT VERNON                 562\n",
       "2      ELLWOOD PARK/MONUMENT                 461\n",
       "3              BELAIR-EDISON                1019\n",
       "4  NEW SOUTHWEST/MOUNT CLARE                 213"
      ]
     },
     "execution_count": 14,
     "metadata": {},
     "output_type": "execute_result"
    }
   ],
   "source": [
    "# Make a temporary dictionary for our dataframe\n",
    "temp = {'Neighborhoods' : arrest_table.Neighborhood.unique(), 'Number of Assaults': [x for x in locations.values()]}\n",
    "\n",
    "# Make a dataframe out of our temp dict\n",
    "locations_table = pd.DataFrame(data=temp)\n",
    "\n",
    "# Display our dataframe\n",
    "locations_table.head()"
   ]
  },
  {
   "cell_type": "markdown",
   "id": "headed-acting",
   "metadata": {},
   "source": [
    "Looking better already! Have we lost any functionality from this change? Lets try and see if we can pull common assaults from Federal Hill again."
   ]
  },
  {
   "cell_type": "code",
   "execution_count": 55,
   "id": "personalized-reserve",
   "metadata": {},
   "outputs": [
    {
     "data": {
      "text/html": [
       "<div>\n",
       "<style scoped>\n",
       "    .dataframe tbody tr th:only-of-type {\n",
       "        vertical-align: middle;\n",
       "    }\n",
       "\n",
       "    .dataframe tbody tr th {\n",
       "        vertical-align: top;\n",
       "    }\n",
       "\n",
       "    .dataframe thead th {\n",
       "        text-align: right;\n",
       "    }\n",
       "</style>\n",
       "<table border=\"1\" class=\"dataframe\">\n",
       "  <thead>\n",
       "    <tr style=\"text-align: right;\">\n",
       "      <th></th>\n",
       "      <th>Neighborhoods</th>\n",
       "      <th>Number of Assaults</th>\n",
       "    </tr>\n",
       "  </thead>\n",
       "  <tbody>\n",
       "    <tr>\n",
       "      <th>128</th>\n",
       "      <td>FEDERAL HILL</td>\n",
       "      <td>210.0</td>\n",
       "    </tr>\n",
       "  </tbody>\n",
       "</table>\n",
       "</div>"
      ],
      "text/plain": [
       "    Neighborhoods  Number of Assaults\n",
       "128  FEDERAL HILL               210.0"
      ]
     },
     "execution_count": 55,
     "metadata": {},
     "output_type": "execute_result"
    }
   ],
   "source": [
    "locations_table.where(locations_table['Neighborhoods'] == 'FEDERAL HILL').dropna()"
   ]
  },
  {
   "cell_type": "markdown",
   "id": "adjacent-fountain",
   "metadata": {},
   "source": [
    "No! We have not lost any functionality whatsover, yet we have gained a great deal of readability! This is one of the many reasons why dataframes are so amazing!"
   ]
  },
  {
   "cell_type": "markdown",
   "id": "amateur-mineral",
   "metadata": {},
   "source": [
    "Now that we have the data more readable, lets do some more digging into the data.\n",
    "Lets see if we can do something simple like see what neighborhood has the most and least common assaults."
   ]
  },
  {
   "cell_type": "code",
   "execution_count": 15,
   "id": "major-timeline",
   "metadata": {},
   "outputs": [
    {
     "data": {
      "text/html": [
       "<div>\n",
       "<style scoped>\n",
       "    .dataframe tbody tr th:only-of-type {\n",
       "        vertical-align: middle;\n",
       "    }\n",
       "\n",
       "    .dataframe tbody tr th {\n",
       "        vertical-align: top;\n",
       "    }\n",
       "\n",
       "    .dataframe thead th {\n",
       "        text-align: right;\n",
       "    }\n",
       "</style>\n",
       "<table border=\"1\" class=\"dataframe\">\n",
       "  <thead>\n",
       "    <tr style=\"text-align: right;\">\n",
       "      <th></th>\n",
       "      <th>Neighborhoods</th>\n",
       "      <th>Number of Assaults</th>\n",
       "    </tr>\n",
       "  </thead>\n",
       "  <tbody>\n",
       "    <tr>\n",
       "      <th>6</th>\n",
       "      <td>DOWNTOWN</td>\n",
       "      <td>1983</td>\n",
       "    </tr>\n",
       "    <tr>\n",
       "      <th>18</th>\n",
       "      <td>FRANKFORD</td>\n",
       "      <td>1193</td>\n",
       "    </tr>\n",
       "    <tr>\n",
       "      <th>3</th>\n",
       "      <td>BELAIR-EDISON</td>\n",
       "      <td>1019</td>\n",
       "    </tr>\n",
       "    <tr>\n",
       "      <th>13</th>\n",
       "      <td>BROOKLYN</td>\n",
       "      <td>922</td>\n",
       "    </tr>\n",
       "    <tr>\n",
       "      <th>79</th>\n",
       "      <td>UPTON</td>\n",
       "      <td>889</td>\n",
       "    </tr>\n",
       "  </tbody>\n",
       "</table>\n",
       "</div>"
      ],
      "text/plain": [
       "    Neighborhoods  Number of Assaults\n",
       "6        DOWNTOWN                1983\n",
       "18      FRANKFORD                1193\n",
       "3   BELAIR-EDISON                1019\n",
       "13       BROOKLYN                 922\n",
       "79          UPTON                 889"
      ]
     },
     "execution_count": 15,
     "metadata": {},
     "output_type": "execute_result"
    }
   ],
   "source": [
    "# Sort our dataframe by increasing values in our \"Number of Assaults\" column\n",
    "locations_table.sort_values(by=['Number of Assaults'], ascending= False, inplace= True)\n",
    "\n",
    "# Show us the top 5 neighborhoods for common assault\n",
    "locations_table.head()"
   ]
  },
  {
   "cell_type": "code",
   "execution_count": 16,
   "id": "activated-width",
   "metadata": {},
   "outputs": [
    {
     "data": {
      "text/html": [
       "<div>\n",
       "<style scoped>\n",
       "    .dataframe tbody tr th:only-of-type {\n",
       "        vertical-align: middle;\n",
       "    }\n",
       "\n",
       "    .dataframe tbody tr th {\n",
       "        vertical-align: top;\n",
       "    }\n",
       "\n",
       "    .dataframe thead th {\n",
       "        text-align: right;\n",
       "    }\n",
       "</style>\n",
       "<table border=\"1\" class=\"dataframe\">\n",
       "  <thead>\n",
       "    <tr style=\"text-align: right;\">\n",
       "      <th></th>\n",
       "      <th>Neighborhoods</th>\n",
       "      <th>Number of Assaults</th>\n",
       "    </tr>\n",
       "  </thead>\n",
       "  <tbody>\n",
       "    <tr>\n",
       "      <th>246</th>\n",
       "      <td>MT PLEASANT PARK</td>\n",
       "      <td>2</td>\n",
       "    </tr>\n",
       "    <tr>\n",
       "      <th>217</th>\n",
       "      <td>CURTIS BAY INDUSTRIAL AREA</td>\n",
       "      <td>2</td>\n",
       "    </tr>\n",
       "    <tr>\n",
       "      <th>269</th>\n",
       "      <td>BELLONA-GITTINGS</td>\n",
       "      <td>0</td>\n",
       "    </tr>\n",
       "    <tr>\n",
       "      <th>236</th>\n",
       "      <td>BLYTHEWOOD</td>\n",
       "      <td>0</td>\n",
       "    </tr>\n",
       "    <tr>\n",
       "      <th>277</th>\n",
       "      <td>DUNDALK MARINE TERMINAL</td>\n",
       "      <td>0</td>\n",
       "    </tr>\n",
       "  </tbody>\n",
       "</table>\n",
       "</div>"
      ],
      "text/plain": [
       "                  Neighborhoods  Number of Assaults\n",
       "246            MT PLEASANT PARK                   2\n",
       "217  CURTIS BAY INDUSTRIAL AREA                   2\n",
       "269            BELLONA-GITTINGS                   0\n",
       "236                  BLYTHEWOOD                   0\n",
       "277     DUNDALK MARINE TERMINAL                   0"
      ]
     },
     "execution_count": 16,
     "metadata": {},
     "output_type": "execute_result"
    }
   ],
   "source": [
    "# Show us the bottom 5 neighborhoods for common assault\n",
    "locations_table.tail()"
   ]
  },
  {
   "cell_type": "markdown",
   "id": "disabled-secretariat",
   "metadata": {},
   "source": [
    "We can! And we can do this while having the output be very friendly to humans!"
   ]
  },
  {
   "cell_type": "markdown",
   "id": "swiss-glasgow",
   "metadata": {},
   "source": [
    "Okay now that we have played around a bit with the data, lets actually get into some data science with this assault dataframe.\n",
    "\n",
    "To do this we will make use of the data within the dataframe, specificially our year, latitude, and longitude to attempt to use k-means clustering in order to predict our the neighborhood of the arrest. \n",
    "\n",
    "K-means clustering aims to partition observations into k clusters in which each observation belongs to the cluster with the nearest mean. Luckily for us python has some very useful public libraries that we can use in order to help us with our k-means clustering. In this instance, we will make use of sklearn and specifically utilize KMeans, silhouette_score, and StandardScalar. \n",
    "\n",
    "For more information on utilizing k-means clustering in python, check out this link https://realpython.com/k-means-clustering-python/"
   ]
  },
  {
   "cell_type": "code",
   "execution_count": 17,
   "id": "oriental-wallpaper",
   "metadata": {},
   "outputs": [
    {
     "data": {
      "text/html": [
       "<div>\n",
       "<style scoped>\n",
       "    .dataframe tbody tr th:only-of-type {\n",
       "        vertical-align: middle;\n",
       "    }\n",
       "\n",
       "    .dataframe tbody tr th {\n",
       "        vertical-align: top;\n",
       "    }\n",
       "\n",
       "    .dataframe thead th {\n",
       "        text-align: right;\n",
       "    }\n",
       "</style>\n",
       "<table border=\"1\" class=\"dataframe\">\n",
       "  <thead>\n",
       "    <tr style=\"text-align: right;\">\n",
       "      <th></th>\n",
       "      <th>CrimeDateTime</th>\n",
       "      <th>CrimeCode</th>\n",
       "      <th>Location</th>\n",
       "      <th>Description</th>\n",
       "      <th>Post</th>\n",
       "      <th>District</th>\n",
       "      <th>Neighborhood</th>\n",
       "      <th>Latitude</th>\n",
       "      <th>Longitude</th>\n",
       "      <th>GeoLocation</th>\n",
       "    </tr>\n",
       "  </thead>\n",
       "  <tbody>\n",
       "    <tr>\n",
       "      <th>0</th>\n",
       "      <td>2021/12/11 09:56:00+00</td>\n",
       "      <td>4E</td>\n",
       "      <td>4300 LIBERTY HEIGHTS AVE</td>\n",
       "      <td>COMMON ASSAULT</td>\n",
       "      <td>621</td>\n",
       "      <td>NORTHWEST</td>\n",
       "      <td>DORCHESTER</td>\n",
       "      <td>39.3298</td>\n",
       "      <td>-76.6905</td>\n",
       "      <td>(39.3298,-76.6905)</td>\n",
       "    </tr>\n",
       "    <tr>\n",
       "      <th>1</th>\n",
       "      <td>2021/12/11 07:30:00+00</td>\n",
       "      <td>4E</td>\n",
       "      <td>200 W MONUMENT ST</td>\n",
       "      <td>COMMON ASSAULT</td>\n",
       "      <td>124</td>\n",
       "      <td>CENTRAL</td>\n",
       "      <td>MOUNT VERNON</td>\n",
       "      <td>39.2975</td>\n",
       "      <td>-76.6193</td>\n",
       "      <td>(39.2975,-76.6193)</td>\n",
       "    </tr>\n",
       "    <tr>\n",
       "      <th>3</th>\n",
       "      <td>2021/12/11 21:05:00+00</td>\n",
       "      <td>4E</td>\n",
       "      <td>3700 ELMLEY AVE</td>\n",
       "      <td>COMMON ASSAULT</td>\n",
       "      <td>432</td>\n",
       "      <td>NORTHEAST</td>\n",
       "      <td>BELAIR-EDISON</td>\n",
       "      <td>39.3175</td>\n",
       "      <td>-76.5665</td>\n",
       "      <td>(39.3175,-76.5665)</td>\n",
       "    </tr>\n",
       "    <tr>\n",
       "      <th>4</th>\n",
       "      <td>2021/12/11 22:30:00+00</td>\n",
       "      <td>4E</td>\n",
       "      <td>1500 RAMSAY ST</td>\n",
       "      <td>COMMON ASSAULT</td>\n",
       "      <td>935</td>\n",
       "      <td>SOUTHERN</td>\n",
       "      <td>NEW SOUTHWEST/MOUNT CLARE</td>\n",
       "      <td>39.2834</td>\n",
       "      <td>-76.6407</td>\n",
       "      <td>(39.2834,-76.6407)</td>\n",
       "    </tr>\n",
       "    <tr>\n",
       "      <th>5</th>\n",
       "      <td>2021/12/11 23:40:00+00</td>\n",
       "      <td>4E</td>\n",
       "      <td>3600 KENYON AVE</td>\n",
       "      <td>COMMON ASSAULT</td>\n",
       "      <td>432</td>\n",
       "      <td>NORTHEAST</td>\n",
       "      <td>BELAIR-EDISON</td>\n",
       "      <td>39.3193</td>\n",
       "      <td>-76.5626</td>\n",
       "      <td>(39.3193,-76.5626)</td>\n",
       "    </tr>\n",
       "  </tbody>\n",
       "</table>\n",
       "</div>"
      ],
      "text/plain": [
       "            CrimeDateTime CrimeCode                  Location     Description  \\\n",
       "0  2021/12/11 09:56:00+00        4E  4300 LIBERTY HEIGHTS AVE  COMMON ASSAULT   \n",
       "1  2021/12/11 07:30:00+00        4E         200 W MONUMENT ST  COMMON ASSAULT   \n",
       "3  2021/12/11 21:05:00+00        4E           3700 ELMLEY AVE  COMMON ASSAULT   \n",
       "4  2021/12/11 22:30:00+00        4E            1500 RAMSAY ST  COMMON ASSAULT   \n",
       "5  2021/12/11 23:40:00+00        4E           3600 KENYON AVE  COMMON ASSAULT   \n",
       "\n",
       "  Post   District               Neighborhood  Latitude  Longitude  \\\n",
       "0  621  NORTHWEST                 DORCHESTER   39.3298   -76.6905   \n",
       "1  124    CENTRAL               MOUNT VERNON   39.2975   -76.6193   \n",
       "3  432  NORTHEAST              BELAIR-EDISON   39.3175   -76.5665   \n",
       "4  935   SOUTHERN  NEW SOUTHWEST/MOUNT CLARE   39.2834   -76.6407   \n",
       "5  432  NORTHEAST              BELAIR-EDISON   39.3193   -76.5626   \n",
       "\n",
       "          GeoLocation  \n",
       "0  (39.3298,-76.6905)  \n",
       "1  (39.2975,-76.6193)  \n",
       "3  (39.3175,-76.5665)  \n",
       "4  (39.2834,-76.6407)  \n",
       "5  (39.3193,-76.5626)  "
      ]
     },
     "execution_count": 17,
     "metadata": {},
     "output_type": "execute_result"
    }
   ],
   "source": [
    "# Lets remember what we have in this assault table\n",
    "assault_table.head()"
   ]
  },
  {
   "cell_type": "code",
   "execution_count": 18,
   "id": "arctic-cache",
   "metadata": {},
   "outputs": [
    {
     "name": "stderr",
     "output_type": "stream",
     "text": [
      "<ipython-input-18-bc4dc2b28fc5>:3: SettingWithCopyWarning: \n",
      "A value is trying to be set on a copy of a slice from a DataFrame.\n",
      "Try using .loc[row_indexer,col_indexer] = value instead\n",
      "\n",
      "See the caveats in the documentation: https://pandas.pydata.org/pandas-docs/stable/user_guide/indexing.html#returning-a-view-versus-a-copy\n",
      "  k_table['Year'] = [0] * 47938\n"
     ]
    }
   ],
   "source": [
    "# Create a dataframe for our k means clustering\n",
    "k_table = assault_table[['CrimeDateTime', 'Latitude', 'Longitude']]\n",
    "k_table['Year'] = [0] * 47938"
   ]
  },
  {
   "cell_type": "code",
   "execution_count": 19,
   "id": "adjacent-municipality",
   "metadata": {},
   "outputs": [
    {
     "name": "stderr",
     "output_type": "stream",
     "text": [
      "/opt/conda/lib/python3.8/site-packages/pandas/core/indexing.py:1763: SettingWithCopyWarning: \n",
      "A value is trying to be set on a copy of a slice from a DataFrame.\n",
      "Try using .loc[row_indexer,col_indexer] = value instead\n",
      "\n",
      "See the caveats in the documentation: https://pandas.pydata.org/pandas-docs/stable/user_guide/indexing.html#returning-a-view-versus-a-copy\n",
      "  isetter(loc, value)\n",
      "/opt/conda/lib/python3.8/site-packages/pandas/core/frame.py:4167: SettingWithCopyWarning: \n",
      "A value is trying to be set on a copy of a slice from a DataFrame\n",
      "\n",
      "See the caveats in the documentation: https://pandas.pydata.org/pandas-docs/stable/user_guide/indexing.html#returning-a-view-versus-a-copy\n",
      "  return super().drop(\n"
     ]
    },
    {
     "data": {
      "text/html": [
       "<div>\n",
       "<style scoped>\n",
       "    .dataframe tbody tr th:only-of-type {\n",
       "        vertical-align: middle;\n",
       "    }\n",
       "\n",
       "    .dataframe tbody tr th {\n",
       "        vertical-align: top;\n",
       "    }\n",
       "\n",
       "    .dataframe thead th {\n",
       "        text-align: right;\n",
       "    }\n",
       "</style>\n",
       "<table border=\"1\" class=\"dataframe\">\n",
       "  <thead>\n",
       "    <tr style=\"text-align: right;\">\n",
       "      <th></th>\n",
       "      <th>Latitude</th>\n",
       "      <th>Longitude</th>\n",
       "      <th>Year</th>\n",
       "    </tr>\n",
       "  </thead>\n",
       "  <tbody>\n",
       "    <tr>\n",
       "      <th>0</th>\n",
       "      <td>39.3298</td>\n",
       "      <td>-76.6905</td>\n",
       "      <td>2021</td>\n",
       "    </tr>\n",
       "    <tr>\n",
       "      <th>1</th>\n",
       "      <td>39.2975</td>\n",
       "      <td>-76.6193</td>\n",
       "      <td>2021</td>\n",
       "    </tr>\n",
       "    <tr>\n",
       "      <th>3</th>\n",
       "      <td>39.3175</td>\n",
       "      <td>-76.5665</td>\n",
       "      <td>2021</td>\n",
       "    </tr>\n",
       "    <tr>\n",
       "      <th>4</th>\n",
       "      <td>39.2834</td>\n",
       "      <td>-76.6407</td>\n",
       "      <td>2021</td>\n",
       "    </tr>\n",
       "    <tr>\n",
       "      <th>5</th>\n",
       "      <td>39.3193</td>\n",
       "      <td>-76.5626</td>\n",
       "      <td>2021</td>\n",
       "    </tr>\n",
       "  </tbody>\n",
       "</table>\n",
       "</div>"
      ],
      "text/plain": [
       "   Latitude  Longitude  Year\n",
       "0   39.3298   -76.6905  2021\n",
       "1   39.2975   -76.6193  2021\n",
       "3   39.3175   -76.5665  2021\n",
       "4   39.2834   -76.6407  2021\n",
       "5   39.3193   -76.5626  2021"
      ]
     },
     "execution_count": 19,
     "metadata": {},
     "output_type": "execute_result"
    }
   ],
   "source": [
    "# clean up our table and turn it all into numbers\n",
    "for i in k_table.index:\n",
    "    k_table.loc[i, 'Year'] = int(k_table.loc[i, 'CrimeDateTime'][:4])\n",
    "    k_table.loc[i, 'Latitude'] = float(k_table.loc[i, 'Latitude'])\n",
    "    k_table.loc[i, 'Longitude'] = float( k_table.loc[i, 'Longitude'])\n",
    "\n",
    "# Drop our old column\n",
    "k_table.drop(columns = ['CrimeDateTime'], inplace=True)\n",
    "\n",
    "# Display our dataframe\n",
    "k_table.head()"
   ]
  },
  {
   "cell_type": "markdown",
   "id": "attractive-christmas",
   "metadata": {},
   "source": [
    "We can use our domain knowledge in order to try to figure out what the optimal number of k clusters should be. For our intial run, lets try 278 k clusters as we know there are 278 neighborhoods in our data set. Also we will use 300 max iterations as a nice number that will not take too long but will still provide a good result."
   ]
  },
  {
   "cell_type": "code",
   "execution_count": 28,
   "id": "instant-patch",
   "metadata": {},
   "outputs": [
    {
     "data": {
      "text/plain": [
       "array([[ 0.86770458, -1.64738929,  1.52085429],\n",
       "       [-0.2617595 ,  0.01512981,  1.52085429],\n",
       "       [ 0.43759906,  1.24800913,  1.52085429],\n",
       "       ...,\n",
       "       [-0.45058631,  0.15055973, -1.47168815],\n",
       "       [-0.7513105 ,  0.61522448, -1.47168815],\n",
       "       [ 1.31529406,  0.66425945, -1.47168815]])"
      ]
     },
     "execution_count": 28,
     "metadata": {},
     "output_type": "execute_result"
    }
   ],
   "source": [
    "# Make our KMeans object\n",
    "kmeans = KMeans(\n",
    "    init=\"random\",\n",
    "    n_clusters=278,\n",
    "    max_iter=300)\n",
    "\n",
    "# Make our scaled featrues\n",
    "features = k_table.to_numpy()\n",
    "scaler = StandardScaler()\n",
    "scaled_features = scaler.fit_transform(features)\n",
    "scaled_features"
   ]
  },
  {
   "cell_type": "code",
   "execution_count": 29,
   "id": "affiliated-wrist",
   "metadata": {},
   "outputs": [
    {
     "data": {
      "text/plain": [
       "KMeans(init='random', n_clusters=278)"
      ]
     },
     "execution_count": 29,
     "metadata": {},
     "output_type": "execute_result"
    }
   ],
   "source": [
    "# Run kmeans\n",
    "kmeans.fit(scaled_features)"
   ]
  },
  {
   "cell_type": "code",
   "execution_count": 30,
   "id": "neural-junction",
   "metadata": {},
   "outputs": [
    {
     "data": {
      "text/plain": [
       "array([[ 1.56456348, -1.34476068,  0.32383731],\n",
       "       [-0.2235928 , -0.97960619,  1.52085429],\n",
       "       [ 1.08021421, -0.38680838, -0.27467117],\n",
       "       [-0.46312071, -0.062523  ,  1.52085429],\n",
       "       [ 0.12688404, -1.15646443, -0.27467117]])"
      ]
     },
     "execution_count": 30,
     "metadata": {},
     "output_type": "execute_result"
    }
   ],
   "source": [
    "# Lets see some of our clusters\n",
    "kmeans.cluster_centers_[:5]"
   ]
  },
  {
   "cell_type": "code",
   "execution_count": 31,
   "id": "loving-liverpool",
   "metadata": {},
   "outputs": [
    {
     "data": {
      "text/plain": [
       "array([172,   3,  74, 104,  74], dtype=int32)"
      ]
     },
     "execution_count": 31,
     "metadata": {},
     "output_type": "execute_result"
    }
   ],
   "source": [
    "# Output our labels\n",
    "kmeans.labels_[:5]"
   ]
  },
  {
   "cell_type": "code",
   "execution_count": 32,
   "id": "descending-korea",
   "metadata": {},
   "outputs": [],
   "source": [
    "# Make an answers list for every label we made\n",
    "ans = list()\n",
    "\n",
    "# Place every label we made into our answer list\n",
    "for i in range(0, len(kmeans.labels_)):\n",
    "    if kmeans.labels_[i] == 172:\n",
    "        ans.append(i)"
   ]
  },
  {
   "cell_type": "code",
   "execution_count": 33,
   "id": "affiliated-nepal",
   "metadata": {},
   "outputs": [
    {
     "data": {
      "text/plain": [
       "0.39"
      ]
     },
     "execution_count": 33,
     "metadata": {},
     "output_type": "execute_result"
    }
   ],
   "source": [
    "kmeans_silhouette = silhouette_score(\n",
    "    scaled_features, kmeans.labels_).round(2)\n",
    "kmeans_silhouette"
   ]
  },
  {
   "cell_type": "markdown",
   "id": "indoor-grocery",
   "metadata": {},
   "source": [
    "A silhouette score of 0.39 indicates that our k means isn't too bad, with a larger score indicating that points are closer to to their clusters than they are to other clusters."
   ]
  },
  {
   "cell_type": "markdown",
   "id": "limited-bangkok",
   "metadata": {},
   "source": [
    "However, we should still try and see if a better value for k exists for us, to do this we will run through the k values between 2 and 50 and see who has the best silhouette score. In the interest of time, we will only run 1 iteration per k value."
   ]
  },
  {
   "cell_type": "code",
   "execution_count": 35,
   "id": "naughty-eugene",
   "metadata": {},
   "outputs": [],
   "source": [
    "# silhouette score array\n",
    "silhouette_coef = []\n",
    "\n",
    "# for every k value from 2 to 278, run our k means and check the silhouette score\n",
    "for k in range(2, 50):  \n",
    "    kkmeans = KMeans(n_clusters=k, init=\"random\", max_iter=1)\n",
    "    kkmeans.fit(scaled_features)\n",
    "    score = silhouette_score(scaled_features, kkmeans.labels_)\n",
    "    silhouette_coef.append(score)"
   ]
  },
  {
   "cell_type": "code",
   "execution_count": 36,
   "id": "material-america",
   "metadata": {},
   "outputs": [
    {
     "data": {
      "image/png": "[encoded data removed]",
      "text/plain": [
       "<Figure size 432x288 with 1 Axes>"
      ]
     },
     "metadata": {},
     "output_type": "display_data"
    }
   ],
   "source": [
    "# plot our graph of the average silhouette coefficient scores\n",
    "plt.style.use(\"fivethirtyeight\")\n",
    "plt.plot(range(2, 50), silhouette_coef)\n",
    "plt.xlabel(\"Number of Clusters\")\n",
    "plt.ylabel(\"Silhouette Score\")\n",
    "plt.show()"
   ]
  },
  {
   "cell_type": "markdown",
   "id": "loving-television",
   "metadata": {},
   "source": [
    "Based on our graph of the silhouette coefficient the optimal number for k would be 8, with a value of 0.25, still short of our value of 0.39 with 278 clusters. Therefore, we can assume our k value should indeed be set to a value of 278 for optimal clustering."
   ]
  },
  {
   "cell_type": "code",
   "execution_count": 43,
   "id": "athletic-throw",
   "metadata": {},
   "outputs": [
    {
     "data": {
      "text/plain": [
       "KMeans(init='random')"
      ]
     },
     "execution_count": 43,
     "metadata": {},
     "output_type": "execute_result"
    }
   ],
   "source": [
    "# Make another k means with the same parameters as last time but this time with 8 clusters\n",
    "kkmeans = KMeans(n_clusters=8, init=\"random\", max_iter=300)\n",
    "kkmeans.fit(scaled_features)"
   ]
  },
  {
   "cell_type": "code",
   "execution_count": 44,
   "id": "simplified-porter",
   "metadata": {},
   "outputs": [
    {
     "data": {
      "text/plain": [
       "array([1, 7, 6, 1, 6], dtype=int32)"
      ]
     },
     "execution_count": 44,
     "metadata": {},
     "output_type": "execute_result"
    }
   ],
   "source": [
    "# Output our labels\n",
    "kkmeans.labels_[:5]"
   ]
  },
  {
   "cell_type": "code",
   "execution_count": 45,
   "id": "seven-planet",
   "metadata": {},
   "outputs": [],
   "source": [
    "# Make an answers list for every label we made\n",
    "ans = list()\n",
    "\n",
    "# Place every label we made into our answer list\n",
    "for i in range(0, len(kkmeans.labels_)):\n",
    "    if kkmeans.labels_[i] == 1:\n",
    "        ans.append(i)"
   ]
  },
  {
   "cell_type": "code",
   "execution_count": 49,
   "id": "engaging-slovenia",
   "metadata": {},
   "outputs": [
    {
     "data": {
      "text/plain": [
       "0.28"
      ]
     },
     "execution_count": 49,
     "metadata": {},
     "output_type": "execute_result"
    }
   ],
   "source": [
    "# Calculate the silhouette score for our new k means\n",
    "kkmeans_silhouette = silhouette_score(\n",
    "    scaled_features, kkmeans.labels_).round(2)\n",
    "# Output our silhouette score\n",
    "kkmeans_silhouette"
   ]
  },
  {
   "cell_type": "markdown",
   "id": "planned-surveillance",
   "metadata": {},
   "source": [
    " Running our new k means with 8 clusters and 300 max iterations we found the silhouette score to be 0.28, confirming that this value is not as effective as our previous k value of 278 at clustering our data."
   ]
  },
  {
   "cell_type": "markdown",
   "id": "analyzed-hanging",
   "metadata": {},
   "source": [
    "Today, we have explored some of the things you can do in the field of data science with baltimore crime data, but as you may have noticed this is only the tip of the iceberg. There is a lot more data in this file that can we utilized and played with, and many many files just like it all over the internet. There are also many more techniques in data science that could be used with this data to find and display many of the interesting details of this data to help inform or help people make smarter decisions using this data. And that is what data science is all about, helping people make better decisions using the data given. I emplore you to root around in this data and see what you can find on your own."
   ]
  }
 ],
 "metadata": {
  "kernelspec": {
   "display_name": "Python 3",
   "language": "python",
   "name": "python3"
  },
  "language_info": {
   "codemirror_mode": {
    "name": "ipython",
    "version": 3
   },
   "file_extension": ".py",
   "mimetype": "text/x-python",
   "name": "python",
   "nbconvert_exporter": "python",
   "pygments_lexer": "ipython3",
   "version": "3.8.6"
  }
 },
 "nbformat": 4,
 "nbformat_minor": 5
}
